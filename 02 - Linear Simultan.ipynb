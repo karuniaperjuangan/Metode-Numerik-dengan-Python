{
 "cells": [
  {
   "cell_type": "markdown",
   "id": "protecting-gentleman",
   "metadata": {
    "heading_collapsed": true
   },
   "source": [
    "# Import Packages"
   ]
  },
  {
   "cell_type": "code",
   "execution_count": 2,
   "id": "surgical-exhibit",
   "metadata": {
    "ExecuteTime": {
     "end_time": "2021-03-22T14:59:54.413786Z",
     "start_time": "2021-03-22T14:59:54.083743Z"
    },
    "hidden": true
   },
   "outputs": [],
   "source": [
    "import numpy as np\n",
    "import pandas as pd"
   ]
  },
  {
   "cell_type": "markdown",
   "id": "outstanding-sleeping",
   "metadata": {
    "heading_collapsed": true
   },
   "source": [
    "# Numpy Methods"
   ]
  },
  {
   "cell_type": "markdown",
   "id": "ecological-mainland",
   "metadata": {
    "heading_collapsed": true,
    "hidden": true
   },
   "source": [
    "## `np.linalg.solve(A, B)`"
   ]
  },
  {
   "cell_type": "code",
   "execution_count": 3,
   "id": "affecting-soviet",
   "metadata": {
    "ExecuteTime": {
     "end_time": "2021-03-22T14:59:54.451045Z",
     "start_time": "2021-03-22T14:59:54.415631Z"
    },
    "hidden": true
   },
   "outputs": [
    {
     "name": "stdout",
     "output_type": "stream",
     "text": [
      "[2.1111112  0.37037036 6.185185   4.3333335 ]\n"
     ]
    }
   ],
   "source": [
    "# AX = B\n",
    "A = np.array([[1, 1, 1, 1],\n",
    "              [2, 3, 0, -1],\n",
    "              [-3, 4, 1, 2],\n",
    "              [1, 2, -1, 1]], dtype=\"float32\")\n",
    "\n",
    "B = np.array([13, 1, 10, 1], dtype=\"float32\")\n",
    "\n",
    "X = np.linalg.solve(A, B)\n",
    "print(X)"
   ]
  },
  {
   "cell_type": "markdown",
   "id": "comparable-luxury",
   "metadata": {
    "heading_collapsed": true,
    "hidden": true
   },
   "source": [
    "## `np.linalg.inv(A)`"
   ]
  },
  {
   "cell_type": "code",
   "execution_count": 4,
   "id": "elder-musical",
   "metadata": {
    "ExecuteTime": {
     "end_time": "2021-03-22T14:59:54.592838Z",
     "start_time": "2021-03-22T14:59:54.454737Z"
    },
    "hidden": true
   },
   "outputs": [
    {
     "name": "stdout",
     "output_type": "stream",
     "text": [
      "[[ 0.3493976  -0.03614458  0.04819277]\n",
      " [-0.31325302  0.20481928  0.06024097]\n",
      " [-0.26506025  0.09638554  0.20481928]]\n"
     ]
    }
   ],
   "source": [
    "A = np.array([[3,  1, -1],\n",
    "              [4,  7, -3],\n",
    "              [2, -2,  5]], dtype=\"float32\")\n",
    "\n",
    "A_invers = np.linalg.inv(A)\n",
    "print(A_invers)"
   ]
  },
  {
   "cell_type": "markdown",
   "id": "emerging-postage",
   "metadata": {
    "heading_collapsed": true
   },
   "source": [
    "# Metode dari Materi"
   ]
  },
  {
   "cell_type": "markdown",
   "id": "mounted-twenty",
   "metadata": {
    "heading_collapsed": true,
    "hidden": true
   },
   "source": [
    "## Eliminasi Gauss"
   ]
  },
  {
   "cell_type": "code",
   "execution_count": 5,
   "id": "suburban-beverage",
   "metadata": {
    "ExecuteTime": {
     "end_time": "2021-03-22T14:59:54.685500Z",
     "start_time": "2021-03-22T14:59:54.609620Z"
    },
    "hidden": true
   },
   "outputs": [],
   "source": [
    "def Gauss(A, B, printStep=True):\n",
    "    size = B.size\n",
    "    matrix = np.concatenate((A, B.reshape(size, 1)), axis=1)\n",
    "    \n",
    "    for i in range(1, size):\n",
    "        if printStep:\n",
    "            print(\"step\", i, \"\\n\")\n",
    "            \n",
    "        rowBefore = matrix[i-1]/matrix[i-1, i-1] # depannya 1\n",
    "\n",
    "        for j in range(i, size):\n",
    "            matrix[j] -= (rowBefore*matrix[j, i-1])\n",
    "            if printStep:\n",
    "                print(matrix, \"\\n\")\n",
    "    \n",
    "    return matrix"
   ]
  },
  {
   "cell_type": "markdown",
   "id": "quick-springfield",
   "metadata": {
    "heading_collapsed": true,
    "hidden": true
   },
   "source": [
    "## Eliminasi Gauss-Jordan"
   ]
  },
  {
   "cell_type": "markdown",
   "id": "emerging-interaction",
   "metadata": {
    "heading_collapsed": true,
    "hidden": true
   },
   "source": [
    "### Dari Awal"
   ]
  },
  {
   "cell_type": "code",
   "execution_count": 6,
   "id": "plastic-breach",
   "metadata": {
    "ExecuteTime": {
     "end_time": "2021-03-22T14:59:54.817128Z",
     "start_time": "2021-03-22T14:59:54.691216Z"
    },
    "hidden": true
   },
   "outputs": [],
   "source": [
    "def GaussJordan(A, B, printStep=False, showInv=False, showB=True):\n",
    "    size = B.size\n",
    "    matrix = A\n",
    "    if showB:\n",
    "        matrix = np.concatenate((A, B.reshape(size, 1)), axis=1)\n",
    "    if showInv:\n",
    "        identity = np.identity(size, dtype=\"float32\")\n",
    "        matrix = np.concatenate((matrix, identity), axis=1)\n",
    "    \n",
    "    for i in range(0, size):\n",
    "        if printStep:\n",
    "            print(\"step\", i+1, \"\\n\")\n",
    "            \n",
    "        matrix[i] /= matrix[i, i]\n",
    "\n",
    "        for j in range(0, size):\n",
    "            if i == j:\n",
    "                continue\n",
    "                \n",
    "            matrix[j] -= matrix[i] * matrix[j, i]\n",
    "            if printStep:\n",
    "                print(matrix, \"\\n\")\n",
    "        \n",
    "    return matrix"
   ]
  },
  {
   "cell_type": "markdown",
   "id": "driving-portsmouth",
   "metadata": {
    "heading_collapsed": true,
    "hidden": true
   },
   "source": [
    "### Lanjutan Eliminasi Gauss"
   ]
  },
  {
   "cell_type": "code",
   "execution_count": 7,
   "id": "lightweight-bishop",
   "metadata": {
    "ExecuteTime": {
     "end_time": "2021-03-22T14:59:54.960194Z",
     "start_time": "2021-03-22T14:59:54.832628Z"
    },
    "hidden": true
   },
   "outputs": [],
   "source": [
    "def GaussJordan2(A, B, printStep=False, showInv=False, showB=True):\n",
    "    size = B.size\n",
    "    matrix = A\n",
    "    if showB:\n",
    "        matrix = np.concatenate((A, B.reshape(size, 1)), axis=1)\n",
    "    if showInv:\n",
    "        identity = np.identity(size, dtype=\"float32\")\n",
    "        matrix = np.concatenate((matrix, identity), axis=1)\n",
    "\n",
    "    for i in range(1, size):\n",
    "        if printStep:\n",
    "            print(\"step\", i, \"\\n\")\n",
    "            \n",
    "        rowBefore = matrix[i-1]/matrix[i-1, i-1]  # depannya 1\n",
    "\n",
    "        for j in range(i, size):\n",
    "            matrix[j] -= (rowBefore*matrix[j, i-1])\n",
    "            if printStep:\n",
    "                print(matrix, \"\\n\")\n",
    "    \n",
    "    for i in range(size-1, -1, -1):\n",
    "        if printStep:\n",
    "            print(\"step backward\", i, \"\\n\")\n",
    "            \n",
    "        matrix[i] /= matrix[i, i]\n",
    "        for j in range(size-1, -1, -1):\n",
    "            if i == j:\n",
    "                continue\n",
    "            matrix[j] -= matrix[i]*matrix[j, i]\n",
    "            if printStep:\n",
    "                print(matrix, \"\\n\")\n",
    "                \n",
    "            \n",
    "    return matrix"
   ]
  },
  {
   "cell_type": "markdown",
   "id": "sustainable-facility",
   "metadata": {
    "heading_collapsed": true,
    "hidden": true
   },
   "source": [
    "## Iterasi - Jacobi"
   ]
  },
  {
   "cell_type": "code",
   "execution_count": 8,
   "id": "athletic-romance",
   "metadata": {
    "ExecuteTime": {
     "end_time": "2021-03-22T14:59:55.139547Z",
     "start_time": "2021-03-22T14:59:54.975901Z"
    },
    "hidden": true
   },
   "outputs": [],
   "source": [
    "# AX = B\n",
    "def Jacobi(A, B, X_before, es=0.005, iter=1, printStep=False):\n",
    "    size = B.size\n",
    "    X = np.zeros(size)\n",
    "    RAE = np.zeros(size)\n",
    "\n",
    "    # iterasi X -> x1, x2, x3, dst... || x, y, z, dst...\n",
    "    for i in range(0, size):\n",
    "        X[i] = B[i]\n",
    "        for j in range(0, size):\n",
    "            if i != j:\n",
    "                X[i] -= A[i, j]*X_before[j]\n",
    "        X[i] /= A[i, i]\n",
    "\n",
    "    for i in range(0, size):\n",
    "        RAE[i] = abs((X[i] - X_before[i])/X[i])\n",
    "        \n",
    "    if printStep:\n",
    "        print(\"\\niter\", iter)\n",
    "        print(\"X   \", X)\n",
    "        print(\"RAE \", RAE)\n",
    "\n",
    "    if np.all(RAE < es) or iter > 100:\n",
    "        return X\n",
    "\n",
    "    return Jacobi(A, B, X, es, iter+1, printStep)"
   ]
  },
  {
   "cell_type": "markdown",
   "id": "correct-instrumentation",
   "metadata": {
    "heading_collapsed": true,
    "hidden": true
   },
   "source": [
    "## Iterasi - Gauss-Seidel"
   ]
  },
  {
   "cell_type": "code",
   "execution_count": 9,
   "id": "available-picnic",
   "metadata": {
    "ExecuteTime": {
     "end_time": "2021-03-22T14:59:55.229107Z",
     "start_time": "2021-03-22T14:59:55.147747Z"
    },
    "hidden": true
   },
   "outputs": [],
   "source": [
    "# AX = B\n",
    "def GaussSeidel(A, B, X_before, es=0.005, iter=1, printStep=False):\n",
    "    size = B.size\n",
    "    X = np.zeros(size)\n",
    "    RAE = np.zeros(size)\n",
    "    X_new = X_before.copy()                # bedanya ini\n",
    "\n",
    "    # iterasi X -> x1, x2, x3, dst... || x, y, z, dst...\n",
    "    for i in range(0, size):\n",
    "        X[i] = B[i]\n",
    "        for j in range(0, size):\n",
    "            if i != j:\n",
    "                X[i] -= A[i, j]*X_new[j]   # ini\n",
    "        X[i] /= A[i, i]\n",
    "        X_new[i] = X[i]                    # dan ini\n",
    "\n",
    "    for i in range(0, size):\n",
    "        RAE[i] = abs((X[i] - X_before[i])/X[i])\n",
    "\n",
    "    if printStep:\n",
    "        print(\"\\niter\", iter)\n",
    "        print(\"X   \", X)\n",
    "        print(\"RAE \", RAE)\n",
    "\n",
    "    if np.all(RAE < es) or iter > 100:\n",
    "        return X\n",
    "\n",
    "    return GaussSeidel(A, B, X, es, iter+1, printStep)"
   ]
  },
  {
   "cell_type": "markdown",
   "id": "fabulous-thousand",
   "metadata": {},
   "source": [
    "# Driver Code\n",
    "\n",
    "- **Gauss**\n",
    "  ```py\n",
    "  result = Gauss(A, B, printStep=True)\n",
    "  ```\n",
    "\n",
    "- **Gauss Jordan (dari awal)** | urutan: A B A_inv | result bukan untuk invers\n",
    "  ```py\n",
    "  resultMatrix = GaussJordan(A, B, printStep=True, showInv=False, showB=True)\n",
    "  result = resultMatrix[:, -1]\n",
    "  ```\n",
    "\n",
    "- **Gauss Jordan (lanjutan gauss)** | urutan A B A_inv | result bukan untuk invers\n",
    "  ```py\n",
    "  resultMatrix = GaussJordan2(A, B, printStep=True, showInv=False, showB=True)\n",
    "  result = resultMatrix[:, -1]\n",
    "  ```\n",
    "  \n",
    "- **Jacobi**\n",
    "  ```py\n",
    "  # X0 => terkaan awal\n",
    "  X0 = np.array([0, 0, 0], dtype=\"float32\")\n",
    "  result = Jacobi(A, B, X0, es=0.005, printStep=True)\n",
    "  ```\n",
    "  \n",
    "- **Gauss Seidel**\n",
    "  ```py\n",
    "  # X0 => terkaan awal\n",
    "  X0 = np.array([0, 0, 0], dtype=\"float32\")\n",
    "  result = GaussSeidel(A, B, X0, es=0.005, printStep=True)\n",
    "  ```"
   ]
  },
  {
   "cell_type": "code",
   "execution_count": 16,
   "id": "confirmed-solid",
   "metadata": {
    "ExecuteTime": {
     "end_time": "2021-03-22T15:37:34.336174Z",
     "start_time": "2021-03-22T15:37:34.292297Z"
    },
    "scrolled": false
   },
   "outputs": [
    {
     "name": "stdout",
     "output_type": "stream",
     "text": [
      "\n",
      "iter 1\n",
      "X    [ 2.125       0.59375    -1.1328125  -0.20507812]\n",
      "RAE  [1. 1. 1. 1.]\n",
      "\n",
      "iter 2\n",
      "X    [ 2.234375    0.82397461 -1.12542725 -0.23283386]\n",
      "RAE  [0.04895105 0.27940741 0.00656218 0.11920834]\n",
      "\n",
      "iter 3\n",
      "X    [ 2.30673218  0.80056953 -1.1035924  -0.2773968 ]\n",
      "RAE  [0.03136783 0.02923553 0.01978525 0.1606469 ]\n",
      "\n",
      "iter 4\n",
      "X    [ 2.32589173  0.78475057 -1.08610198 -0.29332655]\n",
      "RAE  [0.00823751 0.02015796 0.01610385 0.05430723]\n",
      "\n",
      "iter 5\n",
      "X    [ 2.33208817  0.77683763 -1.07936675 -0.29909769]\n",
      "RAE  [0.00265703 0.01018608 0.00623998 0.01929517]\n",
      "\n",
      "result\n",
      "[ 2.33208817  0.77683763 -1.07936675 -0.29909769]\n"
     ]
    }
   ],
   "source": [
    "A = np.array([[8, -2, -1, 4],\n",
    "             [2, 8, 2, -1],\n",
    "             [-1, 2, 8, 2],\n",
    "             [4, -1, 2, 8]], dtype=\"float32\")\n",
    "\n",
    "B = np.array([17, 9, -10, 4], dtype=\"float32\")\n",
    "\n",
    "# copy here\n",
    "# X0 => terkaan awal\n",
    "X0 = np.array([0, 0, 0, 0], dtype=\"float32\")\n",
    "result = GaussSeidel(A, B, X0, es=0.05, printStep=True)\n",
    "# end of copy here\n",
    "\n",
    "# print(np.linalg.solve(A, B))\n",
    "\n",
    "print(\"\\nresult\", result, sep=\"\\n\")"
   ]
  },
  {
   "cell_type": "code",
   "execution_count": null,
   "id": "internal-celtic",
   "metadata": {},
   "outputs": [],
   "source": []
  },
  {
   "cell_type": "code",
   "execution_count": null,
   "id": "formal-average",
   "metadata": {},
   "outputs": [],
   "source": []
  }
 ],
 "metadata": {
  "kernelspec": {
   "display_name": "Python 3",
   "language": "python",
   "name": "python3"
  },
  "language_info": {
   "codemirror_mode": {
    "name": "ipython",
    "version": 3
   },
   "file_extension": ".py",
   "mimetype": "text/x-python",
   "name": "python",
   "nbconvert_exporter": "python",
   "pygments_lexer": "ipython3",
   "version": "3.8.6"
  },
  "toc": {
   "base_numbering": 1,
   "nav_menu": {},
   "number_sections": true,
   "sideBar": true,
   "skip_h1_title": false,
   "title_cell": "Table of Contents",
   "title_sidebar": "Contents",
   "toc_cell": false,
   "toc_position": {
    "height": "calc(100% - 180px)",
    "left": "10px",
    "top": "150px",
    "width": "273.188px"
   },
   "toc_section_display": true,
   "toc_window_display": false
  },
  "varInspector": {
   "cols": {
    "lenName": 16,
    "lenType": 16,
    "lenVar": 40
   },
   "kernels_config": {
    "python": {
     "delete_cmd_postfix": "",
     "delete_cmd_prefix": "del ",
     "library": "var_list.py",
     "varRefreshCmd": "print(var_dic_list())"
    },
    "r": {
     "delete_cmd_postfix": ") ",
     "delete_cmd_prefix": "rm(",
     "library": "var_list.r",
     "varRefreshCmd": "cat(var_dic_list()) "
    }
   },
   "types_to_exclude": [
    "module",
    "function",
    "builtin_function_or_method",
    "instance",
    "_Feature"
   ],
   "window_display": false
  }
 },
 "nbformat": 4,
 "nbformat_minor": 5
}
