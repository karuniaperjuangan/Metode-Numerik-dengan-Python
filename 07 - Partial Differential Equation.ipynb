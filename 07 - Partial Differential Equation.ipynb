{
 "cells": [
  {
   "cell_type": "code",
   "execution_count": 7,
   "id": "mechanical-canvas",
   "metadata": {
    "ExecuteTime": {
     "end_time": "2021-05-31T04:18:22.616814Z",
     "start_time": "2021-05-31T04:18:22.613979Z"
    }
   },
   "outputs": [],
   "source": [
    "import numpy as np\n",
    "import pandas as pd"
   ]
  },
  {
   "cell_type": "markdown",
   "id": "hollywood-century",
   "metadata": {
    "heading_collapsed": true
   },
   "source": [
    "# Draft Elips"
   ]
  },
  {
   "cell_type": "code",
   "execution_count": null,
   "id": "cardiovascular-logging",
   "metadata": {
    "hidden": true
   },
   "outputs": [],
   "source": [
    "#    t1 t2 .. tn\n",
    "# l1 xx xx    xx r1\n",
    "# l2 xx xx    xx r2\n",
    "# ..\n",
    "# lm xx xx    xx rm\n",
    "#    b1 b2    bn\n",
    "\n",
    "# row => m\n",
    "# col => n"
   ]
  },
  {
   "cell_type": "code",
   "execution_count": 12,
   "id": "driving-birth",
   "metadata": {
    "ExecuteTime": {
     "end_time": "2021-05-31T04:21:09.141965Z",
     "start_time": "2021-05-31T04:21:09.132850Z"
    },
    "hidden": true
   },
   "outputs": [],
   "source": [
    "m = 1\n",
    "n = 2\n",
    "\n",
    "# kalo nilainya sama pake ini\n",
    "t = np.full(n, 5)\n",
    "r = np.full(m, 55)\n",
    "b = np.full(n, 25)\n",
    "l = np.full(m, 30)"
   ]
  },
  {
   "cell_type": "code",
   "execution_count": 14,
   "id": "adverse-yahoo",
   "metadata": {
    "ExecuteTime": {
     "end_time": "2021-05-31T04:23:17.564892Z",
     "start_time": "2021-05-31T04:23:17.550107Z"
    },
    "hidden": true
   },
   "outputs": [
    {
     "data": {
      "text/plain": [
       "array([[0., 0., 0., 0.],\n",
       "       [0., 0., 0., 0.],\n",
       "       [0., 0., 0., 0.]])"
      ]
     },
     "execution_count": 14,
     "metadata": {},
     "output_type": "execute_result"
    }
   ],
   "source": [
    "matrix = np.zeros((m+2, n+2))\n",
    "matrix"
   ]
  },
  {
   "cell_type": "markdown",
   "id": "hourly-license",
   "metadata": {},
   "source": [
    "# Parabola"
   ]
  },
  {
   "cell_type": "code",
   "execution_count": 94,
   "id": "automated-renaissance",
   "metadata": {
    "ExecuteTime": {
     "end_time": "2021-05-31T13:36:23.118044Z",
     "start_time": "2021-05-31T13:36:23.110314Z"
    }
   },
   "outputs": [],
   "source": [
    "# misal kasus\n",
    "# 150 ? ? ? 75\n",
    "\n",
    "# env = suhu lingkungan (suhu awal)\n",
    "# l   = suhu kiri\n",
    "# r   = suhu kanan\n",
    "# I   = ? ada ...\n",
    "# J   = sampai j ke-...\n",
    "# q   = lambda"
   ]
  },
  {
   "cell_type": "markdown",
   "id": "occupied-typing",
   "metadata": {},
   "source": [
    "## Metode Eksplisit\n",
    "\n",
    "Menghitung masa depan dari masa lalu"
   ]
  },
  {
   "cell_type": "code",
   "execution_count": 87,
   "id": "mounted-criterion",
   "metadata": {
    "ExecuteTime": {
     "end_time": "2021-05-31T13:04:40.139609Z",
     "start_time": "2021-05-31T13:04:40.089334Z"
    }
   },
   "outputs": [
    {
     "data": {
      "text/plain": [
       "array([150.      ,  44.13194 ,  26.220144,  32.652775,  75.      ],\n",
       "      dtype=float32)"
      ]
     },
     "execution_count": 87,
     "metadata": {},
     "output_type": "execute_result"
    }
   ],
   "source": [
    "def IterateExplicitParabol(Tj, j, I, J, q):    \n",
    "    Tjj = Tj.copy()\n",
    "    \n",
    "    for i in range(1, I+1):\n",
    "        Tjj[i] = Tj[i] + q*(Tj[i-1] - 2*Tj[i] + Tj[i+1])\n",
    "        \n",
    "    if j < J:\n",
    "        return IterateExplicitParabol(Tjj, j+1, I, J, q)\n",
    "    \n",
    "    return Tjj\n",
    "    \n",
    "\n",
    "def ExplicitParabol(env, l, r, I, J, q):\n",
    "    Tj0 = np.concatenate((l, np.full(I, env), r), axis=None, dtype=\"float32\")\n",
    "    \n",
    "    return IterateExplicitParabol(Tj0, 1, I, J, q)\n",
    "\n",
    "\n",
    "ExplicitParabol(env=25, l=150, r=75, I=3, J=2, q=0.0835)"
   ]
  },
  {
   "cell_type": "markdown",
   "id": "external-article",
   "metadata": {},
   "source": [
    "## Metode Implisit"
   ]
  },
  {
   "cell_type": "code",
   "execution_count": 99,
   "id": "biblical-dover",
   "metadata": {
    "ExecuteTime": {
     "end_time": "2021-05-31T13:39:32.501658Z",
     "start_time": "2021-05-31T13:39:32.471679Z"
    }
   },
   "outputs": [
    {
     "data": {
      "text/plain": [
       "array([150.      ,  41.84027 ,  27.472544,  31.875557,  75.      ],\n",
       "      dtype=float32)"
      ]
     },
     "execution_count": 99,
     "metadata": {},
     "output_type": "execute_result"
    }
   ],
   "source": [
    "def CreateMatrixImplicitParabol(T, q):\n",
    "    I = T.size\n",
    "    A = np.zeros((I, I))\n",
    "    B = np.zeros(I)\n",
    "    \n",
    "    for i in range(1, I-1):\n",
    "        B[i] += T[i]\n",
    "        \n",
    "        if i == 1:\n",
    "            B[i] += q*T[i-1]\n",
    "        else:\n",
    "            A[i, i-1] = -q\n",
    "            \n",
    "        A[i, i] = 1 + 2*q\n",
    "            \n",
    "        if i+2 == I:\n",
    "            B[i] += q*T[i+1]\n",
    "        else:\n",
    "            A[i, i+1] = -q\n",
    "            \n",
    "    return [A[1:I-1, 1:I-1], B[1:I-1]]\n",
    "\n",
    "\n",
    "def IterateImplicitParabol(Tj, j, J, q):\n",
    "    A, B = CreateMatrixImplicitParabol(Tj, q)\n",
    "    X = np.linalg.solve(A, B)\n",
    "    \n",
    "    Tjj = np.concatenate((Tj[0], X, Tj[-1]), axis=None, dtype=\"float32\")\n",
    "    \n",
    "    if j < J:\n",
    "        return IterateImplicitParabol(Tjj, j+1, J, q)\n",
    "    \n",
    "    return Tjj    \n",
    "    \n",
    "\n",
    "def ImplicitParabol(env, l, r, I, J, q):\n",
    "    Tj0 = np.concatenate((l, np.full(I, env), r), axis=None, dtype=\"float32\")    \n",
    "    \n",
    "    return IterateImplicitParabol(Tj0, 1, J, q)\n",
    "\n",
    "\n",
    "ImplicitParabol(env=25, l=150, r=75, I=3, J=2, q=0.0835)"
   ]
  },
  {
   "cell_type": "markdown",
   "id": "understood-preserve",
   "metadata": {},
   "source": [
    "## Metode Crank-Nicolson"
   ]
  },
  {
   "cell_type": "code",
   "execution_count": 98,
   "id": "brutal-motor",
   "metadata": {
    "ExecuteTime": {
     "end_time": "2021-05-31T13:39:26.372811Z",
     "start_time": "2021-05-31T13:39:26.337246Z"
    }
   },
   "outputs": [
    {
     "data": {
      "text/plain": [
       "array([150.     ,  42.89295,  26.92991,  32.22404,  75.     ],\n",
       "      dtype=float32)"
      ]
     },
     "execution_count": 98,
     "metadata": {},
     "output_type": "execute_result"
    }
   ],
   "source": [
    "def CreateMatrixCrankNicolson(T, q):\n",
    "    I = T.size\n",
    "    A = np.zeros((I, I))\n",
    "    B = np.zeros(I)\n",
    "    \n",
    "    for i in range(1, I-1):\n",
    "        B[i] += q*T[i-1] + 2*(1-q)*T[i] + q*T[i+1]\n",
    "        \n",
    "        if i == 1:\n",
    "            B[i] += q*T[i-1]\n",
    "        else:\n",
    "            A[i, i-1] = -q\n",
    "            \n",
    "        A[i, i] = 2 + 2*q\n",
    "            \n",
    "        if i+2 == I:\n",
    "            B[i] += q*T[i+1]\n",
    "        else:\n",
    "            A[i, i+1] = -q\n",
    "            \n",
    "    return [A[1:I-1, 1:I-1], B[1:I-1]]\n",
    "\n",
    "\n",
    "def IterateCrankNicolson(Tj, j, J, q):\n",
    "    A, B = CreateMatrixCrankNicolson(Tj, q)\n",
    "    X = np.linalg.solve(A, B)\n",
    "    \n",
    "    Tjj = np.concatenate((Tj[0], X, Tj[-1]), axis=None, dtype=\"float32\")\n",
    "    \n",
    "    if j < J:\n",
    "        return IterateCrankNicolson(Tjj, j+1, J, q)\n",
    "    \n",
    "    return Tjj    \n",
    "\n",
    "\n",
    "def CrankNicolson(env, l, r, I, J, q):\n",
    "    Tj0 = np.concatenate((l, np.full(I, env), r), axis=None, dtype=\"float32\")    \n",
    "    \n",
    "    return IterateCrankNicolson(Tj0, 1, J, q)\n",
    "\n",
    "\n",
    "CrankNicolson(env=25, l=150, r=75, I=3, J=2, q=0.0835)"
   ]
  }
 ],
 "metadata": {
  "kernelspec": {
   "display_name": "Python 3",
   "language": "python",
   "name": "python3"
  },
  "language_info": {
   "codemirror_mode": {
    "name": "ipython",
    "version": 3
   },
   "file_extension": ".py",
   "mimetype": "text/x-python",
   "name": "python",
   "nbconvert_exporter": "python",
   "pygments_lexer": "ipython3",
   "version": "3.8.6"
  },
  "toc": {
   "base_numbering": 1,
   "nav_menu": {},
   "number_sections": true,
   "sideBar": true,
   "skip_h1_title": false,
   "title_cell": "Table of Contents",
   "title_sidebar": "Contents",
   "toc_cell": false,
   "toc_position": {},
   "toc_section_display": true,
   "toc_window_display": false
  },
  "varInspector": {
   "cols": {
    "lenName": 16,
    "lenType": 16,
    "lenVar": 40
   },
   "kernels_config": {
    "python": {
     "delete_cmd_postfix": "",
     "delete_cmd_prefix": "del ",
     "library": "var_list.py",
     "varRefreshCmd": "print(var_dic_list())"
    },
    "r": {
     "delete_cmd_postfix": ") ",
     "delete_cmd_prefix": "rm(",
     "library": "var_list.r",
     "varRefreshCmd": "cat(var_dic_list()) "
    }
   },
   "types_to_exclude": [
    "module",
    "function",
    "builtin_function_or_method",
    "instance",
    "_Feature"
   ],
   "window_display": false
  }
 },
 "nbformat": 4,
 "nbformat_minor": 5
}
