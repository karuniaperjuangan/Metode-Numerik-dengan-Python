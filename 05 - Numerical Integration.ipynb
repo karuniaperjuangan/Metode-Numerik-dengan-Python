{
 "cells": [
  {
   "cell_type": "code",
   "execution_count": 43,
   "id": "adjusted-navigator",
   "metadata": {
    "ExecuteTime": {
     "end_time": "2021-04-13T10:02:28.941933Z",
     "start_time": "2021-04-13T10:02:28.935412Z"
    }
   },
   "outputs": [],
   "source": [
    "import numpy as np\n",
    "import pandas as pd"
   ]
  },
  {
   "cell_type": "code",
   "execution_count": 28,
   "id": "going-lobby",
   "metadata": {
    "ExecuteTime": {
     "end_time": "2021-04-13T09:54:47.811979Z",
     "start_time": "2021-04-13T09:54:47.802759Z"
    }
   },
   "outputs": [],
   "source": [
    "# guide: contoh2 nulis rumus f(x)\n",
    "\n",
    "# rumus: f(x) = sin(x)\n",
    "# code: np.sin(x)\n",
    "\n",
    "# rumus: f(x) = e^x\n",
    "# code: np.exp(x)\n",
    "\n",
    "# rumus: f(x) = 2x^2 - 9x + 1\n",
    "# code: 2*(x**2) - 9*x + 1\n",
    "\n",
    "# rumus: f(x) = 2*pi*x\n",
    "# code: 2*np.pi*x"
   ]
  },
  {
   "cell_type": "markdown",
   "id": "promising-guyana",
   "metadata": {},
   "source": [
    "# Trapezoidal Rule\n",
    "\n",
    "$I = \\int_{a}^{b} f(x) dx \\cong \\underbrace{(b-a)}_{\\text{width}} \\underbrace{\\big( \\frac{f(x_0)+2\\sum_{i=1}^{n-1}f(x_i)+f(x_n)}{2n} \\big)}_{\\text{average height}}$"
   ]
  },
  {
   "cell_type": "markdown",
   "id": "vanilla-milton",
   "metadata": {
    "ExecuteTime": {
     "end_time": "2021-04-11T13:23:25.791308Z",
     "start_time": "2021-04-11T13:23:25.783579Z"
    }
   },
   "source": [
    "## Trapezodial with Equation"
   ]
  },
  {
   "cell_type": "code",
   "execution_count": 44,
   "id": "swedish-assets",
   "metadata": {
    "ExecuteTime": {
     "end_time": "2021-04-13T10:02:35.211405Z",
     "start_time": "2021-04-13T10:02:35.186523Z"
    }
   },
   "outputs": [
    {
     "name": "stdout",
     "output_type": "stream",
     "text": [
      "        x    f(x)   2f(x)\n",
      "0  3.1416 -0.0000 -0.0000\n",
      "1  3.9270 -0.7071 -1.4142\n",
      "2  4.7124 -1.0000 -2.0000\n",
      "3  5.4978 -0.7071 -1.4142\n",
      "4  6.2832  0.0000  0.0000\n"
     ]
    },
    {
     "data": {
      "text/plain": [
       "-1.8961188196319512"
      ]
     },
     "execution_count": 44,
     "metadata": {},
     "output_type": "execute_result"
    }
   ],
   "source": [
    "def Trapezodial(f, a, b, n, printTable=False):\n",
    "    X = np.linspace(start=a, stop=b, num=n+1, dtype=\"float32\")\n",
    "    Y = f(X)\n",
    "\n",
    "    if printTable:\n",
    "        print(pd.DataFrame({\n",
    "            \"x\": X,\n",
    "            \"f(x)\": Y,\n",
    "            \"2f(x)\": 2*Y\n",
    "        }).round(4))\n",
    "    \n",
    "    width = b - a\n",
    "    avgHeight = (2 * np.sum(Y) - Y[0] - Y[-1])/(2*n)\n",
    "    return width * avgHeight\n",
    "\n",
    "\n",
    "def f(x):\n",
    "    return np.sin(x)\n",
    "\n",
    "\n",
    "Trapezodial(f, a=np.pi, b=2*np.pi, n=4, printTable=True)"
   ]
  },
  {
   "cell_type": "markdown",
   "id": "inclusive-involvement",
   "metadata": {
    "heading_collapsed": true
   },
   "source": [
    "## Trapezodial with Data Table"
   ]
  },
  {
   "cell_type": "code",
   "execution_count": 68,
   "id": "clinical-restoration",
   "metadata": {
    "ExecuteTime": {
     "end_time": "2021-04-11T16:37:39.565439Z",
     "start_time": "2021-04-11T16:37:39.537281Z"
    },
    "hidden": true
   },
   "outputs": [
    {
     "data": {
      "text/plain": [
       "371.0000240802765"
      ]
     },
     "execution_count": 68,
     "metadata": {},
     "output_type": "execute_result"
    }
   ],
   "source": [
    "def TrapezodialWithDataTable(Y, a, b):\n",
    "    n = Y.size - 1\n",
    "    \n",
    "    width = b - a\n",
    "    avgHeight = (2 * np.sum(Y) - Y[0] - Y[-1])/(2*n)\n",
    "    return width * avgHeight\n",
    "\n",
    "\n",
    "Y = np.array([3.8, 4.5, 6.2, 7.0, 7.5, 6.9, 6.2], dtype=\"float32\")\n",
    "\n",
    "TrapezodialWithDataTable(Y, a=0, b=60)"
   ]
  },
  {
   "cell_type": "markdown",
   "id": "cardiovascular-melissa",
   "metadata": {},
   "source": [
    "# Simpson's Rule"
   ]
  },
  {
   "cell_type": "markdown",
   "id": "natural-debate",
   "metadata": {},
   "source": [
    "## Simpson's 1/3 Rule\n",
    "\n",
    "$I = \\int_{a}^{b} f(x) dx \\cong \\underbrace{(b-a)}_{\\text{width}} \\underbrace{\\big( \\frac{f(x_0)+4f(x_1)+f(x_2)}{6} \\big)}_{\\text{average height}}$"
   ]
  },
  {
   "cell_type": "code",
   "execution_count": 45,
   "id": "experimental-nomination",
   "metadata": {
    "ExecuteTime": {
     "end_time": "2021-04-13T10:02:47.687007Z",
     "start_time": "2021-04-13T10:02:47.656314Z"
    }
   },
   "outputs": [
    {
     "name": "stdout",
     "output_type": "stream",
     "text": [
      "        x  f(x)  4f(x)\n",
      "0  3.1416   0.0    0.0\n",
      "1  4.7124  -1.0   -4.0\n",
      "2  6.2832  -0.0   -0.0\n"
     ]
    },
    {
     "data": {
      "text/plain": [
       "-2.0943951023931953"
      ]
     },
     "execution_count": 45,
     "metadata": {},
     "output_type": "execute_result"
    }
   ],
   "source": [
    "def Simpson13(f, a, b, printTable=False):\n",
    "    X = np.linspace(a, b, 3)\n",
    "    \n",
    "    if printTable:\n",
    "        Y = f(X)\n",
    "        print(pd.DataFrame({\n",
    "            \"x\": X,\n",
    "            \"f(x)\": Y,\n",
    "            \"2f(x)\": 2*Y\n",
    "            \"4f(x)\": 4*Y\n",
    "        }).round(4))\n",
    "    \n",
    "    width = b - a\n",
    "    avgHeight = (f(X[0]) + 4*f(X[1]) + f(X[2]))/6\n",
    "    return width * avgHeight\n",
    "\n",
    "\n",
    "def f(x):\n",
    "    return np.sin(x)\n",
    "\n",
    "\n",
    "Simpson13(f, a=np.pi, b=2*np.pi, printTable=True)"
   ]
  },
  {
   "cell_type": "markdown",
   "id": "solid-tracker",
   "metadata": {},
   "source": [
    "## Multiple-Application Simpson’s 1/3 Rule\n",
    "\n",
    "$I = \\int_{a}^{b} f(x) dx \\cong \\underbrace{(b-a)}_{\\text{width}} \\underbrace{\\big( \\frac{f(x_0)+4f(x_1)+2f(x_2)+...+2f(x_{n-2})+4f(x_{n-1})+f(x_n)}{3n} \\big)}_{\\text{average height}}$\n",
    "\n",
    "**Note: n harus bilangan genap**"
   ]
  },
  {
   "cell_type": "code",
   "execution_count": 46,
   "id": "shared-tyler",
   "metadata": {
    "ExecuteTime": {
     "end_time": "2021-04-13T10:03:13.429882Z",
     "start_time": "2021-04-13T10:03:13.401816Z"
    }
   },
   "outputs": [
    {
     "name": "stdout",
     "output_type": "stream",
     "text": [
      "        x    f(x)   2f(x)   4f(x)\n",
      "0  3.1416  0.0000  0.0000  0.0000\n",
      "1  3.9270 -0.7071 -1.4142 -2.8284\n",
      "2  4.7124 -1.0000 -2.0000 -4.0000\n",
      "3  5.4978 -0.7071 -1.4142 -2.8284\n",
      "4  6.2832 -0.0000 -0.0000 -0.0000\n"
     ]
    },
    {
     "data": {
      "text/plain": [
       "-2.004559754984421"
      ]
     },
     "execution_count": 46,
     "metadata": {},
     "output_type": "execute_result"
    }
   ],
   "source": [
    "def Simpson13M(f, a, b, n, printTable=False):\n",
    "    if n % 2 != 0:\n",
    "        raise Exception(\"n must be even number!\")\n",
    "\n",
    "    X = np.linspace(a, b, n+1)\n",
    "    Y = f(X)\n",
    "    Ya = Y[0::2]\n",
    "    Yb = Y[1::2]\n",
    "    \n",
    "    if printTable:\n",
    "        Y = f(X)\n",
    "        print(pd.DataFrame({\n",
    "            \"x\": X,\n",
    "            \"f(x)\": Y,\n",
    "            \"2f(x)\": 2*Y,\n",
    "            \"4f(x)\": 4*Y\n",
    "        }).round(4))\n",
    "\n",
    "    width = b - a\n",
    "    avgHeight = (2*np.sum(Ya)-Ya[0]-Ya[-1] + 4*np.sum(Yb))/(3*n)\n",
    "    return width * avgHeight\n",
    "\n",
    "\n",
    "def f(x):\n",
    "    return np.sin(x)\n",
    "\n",
    "\n",
    "Simpson13M(f, a=np.pi, b=2*np.pi, n=4, printTable=True)"
   ]
  },
  {
   "cell_type": "markdown",
   "id": "traditional-wallet",
   "metadata": {},
   "source": [
    "## Simpson's 3/8 Rule\n",
    "\n",
    "$I = \\int_{a}^{b} f(x) dx \\cong \\underbrace{(b-a)}_{\\text{width}} \\underbrace{\\big( \\frac{f(x_0)+3f(x_1)+3f(x_2)+f(x_3)}{8} \\big)}_{\\text{average height}}$"
   ]
  },
  {
   "cell_type": "code",
   "execution_count": 47,
   "id": "painted-renaissance",
   "metadata": {
    "ExecuteTime": {
     "end_time": "2021-04-13T10:03:24.292737Z",
     "start_time": "2021-04-13T10:03:24.276658Z"
    }
   },
   "outputs": [
    {
     "name": "stdout",
     "output_type": "stream",
     "text": [
      "        x   f(x)   3f(x)\n",
      "0  3.1416  0.000  0.0000\n",
      "1  4.1888 -0.866 -2.5981\n",
      "2  5.2360 -0.866 -2.5981\n",
      "3  6.2832 -0.000 -0.0000\n"
     ]
    },
    {
     "data": {
      "text/plain": [
       "-2.040524284763495"
      ]
     },
     "execution_count": 47,
     "metadata": {},
     "output_type": "execute_result"
    }
   ],
   "source": [
    "def Simpson38(f, a, b, printTable=False):\n",
    "    X = np.linspace(a, b, 4)\n",
    "    \n",
    "    if printTable:\n",
    "        Y = f(X)\n",
    "        print(pd.DataFrame({\n",
    "            \"x\": X,\n",
    "            \"f(x)\": Y,\n",
    "            \"3f(x)\": 3*Y\n",
    "        }).round(4))\n",
    "    \n",
    "    width = b - a\n",
    "    avgHeight = (f(X[0]) + 3*f(X[1]) + 3*f(X[2]) + f(X[3]))/8\n",
    "    return width * avgHeight\n",
    "\n",
    "\n",
    "def f(x):\n",
    "    return np.sin(x)\n",
    "\n",
    "\n",
    "Simpson38(f, a=np.pi, b=2*np.pi, printTable=True)"
   ]
  },
  {
   "cell_type": "code",
   "execution_count": null,
   "id": "abstract-virtue",
   "metadata": {},
   "outputs": [],
   "source": []
  }
 ],
 "metadata": {
  "kernelspec": {
   "display_name": "Python 3",
   "language": "python",
   "name": "python3"
  },
  "language_info": {
   "codemirror_mode": {
    "name": "ipython",
    "version": 3
   },
   "file_extension": ".py",
   "mimetype": "text/x-python",
   "name": "python",
   "nbconvert_exporter": "python",
   "pygments_lexer": "ipython3",
   "version": "3.8.6"
  },
  "toc": {
   "base_numbering": 1,
   "nav_menu": {},
   "number_sections": true,
   "sideBar": true,
   "skip_h1_title": false,
   "title_cell": "Table of Contents",
   "title_sidebar": "Contents",
   "toc_cell": false,
   "toc_position": {},
   "toc_section_display": true,
   "toc_window_display": false
  },
  "varInspector": {
   "cols": {
    "lenName": 16,
    "lenType": 16,
    "lenVar": 40
   },
   "kernels_config": {
    "python": {
     "delete_cmd_postfix": "",
     "delete_cmd_prefix": "del ",
     "library": "var_list.py",
     "varRefreshCmd": "print(var_dic_list())"
    },
    "r": {
     "delete_cmd_postfix": ") ",
     "delete_cmd_prefix": "rm(",
     "library": "var_list.r",
     "varRefreshCmd": "cat(var_dic_list()) "
    }
   },
   "types_to_exclude": [
    "module",
    "function",
    "builtin_function_or_method",
    "instance",
    "_Feature"
   ],
   "window_display": false
  }
 },
 "nbformat": 4,
 "nbformat_minor": 5
}
