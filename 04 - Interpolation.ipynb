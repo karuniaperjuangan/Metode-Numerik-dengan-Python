{
 "cells": [
  {
   "cell_type": "code",
   "execution_count": 3,
   "id": "statistical-modeling",
   "metadata": {
    "ExecuteTime": {
     "end_time": "2021-03-23T08:13:23.016206Z",
     "start_time": "2021-03-23T08:13:22.829181Z"
    }
   },
   "outputs": [],
   "source": [
    "import numpy as np\n",
    "from matplotlib import pyplot as plt"
   ]
  },
  {
   "cell_type": "code",
   "execution_count": 4,
   "id": "twenty-library",
   "metadata": {
    "ExecuteTime": {
     "end_time": "2021-03-23T08:13:23.022603Z",
     "start_time": "2021-03-23T08:13:23.017894Z"
    }
   },
   "outputs": [],
   "source": [
    "X_data = np.array([1.6, 2, 2.5, 3.2, 4, 4.5], dtype=\"float32\")\n",
    "Y_data = np.array([2  , 8, 14 , 15 , 8, 2], dtype=\"float32\")   # f(x) = y\n",
    "\n",
    "# target -> f(3)"
   ]
  },
  {
   "cell_type": "code",
   "execution_count": 5,
   "id": "potential-longitude",
   "metadata": {
    "ExecuteTime": {
     "end_time": "2021-03-23T08:13:23.122608Z",
     "start_time": "2021-03-23T08:13:23.024944Z"
    }
   },
   "outputs": [
    {
     "name": "stdout",
     "output_type": "stream",
     "text": [
      "14.714285671710968\n"
     ]
    }
   ],
   "source": [
    "# orde 1\n",
    "\n",
    "X = X_data[2:]\n",
    "Y = Y_data[2:]\n",
    "\n",
    "def PBH1(x1, y1, x2, y2):\n",
    "    return (y1 - y2)/(x1 - x2)\n",
    "\n",
    "\n",
    "def f1(x):\n",
    "    return b0 + b1*(x - X[0])\n",
    "\n",
    "b0 = Y[0] \n",
    "b1 = PBH1(X[0], Y[0], X[1], Y[1])\n",
    "\n",
    "f1_x = f1(3)\n",
    "print(f1_x)"
   ]
  },
  {
   "cell_type": "code",
   "execution_count": 6,
   "id": "integrated-consumption",
   "metadata": {
    "ExecuteTime": {
     "end_time": "2021-03-23T08:13:23.222267Z",
     "start_time": "2021-03-23T08:13:23.129547Z"
    }
   },
   "outputs": [
    {
     "name": "stdout",
     "output_type": "stream",
     "text": [
      "15.392857343809965\n"
     ]
    }
   ],
   "source": [
    "# orde 2\n",
    "\n",
    "X = X_data[2:]\n",
    "Y = Y_data[2:]\n",
    "\n",
    "def PBH2(x1, y1, x2, y2, x3, y3):\n",
    "    return (PBH1(x1, y1, x2, y2)-PBH1(x2, y2, x3, y3))/(x1 - x3)\n",
    "\n",
    "\n",
    "def f2(x):\n",
    "    return b0 + b1*(x - X[0]) + b2*(x - X[0])*(x - X[1])\n",
    "\n",
    "\n",
    "b0 = Y[0] \n",
    "b1 = PBH1(X[0], Y[0], X[1], Y[1])\n",
    "b2 = PBH2(X[0], Y[0], X[1], Y[1], X[2], Y[2])\n",
    "\n",
    "f2_x = f2(3)\n",
    "print(f2_x)"
   ]
  },
  {
   "cell_type": "code",
   "execution_count": 7,
   "id": "revised-chester",
   "metadata": {
    "ExecuteTime": {
     "end_time": "2021-03-23T08:13:23.339457Z",
     "start_time": "2021-03-23T08:13:23.230052Z"
    }
   },
   "outputs": [
    {
     "name": "stdout",
     "output_type": "stream",
     "text": [
      "15.49404776067962\n"
     ]
    }
   ],
   "source": [
    "# orde 3\n",
    "\n",
    "X = X_data[1:]\n",
    "Y = Y_data[1:]\n",
    "\n",
    "\n",
    "def PBH3(x1, y1, x2, y2, x3, y3, x4, y4):\n",
    "    return (PBH2(x1, y1, x2, y2, x3, y3)-PBH2(x2, y2, x3, y3, x4, y4))/(x1 - x4)\n",
    "\n",
    "\n",
    "def f3(x):\n",
    "    return b0 + b1*(x - X[0]) + b2*(x - X[0])*(x - X[1]) + b3*(x - X[0])*(x - X[1])*(x - X[2])\n",
    "\n",
    "\n",
    "b0 = Y[0]\n",
    "b1 = PBH1(X[0], Y[0], X[1], Y[1])\n",
    "b2 = PBH2(X[0], Y[0], X[1], Y[1], X[2], Y[2])\n",
    "b3 = PBH3(X[0], Y[0], X[1], Y[1], X[2], Y[2], X[3], Y[3])\n",
    "\n",
    "\n",
    "f3_x = f3(3)\n",
    "print(f3_x)"
   ]
  },
  {
   "cell_type": "code",
   "execution_count": 8,
   "id": "impressive-assist",
   "metadata": {
    "ExecuteTime": {
     "end_time": "2021-03-23T08:13:23.438698Z",
     "start_time": "2021-03-23T08:13:23.349790Z"
    }
   },
   "outputs": [
    {
     "name": "stdout",
     "output_type": "stream",
     "text": [
      "15.539285923611576\n"
     ]
    }
   ],
   "source": [
    "# orde 4\n",
    "\n",
    "X = X_data[1:]\n",
    "Y = Y_data[1:]\n",
    "\n",
    "\n",
    "def PBH4(x1, y1, x2, y2, x3, y3, x4, y4, x5, y5):\n",
    "    return (PBH3(x1, y1, x2, y2, x3, y3, x4, y4)-PBH3(x2, y2, x3, y3, x4, y4, x5, y5))/(x1 - x5)\n",
    "\n",
    "\n",
    "def f4(x):\n",
    "    return b0 + b1*(x - X[0]) + b2*(x - X[0])*(x - X[1]) + b3*(x - X[0])*(x - X[1])*(x - X[2]) + b4*(x - X[0])*(x - X[1])*(x - X[2])*(x - X[3])\n",
    "\n",
    "\n",
    "b0 = Y[0]\n",
    "b1 = PBH1(X[0], Y[0], X[1], Y[1])\n",
    "b2 = PBH2(X[0], Y[0], X[1], Y[1], X[2], Y[2])\n",
    "b3 = PBH3(X[0], Y[0], X[1], Y[1], X[2], Y[2], X[3], Y[3])\n",
    "b4 = PBH4(X[0], Y[0], X[1], Y[1], X[2], Y[2], X[3], Y[3], X[4], Y[4])\n",
    "\n",
    "f4_x = f4(3)\n",
    "print(f4_x)"
   ]
  },
  {
   "cell_type": "code",
   "execution_count": 9,
   "id": "starting-component",
   "metadata": {
    "ExecuteTime": {
     "end_time": "2021-03-23T08:13:23.527220Z",
     "start_time": "2021-03-23T08:13:23.440654Z"
    }
   },
   "outputs": [],
   "source": [
    "def ShowGraph(X, Y, x, y):\n",
    "    plt.clf()\n",
    "    plt.plot(X, Y, '-r')\n",
    "    plt.plot(X, Y, 'ob')\n",
    "    plt.plot(x, y, 'sy')\n",
    "    plt.grid()\n",
    "    plt.show()\n",
    "    \n",
    "\n",
    "\n",
    "ShowGraph(X_data, Y_data, 3, f1_x)\n",
    "ShowGraph(X_data, Y_data, 3, f2_x)\n",
    "ShowGraph(X_data, Y_data, 3, f3_x)\n",
    "ShowGraph(X_data, Y_data, 3, f4_x)"
   ]
  }
 ],
 "metadata": {
  "kernelspec": {
   "display_name": "Python 3",
   "language": "python",
   "name": "python3"
  },
  "language_info": {
   "codemirror_mode": {
    "name": "ipython",
    "version": 3
   },
   "file_extension": ".py",
   "mimetype": "text/x-python",
   "name": "python",
   "nbconvert_exporter": "python",
   "pygments_lexer": "ipython3",
   "version": "3.8.6"
  },
  "toc": {
   "base_numbering": 1,
   "nav_menu": {},
   "number_sections": true,
   "sideBar": true,
   "skip_h1_title": false,
   "title_cell": "Table of Contents",
   "title_sidebar": "Contents",
   "toc_cell": false,
   "toc_position": {},
   "toc_section_display": true,
   "toc_window_display": false
  },
  "varInspector": {
   "cols": {
    "lenName": 16,
    "lenType": 16,
    "lenVar": 40
   },
   "kernels_config": {
    "python": {
     "delete_cmd_postfix": "",
     "delete_cmd_prefix": "del ",
     "library": "var_list.py",
     "varRefreshCmd": "print(var_dic_list())"
    },
    "r": {
     "delete_cmd_postfix": ") ",
     "delete_cmd_prefix": "rm(",
     "library": "var_list.r",
     "varRefreshCmd": "cat(var_dic_list()) "
    }
   },
   "types_to_exclude": [
    "module",
    "function",
    "builtin_function_or_method",
    "instance",
    "_Feature"
   ],
   "window_display": false
  }
 },
 "nbformat": 4,
 "nbformat_minor": 5
}
