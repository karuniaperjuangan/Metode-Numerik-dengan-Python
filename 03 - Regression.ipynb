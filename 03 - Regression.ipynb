{
 "cells": [
  {
   "cell_type": "code",
   "execution_count": 2,
   "id": "pleasant-telescope",
   "metadata": {
    "ExecuteTime": {
     "end_time": "2021-03-22T14:45:31.721248Z",
     "start_time": "2021-03-22T14:45:26.074585Z"
    }
   },
   "outputs": [],
   "source": [
    "import numpy as np\n",
    "import pandas as pd\n",
    "from matplotlib import pyplot as plt"
   ]
  },
  {
   "cell_type": "markdown",
   "id": "synthetic-hawaiian",
   "metadata": {},
   "source": [
    "# Show Graph"
   ]
  },
  {
   "cell_type": "code",
   "execution_count": 3,
   "id": "aboriginal-steal",
   "metadata": {
    "ExecuteTime": {
     "end_time": "2021-03-22T14:45:31.750281Z",
     "start_time": "2021-03-22T14:45:31.731241Z"
    }
   },
   "outputs": [],
   "source": [
    "def ShowGraph(a, b, X, Y, line=\"a+bx\"):\n",
    "    line_x = np.arange(np.amin(X), np.amax(X), 0.01)\n",
    "    if line == \"a+bx\":\n",
    "        line_y = a + b * line_x\n",
    "    elif line == \"ax^b\":\n",
    "        line_y = a * line_x ** b\n",
    "    elif line == \"ae^(bx)\":\n",
    "        line_y = a * np.exp(b*line_x)\n",
    "\n",
    "    plt.clf()\n",
    "    plt.plot(line_x, line_y, '-r')\n",
    "    plt.plot(X, Y, 'ob')\n",
    "    plt.grid()\n",
    "    plt.show()"
   ]
  },
  {
   "cell_type": "markdown",
   "id": "recovered-hindu",
   "metadata": {},
   "source": [
    "# Error"
   ]
  },
  {
   "cell_type": "markdown",
   "id": "rural-appointment",
   "metadata": {},
   "source": [
    "## Least Square Error"
   ]
  },
  {
   "cell_type": "code",
   "execution_count": 4,
   "id": "interesting-hotel",
   "metadata": {
    "ExecuteTime": {
     "end_time": "2021-03-22T14:45:31.845510Z",
     "start_time": "2021-03-22T14:45:31.759238Z"
    }
   },
   "outputs": [],
   "source": [
    "def LeastSquareError(a, b, xi, yi):\n",
    "    Dt = np.sum((yi - np.average(yi)) ** 2)\n",
    "    D = np.sum((yi - a - b*xi) ** 2)\n",
    "    \n",
    "    r = ((Dt-D)/Dt) ** 0.5\n",
    "    \n",
    "    return r"
   ]
  },
  {
   "cell_type": "markdown",
   "id": "indie-closing",
   "metadata": {},
   "source": [
    "## Correlation Coeficient"
   ]
  },
  {
   "cell_type": "code",
   "execution_count": 11,
   "id": "impressed-discharge",
   "metadata": {
    "ExecuteTime": {
     "end_time": "2021-03-22T14:50:02.037862Z",
     "start_time": "2021-03-22T14:50:01.991334Z"
    }
   },
   "outputs": [],
   "source": [
    "def CorrelationCoef(X, Y):\n",
    "    difX = X - np.average(X)\n",
    "    difY = Y - np.average(Y)\n",
    "    \n",
    "    r = (np.sum(difX*difY))/((np.sum((difX)**2)*np.sum((difY)**2))**(0.5))\n",
    "    \n",
    "    return r;"
   ]
  },
  {
   "cell_type": "markdown",
   "id": "wrong-actress",
   "metadata": {},
   "source": [
    "# Linear Regression &rarr; y = a + bx"
   ]
  },
  {
   "cell_type": "code",
   "execution_count": 5,
   "id": "peripheral-pakistan",
   "metadata": {
    "ExecuteTime": {
     "end_time": "2021-03-22T14:45:32.834843Z",
     "start_time": "2021-03-22T14:45:31.853364Z"
    }
   },
   "outputs": [
    {
     "data": {
      "image/png": "[encoded data removed]",
      "text/plain": [
       "<Figure size 432x288 with 1 Axes>"
      ]
     },
     "metadata": {
      "needs_background": "light"
     },
     "output_type": "display_data"
    },
    {
     "name": "stdout",
     "output_type": "stream",
     "text": [
      "y = a + bx\n",
      "\n",
      "a: 28.585106382978722\n",
      "b: -0.6569148936170213\n",
      "least suqare error: 0.7231812135292409\n"
     ]
    }
   ],
   "source": [
    "def LinearRegression(X_data, Y_data, showGraph=True, showData=True):\n",
    "    if X_data.size != Y_data.size:\n",
    "        print(\"banyak data X dan Y tidak sama!\")\n",
    "        exit()\n",
    "\n",
    "    n = X_data.size\n",
    "    data = pd.DataFrame({\n",
    "        'xi': X_data,\n",
    "        'yi': Y_data,\n",
    "        'xiyi': X_data*Y_data,\n",
    "        'xi2': X_data*X_data\n",
    "    })\n",
    "\n",
    "    x_bar = np.average(data['xi'])\n",
    "    y_bar = np.average(data['yi'])\n",
    "\n",
    "    b = (n * np.sum(data['xiyi']) - np.sum(data['xi']) *\n",
    "         np.sum(data['yi']))/(n * np.sum(data['xi2']) - np.sum(data['xi'])**2)\n",
    "    a = y_bar - b * x_bar\n",
    "\n",
    "    if showGraph:\n",
    "        ShowGraph(a, b, data['xi'], data['yi'])\n",
    "\n",
    "    if showData:\n",
    "        print(\"linear regression data\")\n",
    "        print(data)\n",
    "        print()\n",
    "\n",
    "    return [a, b]\n",
    "\n",
    "\n",
    "X_data = np.array([4, 6, 8, 10, 14, 16, 20, 22, 24, 28])\n",
    "Y_data = np.array([30, 18, 22, 28, 14, 22, 16, 8, 20, 8])\n",
    "\n",
    "a, b = LinearRegression(X_data, Y_data, showGraph=True, showData=False)\n",
    "print(\"y = a + bx\\n\")\n",
    "print(\"a:\", a)\n",
    "print(\"b:\", b)\n",
    "print(\"least suqare error:\", LeastSquareError(a, b, X_data, Y_data))"
   ]
  },
  {
   "cell_type": "markdown",
   "id": "organic-algorithm",
   "metadata": {},
   "source": [
    "# Non-Linear Regression"
   ]
  },
  {
   "cell_type": "markdown",
   "id": "indian-vessel",
   "metadata": {},
   "source": [
    "## y = ax^b"
   ]
  },
  {
   "cell_type": "code",
   "execution_count": 6,
   "id": "infrared-county",
   "metadata": {
    "ExecuteTime": {
     "end_time": "2021-03-22T14:45:33.267519Z",
     "start_time": "2021-03-22T14:45:32.844844Z"
    }
   },
   "outputs": [
    {
     "name": "stdout",
     "output_type": "stream",
     "text": [
      "linear regression data\n",
      "         xi        yi      xiyi       xi2\n",
      "0  0.000000 -0.301030 -0.000000  0.000000\n",
      "1  0.301030  0.230449  0.069372  0.090619\n",
      "2  0.477121  0.531479  0.253580  0.227645\n",
      "3  0.602060  0.755875  0.455082  0.362476\n",
      "4  0.698970  0.924279  0.646043  0.488559\n",
      "\n"
     ]
    },
    {
     "data": {
      "image/png": "[encoded data removed]",
      "text/plain": [
       "<Figure size 432x288 with 1 Axes>"
      ]
     },
     "metadata": {
      "needs_background": "light"
     },
     "output_type": "display_data"
    },
    {
     "name": "stdout",
     "output_type": "stream",
     "text": [
      "non-linear regression data (y = ax^b)\n",
      "pi = log(xi)\n",
      "qi = log(yi)\n",
      "   xi   yi        pi        qi\n",
      "0   1  0.5  0.000000 -0.301030\n",
      "1   2  1.7  0.301030  0.230449\n",
      "2   3  3.4  0.477121  0.531479\n",
      "3   4  5.7  0.602060  0.755875\n",
      "4   5  8.4  0.698970  0.924279\n",
      "\n",
      "y = ax^b\n",
      "\n",
      "a: 0.500933649097749\n",
      "b: 1.75172364807736\n",
      "least suqare error: 0.7436183127152611\n"
     ]
    }
   ],
   "source": [
    "def NonLinearRegression1(X_data, Y_data, showGraph=True, showData=True):\n",
    "    if X_data.size != Y_data.size:\n",
    "        print(\"banyak data X dan Y tidak sama!\")\n",
    "        exit()\n",
    "\n",
    "    n = X_data.size\n",
    "    data = pd.DataFrame({\n",
    "        'xi': X_data,\n",
    "        'yi': Y_data,\n",
    "        'pi': np.log10(X_data),\n",
    "        'qi': np.log10(Y_data)\n",
    "    })\n",
    "\n",
    "    a, b = LinearRegression(data['pi'], data['qi'],\n",
    "                            showGraph=False, showData=showData)\n",
    "    a = 10 ** a\n",
    "\n",
    "    if showGraph:\n",
    "        ShowGraph(a, b, X_data, Y_data, line=\"ax^b\")\n",
    "\n",
    "    if showData:\n",
    "        print(\"non-linear regression data (y = ax^b)\")\n",
    "        print(\"pi = log(xi)\")\n",
    "        print(\"qi = log(yi)\")\n",
    "        print(data)\n",
    "        print()\n",
    "\n",
    "    return [a, b]\n",
    "\n",
    "\n",
    "X_data = np.array([1, 2, 3, 4, 5])\n",
    "Y_data = np.array([0.5, 1.7, 3.4, 5.7, 8.4])\n",
    "\n",
    "a, b = NonLinearRegression1(X_data, Y_data, showGraph=True, showData=True)\n",
    "print(\"y = ax^b\\n\")\n",
    "print(\"a:\", a)\n",
    "print(\"b:\", b)\n",
    "print(\"least suqare error:\", LeastSquareError(a, b, X_data, Y_data))"
   ]
  },
  {
   "cell_type": "markdown",
   "id": "celtic-restaurant",
   "metadata": {},
   "source": [
    "## y = ae^(bx)"
   ]
  },
  {
   "cell_type": "code",
   "execution_count": 7,
   "id": "continent-rally",
   "metadata": {
    "ExecuteTime": {
     "end_time": "2021-03-22T14:45:33.431777Z",
     "start_time": "2021-03-22T14:45:33.269810Z"
    }
   },
   "outputs": [
    {
     "name": "stdout",
     "output_type": "stream",
     "text": [
      "linear regression data\n",
      "   xi        yi       xiyi  xi2\n",
      "0   1 -0.693147  -0.693147    1\n",
      "1   2  0.530628   1.061257    4\n",
      "2   3  1.223775   3.671326    9\n",
      "3   4  1.740466   6.961865   16\n",
      "4   5  2.128232  10.641159   25\n",
      "\n"
     ]
    },
    {
     "data": {
      "image/png": "[encoded data removed]",
      "text/plain": [
       "<Figure size 432x288 with 1 Axes>"
      ]
     },
     "metadata": {
      "needs_background": "light"
     },
     "output_type": "display_data"
    },
    {
     "name": "stdout",
     "output_type": "stream",
     "text": [
      "non-linear regression data (y = ae^(bx))\n",
      "qi = log(yi)\n",
      "   xi   yi  pi        qi\n",
      "0   1  0.5   1 -0.693147\n",
      "1   2  1.7   2  0.530628\n",
      "2   3  3.4   3  1.223775\n",
      "3   4  5.7   4  1.740466\n",
      "4   5  8.4   5  2.128232\n",
      "\n",
      "y = ae^(bx)\n",
      "\n",
      "a: 0.34308130042789264\n",
      "b: 0.6852595696596763\n",
      "least suqare error: 0.5130828465854856\n"
     ]
    }
   ],
   "source": [
    "def NonLinearRegression2(X_data, Y_data, showGraph=True, showData=True):\n",
    "    if X_data.size != Y_data.size:\n",
    "        print(\"banyak data X dan Y tidak sama!\")\n",
    "        exit()\n",
    "\n",
    "    n = X_data.size\n",
    "    data = pd.DataFrame({\n",
    "        'xi': X_data,\n",
    "        'yi': Y_data,\n",
    "        'pi': X_data,\n",
    "        'qi': np.log(Y_data)\n",
    "    })\n",
    "\n",
    "    a, b = LinearRegression(data['pi'], data['qi'],\n",
    "                            showGraph=False, showData=showData)\n",
    "    a = np.exp(a)\n",
    "\n",
    "    if showGraph:\n",
    "        ShowGraph(a, b, X_data, Y_data, line=\"ae^(bx)\")\n",
    "\n",
    "    if showData:\n",
    "        print(\"non-linear regression data (y = ae^(bx))\")\n",
    "        print(\"qi = log(yi)\")\n",
    "        print(data)\n",
    "        print()\n",
    "\n",
    "    return [a, b]\n",
    "\n",
    "\n",
    "X_data = np.array([1, 2, 3, 4, 5])\n",
    "Y_data = np.array([0.5, 1.7, 3.4, 5.7, 8.4])\n",
    "\n",
    "a, b = NonLinearRegression2(X_data, Y_data, showGraph=True, showData=True)\n",
    "print(\"y = ae^(bx)\\n\")\n",
    "print(\"a:\", a)\n",
    "print(\"b:\", b)\n",
    "print(\"least suqare error:\", LeastSquareError(a, b, X_data, Y_data))"
   ]
  },
  {
   "cell_type": "markdown",
   "id": "contained-canon",
   "metadata": {},
   "source": [
    "# Polinomial Regression"
   ]
  },
  {
   "cell_type": "markdown",
   "id": "unknown-indian",
   "metadata": {},
   "source": [
    "## Ordo 3"
   ]
  },
  {
   "cell_type": "code",
   "execution_count": 8,
   "id": "synthetic-chemistry",
   "metadata": {
    "ExecuteTime": {
     "end_time": "2021-03-22T14:45:33.439949Z",
     "start_time": "2021-03-22T14:45:33.434402Z"
    }
   },
   "outputs": [],
   "source": [
    "def GaussJordan(A, B, printStep=False):\n",
    "    size = B.size\n",
    "    matrix = A\n",
    "    matrix = np.concatenate((A, B.reshape(size, 1)), axis=1)\n",
    "    \n",
    "    for i in range(0, size):\n",
    "        if printStep:\n",
    "            print(\"step\", i+1, \"\\n\")\n",
    "            \n",
    "        matrix[i] /= matrix[i, i]\n",
    "\n",
    "        for j in range(0, size):\n",
    "            if i == j:\n",
    "                continue\n",
    "                \n",
    "            matrix[j] -= matrix[i] * matrix[j, i]\n",
    "            if printStep:\n",
    "                print(matrix, \"\\n\")\n",
    "        \n",
    "    return matrix"
   ]
  },
  {
   "cell_type": "code",
   "execution_count": 9,
   "id": "compact-effectiveness",
   "metadata": {
    "ExecuteTime": {
     "end_time": "2021-03-22T14:47:06.451773Z",
     "start_time": "2021-03-22T14:47:06.439364Z"
    }
   },
   "outputs": [],
   "source": [
    "def LeastSquareErrorPoli3(x, y, a0, a1, a2, a3):\n",
    "    # x y adalah data awal\n",
    "    ya = a0 + a1*x + a2*(x**2) + a3*(x**3)\n",
    "    \n",
    "    D = np.sum((y - ya)**2)\n",
    "    Dt = np.sum((y - np.average(y)**2))\n",
    "    r = ((Dt-D)/Dt)**(0.5)\n",
    "    \n",
    "    return r"
   ]
  },
  {
   "cell_type": "code",
   "execution_count": 13,
   "id": "technological-application",
   "metadata": {
    "ExecuteTime": {
     "end_time": "2021-03-22T14:50:15.785153Z",
     "start_time": "2021-03-22T14:50:15.766429Z"
    }
   },
   "outputs": [],
   "source": [
    "def ShowGraphPoli3(X, Y, a0, a1, a2, a3):\n",
    "    # X Y (kapital) itu data awalnya yakk\n",
    "    \n",
    "    x = np.arange(np.amin(X), np.amax(X), 0.01) # ini tulis aja, susah jelasinnya :v\n",
    "    y = a0 + a1*x + a2*(x**2) + a3*(x**3)       # ini garis f(x) nya\n",
    "\n",
    "    plt.clf()              # ini buat clear plt yang sebelumnya, dihapus aja gpp kan cuma 1\n",
    "    plt.plot(x, y, '-r')   # ini nampilin garis f(x) tadi. '-r' => - artine garis; r artine red => garis merah\n",
    "    plt.plot(X, Y, 'ob')   # ini nampilin titik-titik data. 'ob' => o artine bulet2 (titik); b artine blue => titik2 biru\n",
    "    plt.grid()             # ini biar ada background gridnya\n",
    "    plt.show()             # ini buat menampilkan yang dibuat tadi"
   ]
  },
  {
   "cell_type": "code",
   "execution_count": 14,
   "id": "numerical-teaching",
   "metadata": {
    "ExecuteTime": {
     "end_time": "2021-03-22T14:50:19.705413Z",
     "start_time": "2021-03-22T14:50:19.490971Z"
    }
   },
   "outputs": [
    {
     "name": "stdout",
     "output_type": "stream",
     "text": [
      "y = a0 + a1x + a2x^2 + a3x^3\n",
      "a0 = -0.05955994\n",
      "a1 = 0.42526734\n",
      "a2 = -0.030705083\n",
      "a3 = 0.0006837621\n",
      "\n",
      "Koefisien korelasi = 0.5282928164998338\n"
     ]
    },
    {
     "data": {
      "image/png": "[encoded data removed]",
      "text/plain": [
       "<Figure size 432x288 with 1 Axes>"
      ]
     },
     "metadata": {
      "needs_background": "light"
     },
     "output_type": "display_data"
    }
   ],
   "source": [
    "X = np.array([1, 2, 3, 4, 5, 6, 7, 8, 9, 10,\n",
    "              11, 12, 13, 14, 15, 16, 17, 18, 19, 20,\n",
    "              21, 22, 23, 24, 25], dtype=\"float32\")\n",
    "Y = np.array([0.90, 1.42, 1.30, 1.55, 1.63, 1.32, 1.35,\n",
    "              1.47, 1.95, 1.66, 1.96, 1.47, 1.92, 1.35,\n",
    "              1.05, 1.85, 1.74, 1.65, 1.78, 1.71, 2.29,\n",
    "              1.82, 2.06, 2.14, 1.27], dtype=\"float32\")\n",
    "\n",
    "# orde 3\n",
    "n = 3\n",
    "\n",
    "x = np.sum(X)\n",
    "y = np.sum(Y)\n",
    "xy = np.sum(X*Y)\n",
    "x2y = np.sum((X**2)*Y)\n",
    "x3y = np.sum((X**3)*Y)\n",
    "x2 = np.sum(X**2)\n",
    "x3 = np.sum(X**3)\n",
    "x4 = np.sum(X**4)\n",
    "x5 = np.sum(X**5)\n",
    "x6 = np.sum(X**6)\n",
    "\n",
    "\n",
    "A = np.array([[n, x, x2, x3],\n",
    "              [x, x2, x3, x4],\n",
    "              [x2, x3, x4, x5],\n",
    "              [x3, x4, x5, x6]], dtype=\"float32\")\n",
    "\n",
    "B = np.array([y, xy, x2y, x3y])\n",
    "\n",
    "resultMatrix = GaussJordan(A, B)\n",
    "result = resultMatrix[:, -1]\n",
    "a0, a1, a2, a3 = result\n",
    "print(\"y = a0 + a1x + a2x^2 + a3x^3\")\n",
    "print(\"a0 =\", a0)\n",
    "print(\"a1 =\", a1)\n",
    "print(\"a2 =\", a2)\n",
    "print(\"a3 =\", a3)\n",
    "print(\"\\nKoefisien korelasi =\", CorrelationCoef(X, Y))\n",
    "\n",
    "ShowGraphPoli3(X, Y, a0, a1, a2, a3)"
   ]
  },
  {
   "cell_type": "code",
   "execution_count": null,
   "id": "boolean-graduate",
   "metadata": {},
   "outputs": [],
   "source": []
  }
 ],
 "metadata": {
  "kernelspec": {
   "display_name": "Python 3",
   "language": "python",
   "name": "python3"
  },
  "language_info": {
   "codemirror_mode": {
    "name": "ipython",
    "version": 3
   },
   "file_extension": ".py",
   "mimetype": "text/x-python",
   "name": "python",
   "nbconvert_exporter": "python",
   "pygments_lexer": "ipython3",
   "version": "3.8.6"
  },
  "toc": {
   "base_numbering": 1,
   "nav_menu": {},
   "number_sections": true,
   "sideBar": true,
   "skip_h1_title": false,
   "title_cell": "Table of Contents",
   "title_sidebar": "Contents",
   "toc_cell": false,
   "toc_position": {},
   "toc_section_display": true,
   "toc_window_display": false
  },
  "varInspector": {
   "cols": {
    "lenName": 16,
    "lenType": 16,
    "lenVar": 40
   },
   "kernels_config": {
    "python": {
     "delete_cmd_postfix": "",
     "delete_cmd_prefix": "del ",
     "library": "var_list.py",
     "varRefreshCmd": "print(var_dic_list())"
    },
    "r": {
     "delete_cmd_postfix": ") ",
     "delete_cmd_prefix": "rm(",
     "library": "var_list.r",
     "varRefreshCmd": "cat(var_dic_list()) "
    }
   },
   "types_to_exclude": [
    "module",
    "function",
    "builtin_function_or_method",
    "instance",
    "_Feature"
   ],
   "window_display": false
  }
 },
 "nbformat": 4,
 "nbformat_minor": 5
}
