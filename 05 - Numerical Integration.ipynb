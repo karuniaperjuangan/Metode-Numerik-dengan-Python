{
 "cells": [
  {
   "cell_type": "code",
   "execution_count": 1,
   "id": "adjusted-navigator",
   "metadata": {
    "ExecuteTime": {
     "end_time": "2021-04-25T13:43:15.243884Z",
     "start_time": "2021-04-25T13:43:11.862895Z"
    }
   },
   "outputs": [],
   "source": [
    "import numpy as np\n",
    "import pandas as pd"
   ]
  },
  {
   "cell_type": "code",
   "execution_count": 50,
   "id": "going-lobby",
   "metadata": {
    "ExecuteTime": {
     "end_time": "2021-04-13T10:11:50.871679Z",
     "start_time": "2021-04-13T10:11:50.758394Z"
    }
   },
   "outputs": [],
   "source": [
    "# guide: contoh2 nulis rumus f(x)\n",
    "\n",
    "# rumus: f(x) = sin(x)\n",
    "# code: np.sin(x)\n",
    "\n",
    "# rumus: f(x) = e^x\n",
    "# code: np.exp(x)\n",
    "\n",
    "# rumus: f(x) = 2x^2 - 9x + 1\n",
    "# code: 2*(x**2) - 9*x + 1\n",
    "\n",
    "# rumus: f(x) = 2*pi*x\n",
    "# code: 2*np.pi*x"
   ]
  },
  {
   "cell_type": "markdown",
   "id": "promising-guyana",
   "metadata": {},
   "source": [
    "# Trapezoidal Rule\n",
    "\n",
    "$I = \\int_{a}^{b} f(x) dx \\cong \\underbrace{(b-a)}_{\\text{width}} \\underbrace{\\big( \\frac{f(x_0)+2\\sum_{i=1}^{n-1}f(x_i)+f(x_n)}{2n} \\big)}_{\\text{average height}}$"
   ]
  },
  {
   "cell_type": "markdown",
   "id": "vanilla-milton",
   "metadata": {
    "ExecuteTime": {
     "end_time": "2021-04-11T13:23:25.791308Z",
     "start_time": "2021-04-11T13:23:25.783579Z"
    }
   },
   "source": [
    "## Trapezodial with Equation"
   ]
  },
  {
   "cell_type": "code",
   "execution_count": 2,
   "id": "swedish-assets",
   "metadata": {
    "ExecuteTime": {
     "end_time": "2021-04-25T13:43:15.726030Z",
     "start_time": "2021-04-25T13:43:15.478606Z"
    }
   },
   "outputs": [
    {
     "name": "stdout",
     "output_type": "stream",
     "text": [
      "      x   f(x)  2f(x)\n",
      "0   0.0    4.0    8.0\n",
      "1   3.0   19.0   38.0\n",
      "2   6.0   52.0  104.0\n",
      "3   9.0  103.0  206.0\n",
      "4  12.0  172.0  344.0\n"
     ]
    },
    {
     "data": {
      "text/plain": [
       "786.0"
      ]
     },
     "execution_count": 2,
     "metadata": {},
     "output_type": "execute_result"
    }
   ],
   "source": [
    "def Trapezodial(f, a, b, n, printTable=False):\n",
    "    X = np.linspace(start=a, stop=b, num=n+1, dtype=\"float32\")\n",
    "    Y = f(X)\n",
    "\n",
    "    if printTable:\n",
    "        print(pd.DataFrame({\n",
    "            \"x\": X,\n",
    "            \"f(x)\": Y,\n",
    "            \"2f(x)\": 2*Y\n",
    "        }).round(4))\n",
    "    \n",
    "    width = b - a\n",
    "    avgHeight = (2 * np.sum(Y) - Y[0] - Y[-1])/(2*n)\n",
    "    return width * avgHeight\n",
    "\n",
    "\n",
    "def f(x):\n",
    "    return x**2 + 2*x + 4\n",
    "\n",
    "\n",
    "Trapezodial(f, a=0, b=12, n=4, printTable=True)"
   ]
  },
  {
   "cell_type": "markdown",
   "id": "inclusive-involvement",
   "metadata": {
    "heading_collapsed": true
   },
   "source": [
    "## Trapezodial with Data Table"
   ]
  },
  {
   "cell_type": "code",
   "execution_count": 52,
   "id": "clinical-restoration",
   "metadata": {
    "ExecuteTime": {
     "end_time": "2021-04-13T10:11:51.068037Z",
     "start_time": "2021-04-13T10:11:51.007437Z"
    },
    "hidden": true
   },
   "outputs": [
    {
     "data": {
      "text/plain": [
       "371.0000240802765"
      ]
     },
     "execution_count": 52,
     "metadata": {},
     "output_type": "execute_result"
    }
   ],
   "source": [
    "def TrapezodialWithDataTable(Y, a, b):\n",
    "    n = Y.size - 1\n",
    "    \n",
    "    width = b - a\n",
    "    avgHeight = (2 * np.sum(Y) - Y[0] - Y[-1])/(2*n)\n",
    "    return width * avgHeight\n",
    "\n",
    "\n",
    "Y = np.array([3.8, 4.5, 6.2, 7.0, 7.5, 6.9, 6.2], dtype=\"float32\")\n",
    "\n",
    "TrapezodialWithDataTable(Y, a=0, b=60)"
   ]
  },
  {
   "cell_type": "markdown",
   "id": "cardiovascular-melissa",
   "metadata": {
    "heading_collapsed": true
   },
   "source": [
    "# Simpson's Rule"
   ]
  },
  {
   "cell_type": "markdown",
   "id": "natural-debate",
   "metadata": {
    "hidden": true
   },
   "source": [
    "## Simpson's 1/3 Rule\n",
    "\n",
    "$I = \\int_{a}^{b} f(x) dx \\cong \\underbrace{(b-a)}_{\\text{width}} \\underbrace{\\big( \\frac{f(x_0)+4f(x_1)+f(x_2)}{6} \\big)}_{\\text{average height}}$"
   ]
  },
  {
   "cell_type": "code",
   "execution_count": 4,
   "id": "experimental-nomination",
   "metadata": {
    "ExecuteTime": {
     "end_time": "2021-04-14T01:23:23.805018Z",
     "start_time": "2021-04-14T01:23:23.764491Z"
    },
    "hidden": true
   },
   "outputs": [
    {
     "name": "stdout",
     "output_type": "stream",
     "text": [
      "        x  f(x)  2f(x)  4f(x)\n",
      "0  3.1416   0.0    0.0    0.0\n",
      "1  4.7124  -1.0   -2.0   -4.0\n",
      "2  6.2832  -0.0   -0.0   -0.0\n"
     ]
    },
    {
     "data": {
      "text/plain": [
       "-2.0943951023931953"
      ]
     },
     "execution_count": 4,
     "metadata": {},
     "output_type": "execute_result"
    }
   ],
   "source": [
    "def Simpson13(f, a, b, printTable=False):\n",
    "    X = np.linspace(a, b, 3)\n",
    "    \n",
    "    if printTable:\n",
    "        Y = f(X)\n",
    "        print(pd.DataFrame({\n",
    "            \"x\": X,\n",
    "            \"f(x)\": Y,\n",
    "            \"2f(x)\": 2*Y,\n",
    "            \"4f(x)\": 4*Y\n",
    "        }).round(4))\n",
    "    \n",
    "    width = b - a\n",
    "    avgHeight = (f(X[0]) + 4*f(X[1]) + f(X[2]))/6\n",
    "    return width * avgHeight\n",
    "\n",
    "\n",
    "def f(x):\n",
    "    return np.sin(x)\n",
    "\n",
    "\n",
    "Simpson13(f, a=np.pi, b=2*np.pi, printTable=True)"
   ]
  },
  {
   "cell_type": "markdown",
   "id": "solid-tracker",
   "metadata": {
    "hidden": true
   },
   "source": [
    "## Multiple-Application Simpson’s 1/3 Rule\n",
    "\n",
    "$I = \\int_{a}^{b} f(x) dx \\cong \\underbrace{(b-a)}_{\\text{width}} \\underbrace{\\big( \\frac{f(x_0)+4f(x_1)+2f(x_2)+...+2f(x_{n-2})+4f(x_{n-1})+f(x_n)}{3n} \\big)}_{\\text{average height}}$\n",
    "\n",
    "**Note: n harus bilangan genap**"
   ]
  },
  {
   "cell_type": "code",
   "execution_count": 5,
   "id": "shared-tyler",
   "metadata": {
    "ExecuteTime": {
     "end_time": "2021-04-14T01:23:26.692329Z",
     "start_time": "2021-04-14T01:23:26.673525Z"
    },
    "hidden": true
   },
   "outputs": [
    {
     "name": "stdout",
     "output_type": "stream",
     "text": [
      "        x    f(x)   2f(x)   4f(x)\n",
      "0  3.1416  0.0000  0.0000  0.0000\n",
      "1  3.9270 -0.7071 -1.4142 -2.8284\n",
      "2  4.7124 -1.0000 -2.0000 -4.0000\n",
      "3  5.4978 -0.7071 -1.4142 -2.8284\n",
      "4  6.2832 -0.0000 -0.0000 -0.0000\n"
     ]
    },
    {
     "data": {
      "text/plain": [
       "-2.004559754984421"
      ]
     },
     "execution_count": 5,
     "metadata": {},
     "output_type": "execute_result"
    }
   ],
   "source": [
    "def Simpson13M(f, a, b, n, printTable=False):\n",
    "    if n % 2 != 0:\n",
    "        raise Exception(\"n harus kelipatan 2!\")\n",
    "\n",
    "    X = np.linspace(a, b, n+1)\n",
    "    Y = f(X)\n",
    "    Ya = Y[0:-1:2]\n",
    "    Yb = Y[1:-1:2]\n",
    "    \n",
    "    if printTable:\n",
    "        Y = f(X)\n",
    "        print(pd.DataFrame({\n",
    "            \"x\": X,\n",
    "            \"f(x)\": Y,\n",
    "            \"2f(x)\": 2*Y,\n",
    "            \"4f(x)\": 4*Y\n",
    "        }).round(4))\n",
    "\n",
    "    width = b - a\n",
    "    avgHeight = (Y[0] + Y[-1] + 2*np.sum(Ya) + 4*np.sum(Yb))/(3*n)\n",
    "    return width * avgHeight\n",
    "\n",
    "\n",
    "def f(x):\n",
    "    return np.sin(x)\n",
    "\n",
    "\n",
    "Simpson13M(f, a=np.pi, b=2*np.pi, n=4, printTable=True)"
   ]
  },
  {
   "cell_type": "markdown",
   "id": "traditional-wallet",
   "metadata": {
    "hidden": true
   },
   "source": [
    "## Simpson's 3/8 Rule\n",
    "\n",
    "$I = \\int_{a}^{b} f(x) dx \\cong \\underbrace{(b-a)}_{\\text{width}} \\underbrace{\\big( \\frac{f(x_0)+3f(x_1)+3f(x_2)+f(x_3)}{8} \\big)}_{\\text{average height}}$"
   ]
  },
  {
   "cell_type": "code",
   "execution_count": 6,
   "id": "painted-renaissance",
   "metadata": {
    "ExecuteTime": {
     "end_time": "2021-04-14T01:23:28.823073Z",
     "start_time": "2021-04-14T01:23:28.791721Z"
    },
    "hidden": true
   },
   "outputs": [
    {
     "name": "stdout",
     "output_type": "stream",
     "text": [
      "        x   f(x)   3f(x)\n",
      "0  3.1416  0.000  0.0000\n",
      "1  4.1888 -0.866 -2.5981\n",
      "2  5.2360 -0.866 -2.5981\n",
      "3  6.2832 -0.000 -0.0000\n"
     ]
    },
    {
     "data": {
      "text/plain": [
       "-2.040524284763495"
      ]
     },
     "execution_count": 6,
     "metadata": {},
     "output_type": "execute_result"
    }
   ],
   "source": [
    "def Simpson38(f, a, b, printTable=False):\n",
    "    X = np.linspace(a, b, 4)\n",
    "    \n",
    "    if printTable:\n",
    "        Y = f(X)\n",
    "        print(pd.DataFrame({\n",
    "            \"x\": X,\n",
    "            \"f(x)\": Y,\n",
    "            \"3f(x)\": 3*Y\n",
    "        }).round(4))\n",
    "    \n",
    "    width = b - a\n",
    "    avgHeight = (f(X[0]) + 3*f(X[1]) + 3*f(X[2]) + f(X[3]))/8\n",
    "    return width * avgHeight\n",
    "\n",
    "\n",
    "def f(x):\n",
    "    return np.sin(x)\n",
    "\n",
    "\n",
    "Simpson38(f, a=np.pi, b=2*np.pi, printTable=True)"
   ]
  },
  {
   "cell_type": "code",
   "execution_count": 7,
   "id": "available-composition",
   "metadata": {
    "ExecuteTime": {
     "end_time": "2021-04-14T01:25:11.726437Z",
     "start_time": "2021-04-14T01:25:11.695857Z"
    },
    "hidden": true
   },
   "outputs": [
    {
     "name": "stdout",
     "output_type": "stream",
     "text": [
      "      x   f(x)  2f(x)  3f(x)\n",
      "0   0.0    4.0    8.0   12.0\n",
      "1   2.0   12.0   24.0   36.0\n",
      "2   4.0   28.0   56.0   84.0\n",
      "3   6.0   52.0  104.0  156.0\n",
      "4   8.0   84.0  168.0  252.0\n",
      "5  10.0  124.0  248.0  372.0\n",
      "6  12.0  172.0  344.0  516.0\n"
     ]
    },
    {
     "data": {
      "text/plain": [
       "768.0"
      ]
     },
     "execution_count": 7,
     "metadata": {},
     "output_type": "execute_result"
    }
   ],
   "source": [
    "def Simpson38M(f, a, b, n, printTable=False):\n",
    "    if n % 3 != 0:\n",
    "        raise Exception(\"n harus kelipatan 3!\")\n",
    "    \n",
    "    X = np.linspace(a, b, n+1)\n",
    "    \n",
    "    if printTable:\n",
    "        Y = f(X)\n",
    "        Ya = np.concatenate((Y[1:-1:3], Y[2:-1:3]))\n",
    "        Yb = Y[3:-1:3]\n",
    "        print(pd.DataFrame({\n",
    "            \"x\": X,\n",
    "            \"f(x)\": Y,\n",
    "            \"2f(x)\": 2*Y,\n",
    "            \"3f(x)\": 3*Y\n",
    "        }).round(4))\n",
    "    \n",
    "    width = b - a\n",
    "    avgHeight = 3*(Y[0] + Y[-1] + 3*np.sum(Ya) + 2*np.sum(Yb))/(8*n)\n",
    "    return width * avgHeight\n",
    "\n",
    "\n",
    "def f(x):\n",
    "    return x**2 + 2*x + 4\n",
    "\n",
    "\n",
    "Simpson38M(f, a=0, b=12, n=6, printTable=True)"
   ]
  },
  {
   "cell_type": "markdown",
   "id": "straight-clone",
   "metadata": {},
   "source": [
    "# Romberg \n",
    "\n",
    "[Tutorial dari sini](https://towardsdatascience.com/numerical-integration-romberg-integration-3f54002ab538)\n",
    "\n",
    "*require trapezodial*"
   ]
  },
  {
   "cell_type": "code",
   "execution_count": 27,
   "id": "frequent-collection",
   "metadata": {
    "ExecuteTime": {
     "end_time": "2021-04-25T15:28:06.526837Z",
     "start_time": "2021-04-25T15:28:06.497005Z"
    }
   },
   "outputs": [
    {
     "name": "stdout",
     "output_type": "stream",
     "text": [
      "I 4-1 = 0.6941\n",
      "I 3-1 = 0.697\n",
      "I 3-2 = 0.6931\n",
      "I 3-1 = 0.697\n",
      "I 2-1 = 0.7083\n",
      "I 2-2 = 0.6932\n",
      "I 2-3 = 0.6931\n",
      "I 3-1 = 0.697\n",
      "I 2-1 = 0.7083\n",
      "I 2-2 = 0.6932\n",
      "I 2-1 = 0.7083\n",
      "I 1-1 = 0.75\n",
      "I 1-2 = 0.6944\n",
      "I 1-3 = 0.6931\n",
      "I 1-4 = 0.6931\n"
     ]
    },
    {
     "data": {
      "text/plain": [
       "0.6931"
      ]
     },
     "execution_count": 27,
     "metadata": {},
     "output_type": "execute_result"
    }
   ],
   "source": [
    "# k adalah maksimal iterasi (lebar segitiga)\n",
    "# dari buku                -> j k -> segitiga bawah\n",
    "# dari towardsdatascience  -> i j -> segitiga atas\n",
    "\n",
    "def Romberg(f, a, b, k, j=1, decimal=16):           \n",
    "    if k > 1:\n",
    "        res = (4**(k-1)*Romberg(f, a, b, k-1, j+1, decimal)-Romberg(f, a, b, k-1, j, decimal))/(4**(k-1)-1)\n",
    "        res = round(res, decimal)\n",
    "        print(f'I {j}-{k} = {res}')\n",
    "        return res\n",
    "    \n",
    "    res = Trapezodial(f, a=a, b=b, n=2**(j-1), printTable=False)\n",
    "    res = round(res, decimal)\n",
    "    print(f'I {j}-{k} = {res}')\n",
    "    return res\n",
    "    \n",
    "    \n",
    "def f(x):\n",
    "    return 1/(1+x)\n",
    "\n",
    "    \n",
    "Romberg(f, a=0, b=1, k=4, decimal=4)"
   ]
  },
  {
   "cell_type": "markdown",
   "id": "divine-southwest",
   "metadata": {},
   "source": [
    "# Gauss Quadrature"
   ]
  },
  {
   "cell_type": "code",
   "execution_count": 28,
   "id": "precise-canvas",
   "metadata": {
    "ExecuteTime": {
     "end_time": "2021-04-25T15:28:36.272077Z",
     "start_time": "2021-04-25T15:28:36.242281Z"
    }
   },
   "outputs": [
    {
     "name": "stdout",
     "output_type": "stream",
     "text": [
      "     c        x      f(x)    c.f(x)\n",
      "0  1.0 -0.57735  0.044658  0.044658\n",
      "1  1.0  0.57735  0.622008  0.622008\n",
      "sum c.f(x): 0.6666666\n"
     ]
    },
    {
     "data": {
      "text/plain": [
       "0.3333333134651184"
      ]
     },
     "execution_count": 28,
     "metadata": {},
     "output_type": "execute_result"
    }
   ],
   "source": [
    "def RealQuadrature(f, n):\n",
    "    constants = {\n",
    "        2: {\n",
    "            'c': np.array([1, 1], dtype=\"float32\"),\n",
    "            'x': np.array([-0.577350269, 0.577350269], dtype=\"float32\")\n",
    "        },\n",
    "        3: {\n",
    "            'c': np.array([ 0.5555556, 0.8888889, 0.5555556], dtype=\"float32\"),\n",
    "            'x': np.array([-0.774596669, 0, 0.774596669], dtype=\"float32\")\n",
    "        },\n",
    "        4: {\n",
    "            'c': np.array([0.3478548, 0.6521452, 0.6521452, 0.3478548], dtype=\"float32\"),\n",
    "            'x': np.array([-0.861136312, -0.339981044, 0.339981044, 0.861136312], dtype=\"float32\")\n",
    "        },\n",
    "        5: {\n",
    "            'c': np.array([0.2369269, 0.4786287, 0.5688889, 0.4786287, 0.2369269], dtype=\"float32\"),\n",
    "            'x': np.array([-0.906179846, -0.538469310, 0, 0.538469310, 0.906179846], dtype=\"float32\")\n",
    "        },\n",
    "        6: {\n",
    "            'c': np.array([0.1713245, 0.3607616, 0.4679139, 0.4679139, 0.3607616, 0.1713245], dtype=\"float32\"),\n",
    "            'x': np.array([-0.932469514, -0.661209386, -0.238619186, 0.238619186, 0.661209386, 0.932469514], dtype=\"float32\")\n",
    "        }\n",
    "    }\n",
    "    \n",
    "    df = pd.DataFrame({\n",
    "        'c': constants[n]['c'],\n",
    "        'x': constants[n]['x'],\n",
    "        'f(x)': f(constants[n]['x']),\n",
    "        'c.f(x)': constants[n]['c'] * f(constants[n]['x'])\n",
    "    })\n",
    "    \n",
    "    print(df)\n",
    "    print(\"sum c.f(x):\", np.sum(df['c.f(x)']))\n",
    "    \n",
    "    return np.sum(df['c.f(x)'])\n",
    "    \n",
    "\n",
    "def Quadrature(f, a, b, n):\n",
    "    fTrans = lambda x: f((a + b + (b-a)*x)/2)\n",
    "    \n",
    "    return ((b-a)/2)*(RealQuadrature(fTrans, n))\n",
    "    \n",
    "    \n",
    "def f(x):\n",
    "    return x**2\n",
    "    \n",
    "    \n",
    "Quadrature(f, a=0, b=1, n=2)"
   ]
  }
 ],
 "metadata": {
  "kernelspec": {
   "display_name": "Python 3",
   "language": "python",
   "name": "python3"
  },
  "language_info": {
   "codemirror_mode": {
    "name": "ipython",
    "version": 3
   },
   "file_extension": ".py",
   "mimetype": "text/x-python",
   "name": "python",
   "nbconvert_exporter": "python",
   "pygments_lexer": "ipython3",
   "version": "3.8.6"
  },
  "toc": {
   "base_numbering": 1,
   "nav_menu": {},
   "number_sections": true,
   "sideBar": true,
   "skip_h1_title": false,
   "title_cell": "Table of Contents",
   "title_sidebar": "Contents",
   "toc_cell": false,
   "toc_position": {},
   "toc_section_display": true,
   "toc_window_display": false
  },
  "varInspector": {
   "cols": {
    "lenName": 16,
    "lenType": 16,
    "lenVar": 40
   },
   "kernels_config": {
    "python": {
     "delete_cmd_postfix": "",
     "delete_cmd_prefix": "del ",
     "library": "var_list.py",
     "varRefreshCmd": "print(var_dic_list())"
    },
    "r": {
     "delete_cmd_postfix": ") ",
     "delete_cmd_prefix": "rm(",
     "library": "var_list.r",
     "varRefreshCmd": "cat(var_dic_list()) "
    }
   },
   "types_to_exclude": [
    "module",
    "function",
    "builtin_function_or_method",
    "instance",
    "_Feature"
   ],
   "window_display": false
  }
 },
 "nbformat": 4,
 "nbformat_minor": 5
}
