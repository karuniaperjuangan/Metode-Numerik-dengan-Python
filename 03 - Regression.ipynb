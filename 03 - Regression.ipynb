{
 "cells": [
  {
   "cell_type": "code",
   "execution_count": 105,
   "id": "pleasant-telescope",
   "metadata": {
    "ExecuteTime": {
     "end_time": "2021-03-19T13:49:45.897943Z",
     "start_time": "2021-03-19T13:49:45.890792Z"
    }
   },
   "outputs": [],
   "source": [
    "import numpy as np\n",
    "import pandas as pd\n",
    "from matplotlib import pyplot as plt"
   ]
  },
  {
   "cell_type": "markdown",
   "id": "synthetic-hawaiian",
   "metadata": {},
   "source": [
    "# Show Graph"
   ]
  },
  {
   "cell_type": "code",
   "execution_count": 104,
   "id": "aboriginal-steal",
   "metadata": {
    "ExecuteTime": {
     "end_time": "2021-03-19T13:49:20.840584Z",
     "start_time": "2021-03-19T13:49:20.826159Z"
    }
   },
   "outputs": [],
   "source": [
    "def ShowGraph(a, b, X, Y, line=\"a+bx\"):\n",
    "    line_x = np.arange(np.amin(X), np.amax(X), 0.01)\n",
    "    if line == \"a+bx\":\n",
    "        line_y = a + b * line_x\n",
    "    elif line == \"ax^b\":\n",
    "        line_y = a * line_x ** b\n",
    "    elif line == \"ae^(bx)\":\n",
    "        line_y = a * np.exp(b*line_x)\n",
    "\n",
    "    plt.clf()\n",
    "    plt.plot(line_x, line_y, '-r')\n",
    "    plt.plot(X, Y, 'ob')\n",
    "    plt.grid()\n",
    "    plt.show()"
   ]
  },
  {
   "cell_type": "markdown",
   "id": "recovered-hindu",
   "metadata": {},
   "source": [
    "# Error"
   ]
  },
  {
   "cell_type": "markdown",
   "id": "rural-appointment",
   "metadata": {},
   "source": [
    "## Least Square Error"
   ]
  },
  {
   "cell_type": "code",
   "execution_count": 110,
   "id": "interesting-hotel",
   "metadata": {
    "ExecuteTime": {
     "end_time": "2021-03-19T13:55:59.739193Z",
     "start_time": "2021-03-19T13:55:59.729007Z"
    }
   },
   "outputs": [],
   "source": [
    "def LeastSquareError(a, b, xi, yi):\n",
    "    Dt = np.sum((yi - np.average(yi)) ** 2)\n",
    "    D = np.sum((yi - a - b*xi) ** 2)\n",
    "    \n",
    "    r = ((Dt-D)/Dt) ** 0.5\n",
    "    \n",
    "    return r"
   ]
  },
  {
   "cell_type": "markdown",
   "id": "wrong-actress",
   "metadata": {},
   "source": [
    "# Linear Regression &rarr; y = a + bx"
   ]
  },
  {
   "cell_type": "code",
   "execution_count": 111,
   "id": "peripheral-pakistan",
   "metadata": {
    "ExecuteTime": {
     "end_time": "2021-03-19T13:56:02.362907Z",
     "start_time": "2021-03-19T13:56:02.195249Z"
    }
   },
   "outputs": [
    {
     "data": {
      "image/png": "[encoded data removed]",
      "text/plain": [
       "<Figure size 432x288 with 1 Axes>"
      ]
     },
     "metadata": {
      "needs_background": "light"
     },
     "output_type": "display_data"
    },
    {
     "name": "stdout",
     "output_type": "stream",
     "text": [
      "y = a + bx\n",
      "\n",
      "a: 28.585106382978722\n",
      "b: -0.6569148936170213\n",
      "least suqare error: 0.7231812135292409\n"
     ]
    }
   ],
   "source": [
    "def LinearRegression(X_data, Y_data, showGraph=True, showData=True):\n",
    "    if X_data.size != Y_data.size:\n",
    "        print(\"banyak data X dan Y tidak sama!\")\n",
    "        exit()\n",
    "\n",
    "    n = X_data.size\n",
    "    data = pd.DataFrame({\n",
    "        'xi': X_data,\n",
    "        'yi': Y_data,\n",
    "        'xiyi': X_data*Y_data,\n",
    "        'xi2': X_data*X_data\n",
    "    })\n",
    "\n",
    "    x_bar = np.average(data['xi'])\n",
    "    y_bar = np.average(data['yi'])\n",
    "\n",
    "    b = (n * np.sum(data['xiyi']) - np.sum(data['xi']) *\n",
    "         np.sum(data['yi']))/(n * np.sum(data['xi2']) - np.sum(data['xi'])**2)\n",
    "    a = y_bar - b * x_bar\n",
    "\n",
    "    if showGraph:\n",
    "        ShowGraph(a, b, data['xi'], data['yi'])\n",
    "\n",
    "    if showData:\n",
    "        print(\"linear regression data\")\n",
    "        print(data)\n",
    "        print()\n",
    "\n",
    "    return [a, b]\n",
    "\n",
    "\n",
    "X_data = np.array([4, 6, 8, 10, 14, 16, 20, 22, 24, 28])\n",
    "Y_data = np.array([30, 18, 22, 28, 14, 22, 16, 8, 20, 8])\n",
    "\n",
    "a, b = LinearRegression(X_data, Y_data, showGraph=True, showData=False)\n",
    "print(\"y = a + bx\\n\")\n",
    "print(\"a:\", a)\n",
    "print(\"b:\", b)\n",
    "print(\"least suqare error:\", LeastSquareError(a, b, X_data, Y_data))"
   ]
  },
  {
   "cell_type": "markdown",
   "id": "organic-algorithm",
   "metadata": {},
   "source": [
    "# Non-Linear Regression"
   ]
  },
  {
   "cell_type": "markdown",
   "id": "indian-vessel",
   "metadata": {},
   "source": [
    "## y = ax^b"
   ]
  },
  {
   "cell_type": "code",
   "execution_count": 114,
   "id": "infrared-county",
   "metadata": {
    "ExecuteTime": {
     "end_time": "2021-03-19T13:57:22.992343Z",
     "start_time": "2021-03-19T13:57:22.849632Z"
    }
   },
   "outputs": [
    {
     "name": "stdout",
     "output_type": "stream",
     "text": [
      "linear regression data\n",
      "         xi        yi      xiyi       xi2\n",
      "0  0.000000 -0.301030 -0.000000  0.000000\n",
      "1  0.301030  0.230449  0.069372  0.090619\n",
      "2  0.477121  0.531479  0.253580  0.227645\n",
      "3  0.602060  0.755875  0.455082  0.362476\n",
      "4  0.698970  0.924279  0.646043  0.488559\n",
      "\n"
     ]
    },
    {
     "data": {
      "image/png": "[encoded data removed]",
      "text/plain": [
       "<Figure size 432x288 with 1 Axes>"
      ]
     },
     "metadata": {
      "needs_background": "light"
     },
     "output_type": "display_data"
    },
    {
     "name": "stdout",
     "output_type": "stream",
     "text": [
      "non-linear regression data (y = ax^b)\n",
      "pi = log(xi)\n",
      "qi = log(yi)\n",
      "   xi   yi        pi        qi\n",
      "0   1  0.5  0.000000 -0.301030\n",
      "1   2  1.7  0.301030  0.230449\n",
      "2   3  3.4  0.477121  0.531479\n",
      "3   4  5.7  0.602060  0.755875\n",
      "4   5  8.4  0.698970  0.924279\n",
      "\n",
      "y = ax^b\n",
      "\n",
      "a: 0.500933649097749\n",
      "b: 1.75172364807736\n",
      "least suqare error: 0.7436183127152611\n"
     ]
    }
   ],
   "source": [
    "def NonLinearRegression1(X_data, Y_data, showGraph=True, showData=True):\n",
    "    if X_data.size != Y_data.size:\n",
    "        print(\"banyak data X dan Y tidak sama!\")\n",
    "        exit()\n",
    "\n",
    "    n = X_data.size\n",
    "    data = pd.DataFrame({\n",
    "        'xi': X_data,\n",
    "        'yi': Y_data,\n",
    "        'pi': np.log10(X_data),\n",
    "        'qi': np.log10(Y_data)\n",
    "    })\n",
    "\n",
    "    a, b = LinearRegression(data['pi'], data['qi'],\n",
    "                            showGraph=False, showData=showData)\n",
    "    a = 10 ** a\n",
    "\n",
    "    if showGraph:\n",
    "        ShowGraph(a, b, X_data, Y_data, line=\"ax^b\")\n",
    "\n",
    "    if showData:\n",
    "        print(\"non-linear regression data (y = ax^b)\")\n",
    "        print(\"pi = log(xi)\")\n",
    "        print(\"qi = log(yi)\")\n",
    "        print(data)\n",
    "        print()\n",
    "\n",
    "    return [a, b]\n",
    "\n",
    "\n",
    "X_data = np.array([1, 2, 3, 4, 5])\n",
    "Y_data = np.array([0.5, 1.7, 3.4, 5.7, 8.4])\n",
    "\n",
    "a, b = NonLinearRegression1(X_data, Y_data, showGraph=True, showData=True)\n",
    "print(\"y = ax^b\\n\")\n",
    "print(\"a:\", a)\n",
    "print(\"b:\", b)\n",
    "print(\"least suqare error:\", LeastSquareError(a, b, X_data, Y_data))"
   ]
  },
  {
   "cell_type": "markdown",
   "id": "celtic-restaurant",
   "metadata": {},
   "source": [
    "## y = ae^(bx)"
   ]
  },
  {
   "cell_type": "code",
   "execution_count": 113,
   "id": "continent-rally",
   "metadata": {
    "ExecuteTime": {
     "end_time": "2021-03-19T13:57:15.602972Z",
     "start_time": "2021-03-19T13:57:15.439543Z"
    }
   },
   "outputs": [
    {
     "name": "stdout",
     "output_type": "stream",
     "text": [
      "linear regression data\n",
      "   xi        yi       xiyi  xi2\n",
      "0   1 -0.693147  -0.693147    1\n",
      "1   2  0.530628   1.061257    4\n",
      "2   3  1.223775   3.671326    9\n",
      "3   4  1.740466   6.961865   16\n",
      "4   5  2.128232  10.641159   25\n",
      "\n"
     ]
    },
    {
     "data": {
      "image/png": "[encoded data removed]",
      "text/plain": [
       "<Figure size 432x288 with 1 Axes>"
      ]
     },
     "metadata": {
      "needs_background": "light"
     },
     "output_type": "display_data"
    },
    {
     "name": "stdout",
     "output_type": "stream",
     "text": [
      "non-linear regression data (y = ae^(bx))\n",
      "qi = log(yi)\n",
      "   xi   yi  pi        qi\n",
      "0   1  0.5   1 -0.693147\n",
      "1   2  1.7   2  0.530628\n",
      "2   3  3.4   3  1.223775\n",
      "3   4  5.7   4  1.740466\n",
      "4   5  8.4   5  2.128232\n",
      "\n",
      "y = ae^(bx)\n",
      "\n",
      "a: 0.34308130042789264\n",
      "b: 0.6852595696596763\n",
      "least suqare error: 0.5130828465854856\n"
     ]
    }
   ],
   "source": [
    "def NonLinearRegression2(X_data, Y_data, showGraph=True, showData=True):\n",
    "    if X_data.size != Y_data.size:\n",
    "        print(\"banyak data X dan Y tidak sama!\")\n",
    "        exit()\n",
    "\n",
    "    n = X_data.size\n",
    "    data = pd.DataFrame({\n",
    "        'xi': X_data,\n",
    "        'yi': Y_data,\n",
    "        'pi': X_data,\n",
    "        'qi': np.log(Y_data)\n",
    "    })\n",
    "\n",
    "    a, b = LinearRegression(data['pi'], data['qi'],\n",
    "                            showGraph=False, showData=showData)\n",
    "    a = np.exp(a)\n",
    "\n",
    "    if showGraph:\n",
    "        ShowGraph(a, b, X_data, Y_data, line=\"ae^(bx)\")\n",
    "\n",
    "    if showData:\n",
    "        print(\"non-linear regression data (y = ae^(bx))\")\n",
    "        print(\"qi = log(yi)\")\n",
    "        print(data)\n",
    "        print()\n",
    "\n",
    "    return [a, b]\n",
    "\n",
    "\n",
    "X_data = np.array([1, 2, 3, 4, 5])\n",
    "Y_data = np.array([0.5, 1.7, 3.4, 5.7, 8.4])\n",
    "\n",
    "a, b = NonLinearRegression2(X_data, Y_data, showGraph=True, showData=True)\n",
    "print(\"y = ae^(bx)\\n\")\n",
    "print(\"a:\", a)\n",
    "print(\"b:\", b)\n",
    "print(\"least suqare error:\", LeastSquareError(a, b, X_data, Y_data))"
   ]
  },
  {
   "cell_type": "code",
   "execution_count": null,
   "id": "anticipated-hamburg",
   "metadata": {},
   "outputs": [],
   "source": []
  }
 ],
 "metadata": {
  "kernelspec": {
   "display_name": "Python 3",
   "language": "python",
   "name": "python3"
  },
  "language_info": {
   "codemirror_mode": {
    "name": "ipython",
    "version": 3
   },
   "file_extension": ".py",
   "mimetype": "text/x-python",
   "name": "python",
   "nbconvert_exporter": "python",
   "pygments_lexer": "ipython3",
   "version": "3.8.6"
  },
  "toc": {
   "base_numbering": 1,
   "nav_menu": {},
   "number_sections": true,
   "sideBar": true,
   "skip_h1_title": false,
   "title_cell": "Table of Contents",
   "title_sidebar": "Contents",
   "toc_cell": false,
   "toc_position": {},
   "toc_section_display": true,
   "toc_window_display": false
  },
  "varInspector": {
   "cols": {
    "lenName": 16,
    "lenType": 16,
    "lenVar": 40
   },
   "kernels_config": {
    "python": {
     "delete_cmd_postfix": "",
     "delete_cmd_prefix": "del ",
     "library": "var_list.py",
     "varRefreshCmd": "print(var_dic_list())"
    },
    "r": {
     "delete_cmd_postfix": ") ",
     "delete_cmd_prefix": "rm(",
     "library": "var_list.r",
     "varRefreshCmd": "cat(var_dic_list()) "
    }
   },
   "types_to_exclude": [
    "module",
    "function",
    "builtin_function_or_method",
    "instance",
    "_Feature"
   ],
   "window_display": false
  }
 },
 "nbformat": 4,
 "nbformat_minor": 5
}
