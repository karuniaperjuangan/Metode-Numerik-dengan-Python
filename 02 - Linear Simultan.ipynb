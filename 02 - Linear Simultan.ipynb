{
 "cells": [
  {
   "cell_type": "markdown",
   "id": "protecting-gentleman",
   "metadata": {
    "heading_collapsed": true
   },
   "source": [
    "# Import Packages"
   ]
  },
  {
   "cell_type": "code",
   "execution_count": 2,
   "id": "surgical-exhibit",
   "metadata": {
    "ExecuteTime": {
     "end_time": "2021-03-16T10:02:20.545341Z",
     "start_time": "2021-03-16T10:02:20.252609Z"
    },
    "hidden": true
   },
   "outputs": [],
   "source": [
    "import numpy as np\n",
    "import pandas as pd"
   ]
  },
  {
   "cell_type": "markdown",
   "id": "outstanding-sleeping",
   "metadata": {
    "heading_collapsed": true
   },
   "source": [
    "# Numpy Methods"
   ]
  },
  {
   "cell_type": "markdown",
   "id": "ecological-mainland",
   "metadata": {
    "heading_collapsed": true,
    "hidden": true
   },
   "source": [
    "## `np.linalg.solve(A, B)`"
   ]
  },
  {
   "cell_type": "code",
   "execution_count": 3,
   "id": "affecting-soviet",
   "metadata": {
    "ExecuteTime": {
     "end_time": "2021-03-16T10:02:20.592076Z",
     "start_time": "2021-03-16T10:02:20.547232Z"
    },
    "hidden": true
   },
   "outputs": [
    {
     "name": "stdout",
     "output_type": "stream",
     "text": [
      "[2.1111112  0.37037036 6.185185   4.3333335 ]\n"
     ]
    }
   ],
   "source": [
    "# AX = B\n",
    "A = np.array([[1, 1, 1, 1],\n",
    "              [2, 3, 0, -1],\n",
    "              [-3, 4, 1, 2],\n",
    "              [1, 2, -1, 1]], dtype=\"float32\")\n",
    "\n",
    "B = np.array([13, 1, 10, 1], dtype=\"float32\")\n",
    "\n",
    "X = np.linalg.solve(A, B)\n",
    "print(X)"
   ]
  },
  {
   "cell_type": "markdown",
   "id": "comparable-luxury",
   "metadata": {
    "heading_collapsed": true,
    "hidden": true
   },
   "source": [
    "## `np.linalg.inv(A)`"
   ]
  },
  {
   "cell_type": "code",
   "execution_count": 4,
   "id": "elder-musical",
   "metadata": {
    "ExecuteTime": {
     "end_time": "2021-03-16T10:02:20.750645Z",
     "start_time": "2021-03-16T10:02:20.596237Z"
    },
    "hidden": true
   },
   "outputs": [
    {
     "name": "stdout",
     "output_type": "stream",
     "text": [
      "[[ 0.3493976  -0.03614458  0.04819277]\n",
      " [-0.31325302  0.20481928  0.06024097]\n",
      " [-0.26506025  0.09638554  0.20481928]]\n"
     ]
    }
   ],
   "source": [
    "A = np.array([[3,  1, -1],\n",
    "              [4,  7, -3],\n",
    "              [2, -2,  5]], dtype=\"float32\")\n",
    "\n",
    "A_invers = np.linalg.inv(A)\n",
    "print(A_invers)"
   ]
  },
  {
   "cell_type": "markdown",
   "id": "emerging-postage",
   "metadata": {
    "heading_collapsed": true
   },
   "source": [
    "# Metode dari Materi"
   ]
  },
  {
   "cell_type": "markdown",
   "id": "mounted-twenty",
   "metadata": {
    "heading_collapsed": true,
    "hidden": true
   },
   "source": [
    "## Eliminasi Gauss"
   ]
  },
  {
   "cell_type": "code",
   "execution_count": 5,
   "id": "suburban-beverage",
   "metadata": {
    "ExecuteTime": {
     "end_time": "2021-03-16T10:02:20.888826Z",
     "start_time": "2021-03-16T10:02:20.783893Z"
    },
    "hidden": true
   },
   "outputs": [],
   "source": [
    "def Gauss(A, B, printStep=True):\n",
    "    size = B.size\n",
    "    matrix = np.concatenate((A, B.reshape(size, 1)), axis=1)\n",
    "    \n",
    "    for i in range(1, size):\n",
    "        if printStep:\n",
    "            print(\"step\", i, \"\\n\")\n",
    "            \n",
    "        rowBefore = matrix[i-1]/matrix[i-1, i-1] # depannya 1\n",
    "\n",
    "        for j in range(i, size):\n",
    "            matrix[j] -= (rowBefore*matrix[j, i-1])\n",
    "            if printStep:\n",
    "                print(matrix, \"\\n\")\n",
    "    \n",
    "    return matrix"
   ]
  },
  {
   "cell_type": "markdown",
   "id": "quick-springfield",
   "metadata": {
    "heading_collapsed": true,
    "hidden": true
   },
   "source": [
    "## Eliminasi Gauss-Jordan"
   ]
  },
  {
   "cell_type": "markdown",
   "id": "emerging-interaction",
   "metadata": {
    "heading_collapsed": true,
    "hidden": true
   },
   "source": [
    "### Dari Awal"
   ]
  },
  {
   "cell_type": "code",
   "execution_count": 6,
   "id": "plastic-breach",
   "metadata": {
    "ExecuteTime": {
     "end_time": "2021-03-16T10:02:21.022378Z",
     "start_time": "2021-03-16T10:02:20.902473Z"
    },
    "hidden": true
   },
   "outputs": [],
   "source": [
    "def GaussJordan(A, B, printStep=False, showInv=False, showB=True):\n",
    "    size = B.size\n",
    "    matrix = A\n",
    "    if showB:\n",
    "        matrix = np.concatenate((A, B.reshape(size, 1)), axis=1)\n",
    "    if showInv:\n",
    "        identity = np.identity(size, dtype=\"float32\")\n",
    "        matrix = np.concatenate((matrix, identity), axis=1)\n",
    "    \n",
    "    for i in range(0, size):\n",
    "        if printStep:\n",
    "            print(\"step\", i+1, \"\\n\")\n",
    "            \n",
    "        matrix[i] /= matrix[i, i]\n",
    "\n",
    "        for j in range(0, size):\n",
    "            if i == j:\n",
    "                continue\n",
    "                \n",
    "            matrix[j] -= matrix[i] * matrix[j, i]\n",
    "            if printStep:\n",
    "                print(matrix, \"\\n\")\n",
    "        \n",
    "    return matrix"
   ]
  },
  {
   "cell_type": "markdown",
   "id": "driving-portsmouth",
   "metadata": {
    "heading_collapsed": true,
    "hidden": true
   },
   "source": [
    "### Lanjutan Eliminasi Gauss"
   ]
  },
  {
   "cell_type": "code",
   "execution_count": 7,
   "id": "lightweight-bishop",
   "metadata": {
    "ExecuteTime": {
     "end_time": "2021-03-16T10:02:21.171287Z",
     "start_time": "2021-03-16T10:02:21.033507Z"
    },
    "hidden": true
   },
   "outputs": [],
   "source": [
    "def GaussJordan2(A, B, printStep=False, showInv=False, showB=True):\n",
    "    size = B.size\n",
    "    matrix = A\n",
    "    if showB:\n",
    "        matrix = np.concatenate((A, B.reshape(size, 1)), axis=1)\n",
    "    if showInv:\n",
    "        identity = np.identity(size, dtype=\"float32\")\n",
    "        matrix = np.concatenate((matrix, identity), axis=1)\n",
    "\n",
    "    for i in range(1, size):\n",
    "        if printStep:\n",
    "            print(\"step\", i, \"\\n\")\n",
    "            \n",
    "        rowBefore = matrix[i-1]/matrix[i-1, i-1]  # depannya 1\n",
    "\n",
    "        for j in range(i, size):\n",
    "            matrix[j] -= (rowBefore*matrix[j, i-1])\n",
    "            if printStep:\n",
    "                print(matrix, \"\\n\")\n",
    "    \n",
    "    for i in range(size-1, -1, -1):\n",
    "        if printStep:\n",
    "            print(\"step backward\", i, \"\\n\")\n",
    "            \n",
    "        matrix[i] /= matrix[i, i]\n",
    "        for j in range(size-1, -1, -1):\n",
    "            if i == j:\n",
    "                continue\n",
    "            matrix[j] -= matrix[i]*matrix[j, i]\n",
    "            if printStep:\n",
    "                print(matrix, \"\\n\")\n",
    "                \n",
    "            \n",
    "    return matrix"
   ]
  },
  {
   "cell_type": "markdown",
   "id": "sustainable-facility",
   "metadata": {
    "heading_collapsed": true,
    "hidden": true
   },
   "source": [
    "## Iterasi - Jacobi"
   ]
  },
  {
   "cell_type": "code",
   "execution_count": 8,
   "id": "athletic-romance",
   "metadata": {
    "ExecuteTime": {
     "end_time": "2021-03-16T10:02:21.260606Z",
     "start_time": "2021-03-16T10:02:21.179130Z"
    },
    "hidden": true
   },
   "outputs": [],
   "source": [
    "# AX = B\n",
    "def Jacobi(A, B, X_before, es=0.005, iter=1, printStep=False):\n",
    "    size = B.size\n",
    "    X = np.zeros(size)\n",
    "    RAE = np.zeros(size)\n",
    "\n",
    "    # iterasi X -> x1, x2, x3, dst... || x, y, z, dst...\n",
    "    for i in range(0, size):\n",
    "        X[i] = B[i]\n",
    "        for j in range(0, size):\n",
    "            if i != j:\n",
    "                X[i] -= A[i, j]*X_before[j]\n",
    "        X[i] /= A[i, i]\n",
    "\n",
    "    for i in range(0, size):\n",
    "        RAE[i] = abs((X[i] - X_before[i])/X[i])\n",
    "        \n",
    "    if printStep:\n",
    "        print(\"\\niter\", iter)\n",
    "        print(\"X   \", X)\n",
    "        print(\"RAE \", RAE)\n",
    "\n",
    "    if np.all(RAE < es) or iter > 100:\n",
    "        return X\n",
    "\n",
    "    return Jacobi(A, B, X, es, iter+1, printStep)"
   ]
  },
  {
   "cell_type": "markdown",
   "id": "correct-instrumentation",
   "metadata": {
    "heading_collapsed": true,
    "hidden": true
   },
   "source": [
    "## Iterasi - Gauss-Seidel"
   ]
  },
  {
   "cell_type": "code",
   "execution_count": 9,
   "id": "available-picnic",
   "metadata": {
    "ExecuteTime": {
     "end_time": "2021-03-16T10:02:21.396590Z",
     "start_time": "2021-03-16T10:02:21.272528Z"
    },
    "hidden": true
   },
   "outputs": [],
   "source": [
    "# AX = B\n",
    "def GaussSeidel(A, B, X_before, es=0.005, iter=1, printStep=False):\n",
    "    size = B.size\n",
    "    X = np.zeros(size)\n",
    "    RAE = np.zeros(size)\n",
    "    X_new = X_before.copy()                # bedanya ini\n",
    "\n",
    "    # iterasi X -> x1, x2, x3, dst... || x, y, z, dst...\n",
    "    for i in range(0, size):\n",
    "        X[i] = B[i]\n",
    "        for j in range(0, size):\n",
    "            if i != j:\n",
    "                X[i] -= A[i, j]*X_new[j]   # ini\n",
    "        X[i] /= A[i, i]\n",
    "        X_new[i] = X[i]                    # dan ini\n",
    "\n",
    "    for i in range(0, size):\n",
    "        RAE[i] = abs((X[i] - X_before[i])/X[i])\n",
    "\n",
    "    if printStep:\n",
    "        print(\"\\niter\", iter)\n",
    "        print(\"X   \", X)\n",
    "        print(\"RAE \", RAE)\n",
    "\n",
    "    if np.all(RAE < es) or iter > 100:\n",
    "        return X\n",
    "\n",
    "    return GaussSeidel(A, B, X, es, iter+1, printStep)"
   ]
  },
  {
   "cell_type": "markdown",
   "id": "fabulous-thousand",
   "metadata": {},
   "source": [
    "# Driver Code\n",
    "\n",
    "- **Gauss**\n",
    "  ```py\n",
    "  result = Gauss(A, B, printStep=True)\n",
    "  ```\n",
    "\n",
    "- **Gauss Jordan (dari awal)** | urutan: A B A_inv | result bukan untuk invers\n",
    "  ```py\n",
    "  resultMatrix = GaussJordan(A, B, printStep=True, showInv=False, showB=True)\n",
    "  result = resultMatrix[:, -1]\n",
    "  ```\n",
    "\n",
    "- **Gauss Jordan (lanjutan gauss)** | urutan A B A_inv | result bukan untuk invers\n",
    "  ```py\n",
    "  resultMatrix = GaussJordan2(A, B, printStep=True, showInv=False, showB=True)\n",
    "  result = resultMatrix[:, -1]\n",
    "  ```\n",
    "  \n",
    "- **Jacobi**\n",
    "  ```py\n",
    "  # X0 => terkaan awal\n",
    "  X0 = np.array([0, 0, 0], dtype=\"float32\")\n",
    "  result = Jacobi(A, B, X0, es=0.005, printStep=True)\n",
    "  ```\n",
    "  \n",
    "- **Gauss Seidel**\n",
    "  ```py\n",
    "  # X0 => terkaan awal\n",
    "  X0 = np.array([0, 0, 0], dtype=\"float32\")\n",
    "  result = GaussSeidel(A, B, X0, es=0.005, printStep=True)\n",
    "  ```"
   ]
  },
  {
   "cell_type": "code",
   "execution_count": 11,
   "id": "confirmed-solid",
   "metadata": {
    "ExecuteTime": {
     "end_time": "2021-03-16T10:38:16.076270Z",
     "start_time": "2021-03-16T10:38:16.049221Z"
    },
    "scrolled": false
   },
   "outputs": [
    {
     "name": "stdout",
     "output_type": "stream",
     "text": [
      "step 1 \n",
      "\n",
      "[[ 3.  0.  4.  0.  0.]\n",
      " [ 0.  6.  4.  0.  0.]\n",
      " [-3.  0.  0.  2.  0.]\n",
      " [ 0.  1.  0.  1.  4.]] \n",
      "\n",
      "[[3. 0. 4. 0. 0.]\n",
      " [0. 6. 4. 0. 0.]\n",
      " [0. 0. 4. 2. 0.]\n",
      " [0. 1. 0. 1. 4.]] \n",
      "\n",
      "[[3. 0. 4. 0. 0.]\n",
      " [0. 6. 4. 0. 0.]\n",
      " [0. 0. 4. 2. 0.]\n",
      " [0. 1. 0. 1. 4.]] \n",
      "\n",
      "step 2 \n",
      "\n",
      "[[3. 0. 4. 0. 0.]\n",
      " [0. 6. 4. 0. 0.]\n",
      " [0. 0. 4. 2. 0.]\n",
      " [0. 1. 0. 1. 4.]] \n",
      "\n",
      "[[ 3.         0.         4.         0.         0.       ]\n",
      " [ 0.         6.         4.         0.         0.       ]\n",
      " [ 0.         0.         4.         2.         0.       ]\n",
      " [ 0.         0.        -0.6666667  1.         4.       ]] \n",
      "\n",
      "step 3 \n",
      "\n",
      "[[3.        0.        4.        0.        0.       ]\n",
      " [0.        6.        4.        0.        0.       ]\n",
      " [0.        0.        4.        2.        0.       ]\n",
      " [0.        0.        0.        1.3333334 4.       ]] \n",
      "\n",
      "step backward 3 \n",
      "\n",
      "[[ 3.  0.  4.  0.  0.]\n",
      " [ 0.  6.  4.  0.  0.]\n",
      " [ 0.  0.  4.  0. -6.]\n",
      " [ 0.  0.  0.  1.  3.]] \n",
      "\n",
      "[[ 3.  0.  4.  0.  0.]\n",
      " [ 0.  6.  4.  0.  0.]\n",
      " [ 0.  0.  4.  0. -6.]\n",
      " [ 0.  0.  0.  1.  3.]] \n",
      "\n",
      "[[ 3.  0.  4.  0.  0.]\n",
      " [ 0.  6.  4.  0.  0.]\n",
      " [ 0.  0.  4.  0. -6.]\n",
      " [ 0.  0.  0.  1.  3.]] \n",
      "\n",
      "step backward 2 \n",
      "\n",
      "[[ 3.   0.   4.   0.   0. ]\n",
      " [ 0.   6.   4.   0.   0. ]\n",
      " [ 0.   0.   1.   0.  -1.5]\n",
      " [ 0.   0.   0.   1.   3. ]] \n",
      "\n",
      "[[ 3.   0.   4.   0.   0. ]\n",
      " [ 0.   6.   0.   0.   6. ]\n",
      " [ 0.   0.   1.   0.  -1.5]\n",
      " [ 0.   0.   0.   1.   3. ]] \n",
      "\n",
      "[[ 3.   0.   0.   0.   6. ]\n",
      " [ 0.   6.   0.   0.   6. ]\n",
      " [ 0.   0.   1.   0.  -1.5]\n",
      " [ 0.   0.   0.   1.   3. ]] \n",
      "\n",
      "step backward 1 \n",
      "\n",
      "[[ 3.   0.   0.   0.   6. ]\n",
      " [ 0.   1.   0.   0.   1. ]\n",
      " [ 0.   0.   1.   0.  -1.5]\n",
      " [ 0.   0.   0.   1.   3. ]] \n",
      "\n",
      "[[ 3.   0.   0.   0.   6. ]\n",
      " [ 0.   1.   0.   0.   1. ]\n",
      " [ 0.   0.   1.   0.  -1.5]\n",
      " [ 0.   0.   0.   1.   3. ]] \n",
      "\n",
      "[[ 3.   0.   0.   0.   6. ]\n",
      " [ 0.   1.   0.   0.   1. ]\n",
      " [ 0.   0.   1.   0.  -1.5]\n",
      " [ 0.   0.   0.   1.   3. ]] \n",
      "\n",
      "step backward 0 \n",
      "\n",
      "[[ 1.   0.   0.   0.   2. ]\n",
      " [ 0.   1.   0.   0.   1. ]\n",
      " [ 0.   0.   1.   0.  -1.5]\n",
      " [ 0.   0.   0.   1.   3. ]] \n",
      "\n",
      "[[ 1.   0.   0.   0.   2. ]\n",
      " [ 0.   1.   0.   0.   1. ]\n",
      " [ 0.   0.   1.   0.  -1.5]\n",
      " [ 0.   0.   0.   1.   3. ]] \n",
      "\n",
      "[[ 1.   0.   0.   0.   2. ]\n",
      " [ 0.   1.   0.   0.   1. ]\n",
      " [ 0.   0.   1.   0.  -1.5]\n",
      " [ 0.   0.   0.   1.   3. ]] \n",
      "\n",
      "\n",
      "result\n",
      "[ 2.   1.  -1.5  3. ]\n"
     ]
    }
   ],
   "source": [
    "A = np.array([[3, 0, 4, 0],\n",
    "              [0, 6, 4, 0],\n",
    "              [-3, 0, 0, 2],\n",
    "             [0, 1, 0, 1]], dtype=\"float32\")\n",
    "\n",
    "B = np.array([0, 0, 0, 4], dtype=\"float32\")\n",
    "\n",
    "# copy here\n",
    "resultMatrix = GaussJordan2(A, B, printStep=True, showInv=False, showB=True)\n",
    "result = resultMatrix[:, -1]\n",
    "# end of copy here\n",
    "\n",
    "print(\"\\nresult\", result, sep=\"\\n\")"
   ]
  },
  {
   "cell_type": "code",
   "execution_count": null,
   "id": "internal-celtic",
   "metadata": {},
   "outputs": [],
   "source": []
  },
  {
   "cell_type": "code",
   "execution_count": null,
   "id": "formal-average",
   "metadata": {},
   "outputs": [],
   "source": []
  }
 ],
 "metadata": {
  "kernelspec": {
   "display_name": "Python 3",
   "language": "python",
   "name": "python3"
  },
  "language_info": {
   "codemirror_mode": {
    "name": "ipython",
    "version": 3
   },
   "file_extension": ".py",
   "mimetype": "text/x-python",
   "name": "python",
   "nbconvert_exporter": "python",
   "pygments_lexer": "ipython3",
   "version": "3.8.6"
  },
  "toc": {
   "base_numbering": 1,
   "nav_menu": {},
   "number_sections": true,
   "sideBar": true,
   "skip_h1_title": false,
   "title_cell": "Table of Contents",
   "title_sidebar": "Contents",
   "toc_cell": false,
   "toc_position": {
    "height": "calc(100% - 180px)",
    "left": "10px",
    "top": "150px",
    "width": "273.188px"
   },
   "toc_section_display": true,
   "toc_window_display": false
  },
  "varInspector": {
   "cols": {
    "lenName": 16,
    "lenType": 16,
    "lenVar": 40
   },
   "kernels_config": {
    "python": {
     "delete_cmd_postfix": "",
     "delete_cmd_prefix": "del ",
     "library": "var_list.py",
     "varRefreshCmd": "print(var_dic_list())"
    },
    "r": {
     "delete_cmd_postfix": ") ",
     "delete_cmd_prefix": "rm(",
     "library": "var_list.r",
     "varRefreshCmd": "cat(var_dic_list()) "
    }
   },
   "types_to_exclude": [
    "module",
    "function",
    "builtin_function_or_method",
    "instance",
    "_Feature"
   ],
   "window_display": false
  }
 },
 "nbformat": 4,
 "nbformat_minor": 5
}
