{
 "cells": [
  {
   "cell_type": "code",
   "execution_count": 48,
   "id": "pleasant-telescope",
   "metadata": {
    "ExecuteTime": {
     "end_time": "2021-04-04T15:55:17.839036Z",
     "start_time": "2021-04-04T15:55:17.808996Z"
    }
   },
   "outputs": [],
   "source": [
    "import numpy as np\n",
    "import pandas as pd\n",
    "from matplotlib import pyplot as plt\n",
    "\n",
    "np.set_printoptions(suppress=True, precision=3)"
   ]
  },
  {
   "cell_type": "markdown",
   "id": "synthetic-hawaiian",
   "metadata": {
    "heading_collapsed": true
   },
   "source": [
    "# Show Graph"
   ]
  },
  {
   "cell_type": "code",
   "execution_count": 3,
   "id": "aboriginal-steal",
   "metadata": {
    "ExecuteTime": {
     "end_time": "2021-04-04T15:15:27.195920Z",
     "start_time": "2021-04-04T15:15:27.188598Z"
    },
    "hidden": true
   },
   "outputs": [],
   "source": [
    "def ShowGraph(a, b, X, Y, line=\"a+bx\"):\n",
    "    line_x = np.arange(np.amin(X), np.amax(X), 0.01)\n",
    "    if line == \"a+bx\":\n",
    "        line_y = a + b * line_x\n",
    "    elif line == \"ax^b\":\n",
    "        line_y = a * line_x ** b\n",
    "    elif line == \"ae^(bx)\":\n",
    "        line_y = a * np.exp(b*line_x)\n",
    "\n",
    "    plt.clf()\n",
    "    plt.plot(line_x, line_y, '-r')\n",
    "    plt.plot(X, Y, 'ob')\n",
    "    plt.grid()\n",
    "    plt.show()"
   ]
  },
  {
   "cell_type": "markdown",
   "id": "recovered-hindu",
   "metadata": {
    "heading_collapsed": true
   },
   "source": [
    "# Error"
   ]
  },
  {
   "cell_type": "markdown",
   "id": "rural-appointment",
   "metadata": {
    "heading_collapsed": true,
    "hidden": true
   },
   "source": [
    "## Least Square Error"
   ]
  },
  {
   "cell_type": "code",
   "execution_count": 4,
   "id": "interesting-hotel",
   "metadata": {
    "ExecuteTime": {
     "end_time": "2021-04-04T15:15:27.340926Z",
     "start_time": "2021-04-04T15:15:27.199251Z"
    },
    "hidden": true
   },
   "outputs": [],
   "source": [
    "def LeastSquareError(a, b, xi, yi):\n",
    "    Dt = np.sum((yi - np.average(yi)) ** 2)\n",
    "    D = np.sum((yi - a - b*xi) ** 2)\n",
    "    \n",
    "    r = ((Dt-D)/Dt) ** 0.5\n",
    "    \n",
    "    return r"
   ]
  },
  {
   "cell_type": "markdown",
   "id": "indie-closing",
   "metadata": {
    "hidden": true
   },
   "source": [
    "## Correlation Coeficient"
   ]
  },
  {
   "cell_type": "code",
   "execution_count": 5,
   "id": "impressed-discharge",
   "metadata": {
    "ExecuteTime": {
     "end_time": "2021-04-04T15:15:27.441718Z",
     "start_time": "2021-04-04T15:15:27.347940Z"
    },
    "hidden": true
   },
   "outputs": [],
   "source": [
    "def CorrelationCoef(X, Y):\n",
    "    difX = X - np.average(X)\n",
    "    difY = Y - np.average(Y)\n",
    "    \n",
    "    r = (np.sum(difX*difY))/((np.sum((difX)**2)*np.sum((difY)**2))**(0.5))\n",
    "    \n",
    "    return r;"
   ]
  },
  {
   "cell_type": "markdown",
   "id": "wrong-actress",
   "metadata": {
    "heading_collapsed": true
   },
   "source": [
    "# Linear Regression &rarr; y = a + bx"
   ]
  },
  {
   "cell_type": "code",
   "execution_count": 6,
   "id": "peripheral-pakistan",
   "metadata": {
    "ExecuteTime": {
     "end_time": "2021-04-04T15:15:27.815543Z",
     "start_time": "2021-04-04T15:15:27.449996Z"
    },
    "hidden": true
   },
   "outputs": [
    {
     "data": {
      "image/png": "[encoded data removed]",
      "text/plain": [
       "<Figure size 432x288 with 1 Axes>"
      ]
     },
     "metadata": {
      "needs_background": "light"
     },
     "output_type": "display_data"
    },
    {
     "name": "stdout",
     "output_type": "stream",
     "text": [
      "y = a + bx\n",
      "\n",
      "a: 28.585106382978722\n",
      "b: -0.6569148936170213\n",
      "least suqare error: 0.7231812135292409\n"
     ]
    }
   ],
   "source": [
    "def LinearRegression(X_data, Y_data, showGraph=True, showData=True):\n",
    "    if X_data.size != Y_data.size:\n",
    "        print(\"banyak data X dan Y tidak sama!\")\n",
    "        exit()\n",
    "\n",
    "    n = X_data.size\n",
    "    data = pd.DataFrame({\n",
    "        'xi': X_data,\n",
    "        'yi': Y_data,\n",
    "        'xiyi': X_data*Y_data,\n",
    "        'xi2': X_data*X_data\n",
    "    })\n",
    "\n",
    "    x_bar = np.average(data['xi'])\n",
    "    y_bar = np.average(data['yi'])\n",
    "\n",
    "    b = (n * np.sum(data['xiyi']) - np.sum(data['xi']) *\n",
    "         np.sum(data['yi']))/(n * np.sum(data['xi2']) - np.sum(data['xi'])**2)\n",
    "    a = y_bar - b * x_bar\n",
    "\n",
    "    if showGraph:\n",
    "        ShowGraph(a, b, data['xi'], data['yi'])\n",
    "\n",
    "    if showData:\n",
    "        print(\"linear regression data\")\n",
    "        print(data)\n",
    "        print()\n",
    "\n",
    "    return [a, b]\n",
    "\n",
    "\n",
    "X_data = np.array([4, 6, 8, 10, 14, 16, 20, 22, 24, 28])\n",
    "Y_data = np.array([30, 18, 22, 28, 14, 22, 16, 8, 20, 8])\n",
    "\n",
    "a, b = LinearRegression(X_data, Y_data, showGraph=True, showData=False)\n",
    "print(\"y = a + bx\\n\")\n",
    "print(\"a:\", a)\n",
    "print(\"b:\", b)\n",
    "print(\"least suqare error:\", LeastSquareError(a, b, X_data, Y_data))"
   ]
  },
  {
   "cell_type": "markdown",
   "id": "organic-algorithm",
   "metadata": {
    "heading_collapsed": true
   },
   "source": [
    "# Non-Linear Regression"
   ]
  },
  {
   "cell_type": "markdown",
   "id": "indian-vessel",
   "metadata": {
    "hidden": true
   },
   "source": [
    "## y = ax^b"
   ]
  },
  {
   "cell_type": "code",
   "execution_count": 7,
   "id": "infrared-county",
   "metadata": {
    "ExecuteTime": {
     "end_time": "2021-04-04T15:15:27.992633Z",
     "start_time": "2021-04-04T15:15:27.817463Z"
    },
    "hidden": true
   },
   "outputs": [
    {
     "name": "stdout",
     "output_type": "stream",
     "text": [
      "linear regression data\n",
      "         xi        yi      xiyi       xi2\n",
      "0  0.000000 -0.301030 -0.000000  0.000000\n",
      "1  0.301030  0.230449  0.069372  0.090619\n",
      "2  0.477121  0.531479  0.253580  0.227645\n",
      "3  0.602060  0.755875  0.455082  0.362476\n",
      "4  0.698970  0.924279  0.646043  0.488559\n",
      "\n"
     ]
    },
    {
     "data": {
      "image/png": "[encoded data removed]",
      "text/plain": [
       "<Figure size 432x288 with 1 Axes>"
      ]
     },
     "metadata": {
      "needs_background": "light"
     },
     "output_type": "display_data"
    },
    {
     "name": "stdout",
     "output_type": "stream",
     "text": [
      "non-linear regression data (y = ax^b)\n",
      "pi = log(xi)\n",
      "qi = log(yi)\n",
      "   xi   yi        pi        qi\n",
      "0   1  0.5  0.000000 -0.301030\n",
      "1   2  1.7  0.301030  0.230449\n",
      "2   3  3.4  0.477121  0.531479\n",
      "3   4  5.7  0.602060  0.755875\n",
      "4   5  8.4  0.698970  0.924279\n",
      "\n",
      "y = ax^b\n",
      "\n",
      "a: 0.500933649097749\n",
      "b: 1.75172364807736\n",
      "least suqare error: 0.7436183127152611\n"
     ]
    }
   ],
   "source": [
    "def NonLinearRegression1(X_data, Y_data, showGraph=True, showData=True):\n",
    "    if X_data.size != Y_data.size:\n",
    "        print(\"banyak data X dan Y tidak sama!\")\n",
    "        exit()\n",
    "\n",
    "    n = X_data.size\n",
    "    data = pd.DataFrame({\n",
    "        'xi': X_data,\n",
    "        'yi': Y_data,\n",
    "        'pi': np.log10(X_data),\n",
    "        'qi': np.log10(Y_data)\n",
    "    })\n",
    "\n",
    "    a, b = LinearRegression(data['pi'], data['qi'],\n",
    "                            showGraph=False, showData=showData)\n",
    "    a = 10 ** a\n",
    "\n",
    "    if showGraph:\n",
    "        ShowGraph(a, b, X_data, Y_data, line=\"ax^b\")\n",
    "\n",
    "    if showData:\n",
    "        print(\"non-linear regression data (y = ax^b)\")\n",
    "        print(\"pi = log(xi)\")\n",
    "        print(\"qi = log(yi)\")\n",
    "        print(data)\n",
    "        print()\n",
    "\n",
    "    return [a, b]\n",
    "\n",
    "\n",
    "X_data = np.array([1, 2, 3, 4, 5])\n",
    "Y_data = np.array([0.5, 1.7, 3.4, 5.7, 8.4])\n",
    "\n",
    "a, b = NonLinearRegression1(X_data, Y_data, showGraph=True, showData=True)\n",
    "print(\"y = ax^b\\n\")\n",
    "print(\"a:\", a)\n",
    "print(\"b:\", b)\n",
    "print(\"least suqare error:\", LeastSquareError(a, b, X_data, Y_data))"
   ]
  },
  {
   "cell_type": "markdown",
   "id": "celtic-restaurant",
   "metadata": {
    "hidden": true
   },
   "source": [
    "## y = ae^(bx)"
   ]
  },
  {
   "cell_type": "code",
   "execution_count": 8,
   "id": "continent-rally",
   "metadata": {
    "ExecuteTime": {
     "end_time": "2021-04-04T15:15:28.167490Z",
     "start_time": "2021-04-04T15:15:27.995275Z"
    },
    "hidden": true
   },
   "outputs": [
    {
     "name": "stdout",
     "output_type": "stream",
     "text": [
      "linear regression data\n",
      "   xi        yi       xiyi  xi2\n",
      "0   1 -0.693147  -0.693147    1\n",
      "1   2  0.530628   1.061257    4\n",
      "2   3  1.223775   3.671326    9\n",
      "3   4  1.740466   6.961865   16\n",
      "4   5  2.128232  10.641159   25\n",
      "\n"
     ]
    },
    {
     "data": {
      "image/png": "[encoded data removed]",
      "text/plain": [
       "<Figure size 432x288 with 1 Axes>"
      ]
     },
     "metadata": {
      "needs_background": "light"
     },
     "output_type": "display_data"
    },
    {
     "name": "stdout",
     "output_type": "stream",
     "text": [
      "non-linear regression data (y = ae^(bx))\n",
      "qi = log(yi)\n",
      "   xi   yi  pi        qi\n",
      "0   1  0.5   1 -0.693147\n",
      "1   2  1.7   2  0.530628\n",
      "2   3  3.4   3  1.223775\n",
      "3   4  5.7   4  1.740466\n",
      "4   5  8.4   5  2.128232\n",
      "\n",
      "y = ae^(bx)\n",
      "\n",
      "a: 0.34308130042789264\n",
      "b: 0.6852595696596763\n",
      "least suqare error: 0.5130828465854856\n"
     ]
    }
   ],
   "source": [
    "def NonLinearRegression2(X_data, Y_data, showGraph=True, showData=True):\n",
    "    if X_data.size != Y_data.size:\n",
    "        print(\"banyak data X dan Y tidak sama!\")\n",
    "        exit()\n",
    "\n",
    "    n = X_data.size\n",
    "    data = pd.DataFrame({\n",
    "        'xi': X_data,\n",
    "        'yi': Y_data,\n",
    "        'pi': X_data,\n",
    "        'qi': np.log(Y_data)\n",
    "    })\n",
    "\n",
    "    a, b = LinearRegression(data['pi'], data['qi'],\n",
    "                            showGraph=False, showData=showData)\n",
    "    a = np.exp(a)\n",
    "\n",
    "    if showGraph:\n",
    "        ShowGraph(a, b, X_data, Y_data, line=\"ae^(bx)\")\n",
    "\n",
    "    if showData:\n",
    "        print(\"non-linear regression data (y = ae^(bx))\")\n",
    "        print(\"qi = log(yi)\")\n",
    "        print(data)\n",
    "        print()\n",
    "\n",
    "    return [a, b]\n",
    "\n",
    "\n",
    "X_data = np.array([1, 2, 3, 4, 5])\n",
    "Y_data = np.array([0.5, 1.7, 3.4, 5.7, 8.4])\n",
    "\n",
    "a, b = NonLinearRegression2(X_data, Y_data, showGraph=True, showData=True)\n",
    "print(\"y = ae^(bx)\\n\")\n",
    "print(\"a:\", a)\n",
    "print(\"b:\", b)\n",
    "print(\"least suqare error:\", LeastSquareError(a, b, X_data, Y_data))"
   ]
  },
  {
   "cell_type": "markdown",
   "id": "contained-canon",
   "metadata": {},
   "source": [
    "# Polinomial Regression"
   ]
  },
  {
   "cell_type": "code",
   "execution_count": 9,
   "id": "synthetic-chemistry",
   "metadata": {
    "ExecuteTime": {
     "end_time": "2021-04-04T15:15:28.180093Z",
     "start_time": "2021-04-04T15:15:28.172141Z"
    }
   },
   "outputs": [],
   "source": [
    "def GaussJordan(A, B, printStep=False):\n",
    "    size = B.size\n",
    "    matrix = A\n",
    "    matrix = np.concatenate((A, B.reshape(size, 1)), axis=1)\n",
    "    \n",
    "    for i in range(0, size):\n",
    "        if printStep:\n",
    "            print(\"step\", i+1, \"\\n\")\n",
    "            \n",
    "        matrix[i] /= matrix[i, i]\n",
    "\n",
    "        for j in range(0, size):\n",
    "            if i == j:\n",
    "                continue\n",
    "                \n",
    "            matrix[j] -= matrix[i] * matrix[j, i]\n",
    "            if printStep:\n",
    "                print(matrix, \"\\n\")\n",
    "        \n",
    "    return matrix"
   ]
  },
  {
   "cell_type": "markdown",
   "id": "moved-software",
   "metadata": {},
   "source": [
    "## Ordo 2"
   ]
  },
  {
   "cell_type": "code",
   "execution_count": 55,
   "id": "cathedral-environment",
   "metadata": {
    "ExecuteTime": {
     "end_time": "2021-04-04T16:02:57.670926Z",
     "start_time": "2021-04-04T16:02:57.630783Z"
    }
   },
   "outputs": [],
   "source": [
    "def CorrelationCoefPoli2(x, y, a0, a1, a2):\n",
    "    # x y adalah data awal\n",
    "    ya = a0 + a1*x + a2*(x**2)\n",
    "    \n",
    "    D = np.sum((y - ya)**2)\n",
    "    Dt = np.sum((y - np.average(y))**2)\n",
    "    r = np.sqrt((Dt-D)/Dt)\n",
    "    \n",
    "    table = pd.DataFrame({\n",
    "        'x': x,\n",
    "        'y': y,\n",
    "        'x2': x**2,\n",
    "        \"y'\": ya,\n",
    "        \"y - y'\": y - ya,\n",
    "        \"(y - y')^2\": (y - ya)**2,\n",
    "        'y - ybar': y - np.average(y),\n",
    "        '(y - ybar)^2': (y - np.average(y))**2\n",
    "    })\n",
    "    \n",
    "    print(\"Dt (y-ybar)^2 :\", Dt)\n",
    "    print(\"D  (y-ya)^2   :\", D)\n",
    "    print(table)\n",
    "    \n",
    "    return r"
   ]
  },
  {
   "cell_type": "code",
   "execution_count": 25,
   "id": "included-circuit",
   "metadata": {
    "ExecuteTime": {
     "end_time": "2021-04-04T15:37:04.457953Z",
     "start_time": "2021-04-04T15:37:04.439538Z"
    }
   },
   "outputs": [],
   "source": [
    "def ShowGraphPoli2(X, Y, a0, a1, a2):\n",
    "    # X Y (kapital) itu data awalnya yakk\n",
    "    \n",
    "    x = np.arange(np.amin(X), np.amax(X), 0.01) # ini tulis aja, susah jelasinnya :v\n",
    "    y = a0 + a1*x + a2*(x**2)                   # ini garis f(x) nya\n",
    "\n",
    "    plt.clf()              # ini buat clear plt yang sebelumnya, dihapus aja gpp kan cuma 1\n",
    "    plt.plot(x, y, '-r')   # ini nampilin garis f(x) tadi. '-r' => - artine garis; r artine red => garis merah\n",
    "    plt.plot(X, Y, 'ob')   # ini nampilin titik-titik data. 'ob' => o artine bulet2 (titik); b artine blue => titik2 biru\n",
    "    plt.grid()             # ini biar ada background gridnya\n",
    "    plt.show()             # ini buat menampilkan yang dibuat tadi"
   ]
  },
  {
   "cell_type": "code",
   "execution_count": 54,
   "id": "wound-christopher",
   "metadata": {
    "ExecuteTime": {
     "end_time": "2021-04-04T16:01:38.499121Z",
     "start_time": "2021-04-04T16:01:36.142931Z"
    }
   },
   "outputs": [
    {
     "name": "stdout",
     "output_type": "stream",
     "text": [
      "y avg 5.633333\n",
      "       x          x2           x3            x4    y         xy         x2y\n",
      "0   2.00    4.000000     8.000000     16.000000  7.2  14.400000   28.799999\n",
      "1   4.25   18.062500    76.765625    326.253906  7.1  30.174999  128.243744\n",
      "2   5.25   27.562500   144.703125    759.691406  6.0  31.500000  165.375000\n",
      "3   7.81   60.996098   476.379517   3720.524170  5.0  39.049999  304.980499\n",
      "4   9.20   84.639999   778.687927   7163.929199  3.5  32.200001  296.239990\n",
      "5  10.60  112.360008  1191.016113  12624.771484  5.0  53.000000  561.800049 \n",
      "\n",
      "6 | 39.11 | 307.6211 | 2675.5522 | 24611.17 | 33.8 | 200.325 | 1485.4393 | \n",
      "\n",
      "step 1 \n",
      "\n",
      "[[    1.        6.518    51.27      5.633]\n",
      " [    0.       52.689   670.375   -19.995]\n",
      " [  307.621  2675.552 24611.17   1485.439]] \n",
      "\n",
      "[[   1.       6.518   51.27     5.633]\n",
      " [   0.      52.689  670.375  -19.995]\n",
      " [   0.     670.375 8839.38  -247.493]] \n",
      "\n",
      "step 2 \n",
      "\n",
      "[[   1.       0.     -31.664    8.107]\n",
      " [   0.       1.      12.723   -0.379]\n",
      " [   0.     670.375 8839.38  -247.493]] \n",
      "\n",
      "[[  1.      0.    -31.664   8.107]\n",
      " [  0.      1.     12.723  -0.379]\n",
      " [  0.      0.    310.038   6.904]] \n",
      "\n",
      "step 3 \n",
      "\n",
      "[[ 1.     0.     0.     8.812]\n",
      " [ 0.     1.    12.723 -0.379]\n",
      " [ 0.     0.     1.     0.022]] \n",
      "\n",
      "[[ 1.     0.     0.     8.812]\n",
      " [ 0.     1.     0.    -0.663]\n",
      " [ 0.     0.     1.     0.022]] \n",
      "\n",
      "\n",
      "y = a0 + a1x + a2x^2\n",
      "a0 = 8.812055\n",
      "a1 = -0.6628135\n",
      "a2 = 0.022268647\n",
      "Dt : 10.093333\n",
      "D  : 2.351945\n",
      "       x    y          x2        y'    y - y'  (y - y')^2  y - ybar  \\\n",
      "0   2.00  7.2    4.000000  7.575502 -0.375503    0.141002  1.566667   \n",
      "1   4.25  7.1   18.062500  6.397325  0.702675    0.493753  1.466667   \n",
      "2   5.25  6.0   27.562500  5.946064  0.053936    0.002909  0.366667   \n",
      "3   7.81  5.0   60.996098  4.993782  0.006218    0.000039 -0.633333   \n",
      "4   9.20  3.5   84.639999  4.598989 -1.098989    1.207778 -2.133333   \n",
      "5  10.60  5.0  112.360008  4.288337  0.711663    0.506465 -0.633333   \n",
      "\n",
      "   (y - ybar)^2  \n",
      "0      2.454444  \n",
      "1      2.151111  \n",
      "2      0.134445  \n",
      "3      0.401111  \n",
      "4      4.551111  \n",
      "5      0.401111  \n",
      "\n",
      "Koefisien korelasi = 0.87577415\n"
     ]
    },
    {
     "data": {
      "image/png": "[encoded data removed]",
      "text/plain": [
       "<Figure size 432x288 with 1 Axes>"
      ]
     },
     "metadata": {
      "needs_background": "light"
     },
     "output_type": "display_data"
    }
   ],
   "source": [
    "X = np.array([2, 4.25, 5.25, 7.81, 9.2, 10.6], dtype=\"float32\")\n",
    "Y = np.array([7.2, 7.1, 6, 5, 3.5, 5], dtype=\"float32\")\n",
    "\n",
    "# orde 2\n",
    "n = X.size\n",
    "\n",
    "x = np.sum(X)\n",
    "y = np.sum(Y)\n",
    "xy = np.sum(X*Y)\n",
    "x2y = np.sum((X**2)*Y)\n",
    "x2 = np.sum(X**2)\n",
    "x3 = np.sum(X**3)\n",
    "x4 = np.sum(X**4)\n",
    "\n",
    "table = pd.DataFrame({\n",
    "    'x': X,\n",
    "    'x2': X**2,\n",
    "    'x3': X**3,\n",
    "    'x4': X**4,\n",
    "    'y': Y,\n",
    "    'xy': X*Y,\n",
    "    'x2y': (X**2)*Y\n",
    "})\n",
    "\n",
    "print(\"y avg\", np.average(Y))\n",
    "\n",
    "print(table, '\\n')\n",
    "print(n, x, x2, x3, x4, y, xy, x2y, '\\n', sep=\" | \")\n",
    "\n",
    "\n",
    "A = np.array([[n, x, x2],\n",
    "              [x, x2, x3],\n",
    "              [x2, x3, x4]], dtype=\"float32\")\n",
    "\n",
    "B = np.array([y, xy, x2y], dtype=\"float32\")\n",
    "\n",
    "resultMatrix = GaussJordan(A, B, printStep=True)\n",
    "result = resultMatrix[:, -1]\n",
    "a0, a1, a2 = result\n",
    "print(\"\\ny = a0 + a1x + a2x^2\")\n",
    "print(\"a0 =\", a0)\n",
    "print(\"a1 =\", a1)\n",
    "print(\"a2 =\", a2)\n",
    "print(\"\\nKoefisien korelasi =\", CorrelationCoefPoli2(X, Y, a0, a1, a2))\n",
    "\n",
    "ShowGraphPoli2(X, Y, a0, a1, a2)"
   ]
  },
  {
   "cell_type": "markdown",
   "id": "unknown-indian",
   "metadata": {},
   "source": [
    "## Ordo 3"
   ]
  },
  {
   "cell_type": "code",
   "execution_count": 42,
   "id": "compact-effectiveness",
   "metadata": {
    "ExecuteTime": {
     "end_time": "2021-04-04T15:50:16.136858Z",
     "start_time": "2021-04-04T15:50:16.118654Z"
    }
   },
   "outputs": [],
   "source": [
    "def CorrelationCoefPoli3(x, y, a0, a1, a2, a3):\n",
    "    # x y adalah data awal\n",
    "    ya = a0 + a1*x + a2*(x**2) + a3*(x**3)\n",
    "    \n",
    "    D = np.sum((y - ya)**2)\n",
    "    Dt = np.sum((y - np.average(y))**2)\n",
    "    r = np.sqrt(((Dt-D)/Dt))\n",
    "    \n",
    "    return r"
   ]
  },
  {
   "cell_type": "code",
   "execution_count": 43,
   "id": "technological-application",
   "metadata": {
    "ExecuteTime": {
     "end_time": "2021-04-04T15:50:18.718104Z",
     "start_time": "2021-04-04T15:50:18.705939Z"
    }
   },
   "outputs": [],
   "source": [
    "def ShowGraphPoli3(X, Y, a0, a1, a2, a3):\n",
    "    # X Y (kapital) itu data awalnya yakk\n",
    "    \n",
    "    x = np.arange(np.amin(X), np.amax(X), 0.01) # ini tulis aja, susah jelasinnya :v\n",
    "    y = a0 + a1*x + a2*(x**2) + a3*(x**3)       # ini garis f(x) nya\n",
    "\n",
    "    plt.clf()              # ini buat clear plt yang sebelumnya, dihapus aja gpp kan cuma 1\n",
    "    plt.plot(x, y, '-r')   # ini nampilin garis f(x) tadi. '-r' => - artine garis; r artine red => garis merah\n",
    "    plt.plot(X, Y, 'ob')   # ini nampilin titik-titik data. 'ob' => o artine bulet2 (titik); b artine blue => titik2 biru\n",
    "    plt.grid()             # ini biar ada background gridnya\n",
    "    plt.show()             # ini buat menampilkan yang dibuat tadi"
   ]
  },
  {
   "cell_type": "code",
   "execution_count": 46,
   "id": "numerical-teaching",
   "metadata": {
    "ExecuteTime": {
     "end_time": "2021-04-04T15:53:53.840819Z",
     "start_time": "2021-04-04T15:53:51.438168Z"
    },
    "scrolled": false
   },
   "outputs": [
    {
     "name": "stdout",
     "output_type": "stream",
     "text": [
      "       x     x2       x3        x4         x5           x6     y         xy  \\\n",
      "0    1.0    1.0      1.0       1.0        1.0          1.0  0.90   0.900000   \n",
      "1    2.0    4.0      8.0      16.0       32.0         64.0  1.42   2.840000   \n",
      "2    3.0    9.0     27.0      81.0      243.0        729.0  1.30   3.900000   \n",
      "3    4.0   16.0     64.0     256.0     1024.0       4096.0  1.55   6.200000   \n",
      "4    5.0   25.0    125.0     625.0     3125.0      15625.0  1.63   8.150000   \n",
      "5    6.0   36.0    216.0    1296.0     7776.0      46656.0  1.32   7.920000   \n",
      "6    7.0   49.0    343.0    2401.0    16807.0     117649.0  1.35   9.450000   \n",
      "7    8.0   64.0    512.0    4096.0    32768.0     262144.0  1.47  11.760000   \n",
      "8    9.0   81.0    729.0    6561.0    59049.0     531441.0  1.95  17.550001   \n",
      "9   10.0  100.0   1000.0   10000.0   100000.0    1000000.0  1.66  16.600000   \n",
      "10  11.0  121.0   1331.0   14641.0   161051.0    1771561.0  1.96  21.560001   \n",
      "11  12.0  144.0   1728.0   20736.0   248832.0    2985984.0  1.47  17.639999   \n",
      "12  13.0  169.0   2197.0   28561.0   371293.0    4826809.0  1.92  24.959999   \n",
      "13  14.0  196.0   2744.0   38416.0   537824.0    7529536.0  1.35  18.900000   \n",
      "14  15.0  225.0   3375.0   50625.0   759375.0   11390625.0  1.05  15.749999   \n",
      "15  16.0  256.0   4096.0   65536.0  1048576.0   16777216.0  1.85  29.600000   \n",
      "16  17.0  289.0   4913.0   83521.0  1419857.0   24137570.0  1.74  29.580000   \n",
      "17  18.0  324.0   5832.0  104976.0  1889568.0   34012224.0  1.65  29.699999   \n",
      "18  19.0  361.0   6859.0  130321.0  2476099.0   47045880.0  1.78  33.820000   \n",
      "19  20.0  400.0   8000.0  160000.0  3200000.0   64000000.0  1.71  34.200001   \n",
      "20  21.0  441.0   9261.0  194481.0  4084101.0   85766120.0  2.29  48.090000   \n",
      "21  22.0  484.0  10648.0  234256.0  5153632.0  113379904.0  1.82  40.040001   \n",
      "22  23.0  529.0  12167.0  279841.0  6436343.0  148035888.0  2.06  47.379997   \n",
      "23  24.0  576.0  13824.0  331776.0  7962624.0  191102976.0  2.14  51.360001   \n",
      "24  25.0  625.0  15625.0  390625.0  9765625.0  244140624.0  1.27  31.750000   \n",
      "\n",
      "            x2y           x3y  \n",
      "0      0.900000      0.900000  \n",
      "1      5.680000     11.360000  \n",
      "2     11.700000     35.099998  \n",
      "3     24.799999     99.199997  \n",
      "4     40.750000    203.750000  \n",
      "5     47.520000    285.120026  \n",
      "6     66.150002    463.050018  \n",
      "7     94.080002    752.640015  \n",
      "8    157.949997   1421.550049  \n",
      "9    166.000000   1660.000000  \n",
      "10   237.160004   2608.760010  \n",
      "11   211.680008   2540.160156  \n",
      "12   324.479980   4218.239746  \n",
      "13   264.600006   3704.400146  \n",
      "14   236.249985   3543.749756  \n",
      "15   473.600006   7577.600098  \n",
      "16   502.860016   8548.620117  \n",
      "17   534.599976   9622.799805  \n",
      "18   642.580017  12209.019531  \n",
      "19   684.000000  13680.000000  \n",
      "20  1009.889954  21207.689453  \n",
      "21   880.880005  19379.361328  \n",
      "22  1089.739990  25064.019531  \n",
      "23  1232.640015  29583.361328  \n",
      "24   793.750000  19843.750000   \n",
      "\n",
      "25 | 325.0 | 5525.0 | 105625.0 | 2153645.0 | 45735624.0 | 998881300.0 | 40.61 | 559.6 | 9734.24 | 188264.2 | \n",
      "\n",
      "step 1 \n",
      "\n",
      "[[1.0000e+00 1.3000e+01 2.2100e+02 4.2250e+03 1.6244e+00]\n",
      " [0.0000e+00 1.3000e+03 3.3800e+04 7.8052e+05 3.1670e+01]\n",
      " [5.5250e+03 1.0562e+05 2.1536e+06 4.5736e+07 9.7342e+03]\n",
      " [1.0562e+05 2.1536e+06 4.5736e+07 9.9888e+08 1.8826e+05]] \n",
      "\n",
      "[[1.0000e+00 1.3000e+01 2.2100e+02 4.2250e+03 1.6244e+00]\n",
      " [0.0000e+00 1.3000e+03 3.3800e+04 7.8052e+05 3.1670e+01]\n",
      " [0.0000e+00 3.3800e+04 9.3262e+05 2.2392e+07 7.5943e+02]\n",
      " [1.0562e+05 2.1536e+06 4.5736e+07 9.9888e+08 1.8826e+05]] \n",
      "\n",
      "[[1.0000e+00 1.3000e+01 2.2100e+02 4.2250e+03 1.6244e+00]\n",
      " [0.0000e+00 1.3000e+03 3.3800e+04 7.8052e+05 3.1670e+01]\n",
      " [0.0000e+00 3.3800e+04 9.3262e+05 2.2392e+07 7.5943e+02]\n",
      " [0.0000e+00 7.8052e+05 2.2392e+07 5.5262e+08 1.6687e+04]] \n",
      "\n",
      "step 2 \n",
      "\n",
      "[[ 1.0000e+00  0.0000e+00 -1.1700e+02 -3.5802e+03  1.3077e+00]\n",
      " [ 0.0000e+00  1.0000e+00  2.6000e+01  6.0040e+02  2.4362e-02]\n",
      " [ 0.0000e+00  3.3800e+04  9.3262e+05  2.2392e+07  7.5943e+02]\n",
      " [ 0.0000e+00  7.8052e+05  2.2392e+07  5.5262e+08  1.6687e+04]] \n",
      "\n",
      "[[ 1.0000e+00  0.0000e+00 -1.1700e+02 -3.5802e+03  1.3077e+00]\n",
      " [ 0.0000e+00  1.0000e+00  2.6000e+01  6.0040e+02  2.4362e-02]\n",
      " [ 0.0000e+00  0.0000e+00  5.3820e+04  2.0990e+06 -6.3990e+01]\n",
      " [ 0.0000e+00  7.8052e+05  2.2392e+07  5.5262e+08  1.6687e+04]] \n",
      "\n",
      "[[       1.            0.         -117.        -3580.2002        1.3077]\n",
      " [       0.            1.           26.          600.4           0.0244]\n",
      " [       0.            0.        53820.      2098980.          -63.9899]\n",
      " [       0.            0.      2098980.     83991460.        -2327.705 ]] \n",
      "\n",
      "step 3 \n",
      "\n",
      "[[       1.            0.            0.          982.7998        1.1686]\n",
      " [       0.            1.           26.          600.4           0.0244]\n",
      " [       0.            0.            1.           39.           -0.0012]\n",
      " [       0.            0.      2098980.     83991460.        -2327.705 ]] \n",
      "\n",
      "[[       1.            0.            0.          982.7998        1.1686]\n",
      " [       0.            1.            0.         -413.6           0.0553]\n",
      " [       0.            0.            1.           39.           -0.0012]\n",
      " [       0.            0.      2098980.     83991460.        -2327.705 ]] \n",
      "\n",
      "[[      1.           0.           0.         982.7998       1.1686]\n",
      " [      0.           1.           0.        -413.6          0.0553]\n",
      " [      0.           0.           1.          39.          -0.0012]\n",
      " [      0.           0.           0.     2131232.         167.8997]] \n",
      "\n",
      "step 4 \n",
      "\n",
      "[[   1.        0.        0.        0.        1.0912]\n",
      " [   0.        1.        0.     -413.6       0.0553]\n",
      " [   0.        0.        1.       39.       -0.0012]\n",
      " [   0.        0.        0.        1.        0.0001]] \n",
      "\n",
      "[[ 1.      0.      0.      0.      1.0912]\n",
      " [ 0.      1.      0.      0.      0.0879]\n",
      " [ 0.      0.      1.     39.     -0.0012]\n",
      " [ 0.      0.      0.      1.      0.0001]] \n",
      "\n",
      "[[ 1.      0.      0.      0.      1.0912]\n",
      " [ 0.      1.      0.      0.      0.0879]\n",
      " [ 0.      0.      1.      0.     -0.0043]\n",
      " [ 0.      0.      0.      1.      0.0001]] \n",
      "\n",
      "\n",
      "y = a0 + a1x + a2x^2 + a3x^3\n",
      "a0 = 1.0911663\n",
      "a1 = 0.08785814\n",
      "a2 = -0.004261403\n",
      "a3 = 7.878056e-05\n",
      "\n",
      "Koefisien korelasi = 0.5580316\n"
     ]
    },
    {
     "data": {
      "image/png": "[encoded data removed]",
      "text/plain": [
       "<Figure size 432x288 with 1 Axes>"
      ]
     },
     "metadata": {
      "needs_background": "light"
     },
     "output_type": "display_data"
    }
   ],
   "source": [
    "X = np.array([1, 2, 3, 4, 5, 6, 7, 8, 9, 10,\n",
    "              11, 12, 13, 14, 15, 16, 17, 18, 19, 20,\n",
    "              21, 22, 23, 24, 25], dtype=\"float32\")\n",
    "Y = np.array([0.90, 1.42, 1.30, 1.55, 1.63, 1.32, 1.35,\n",
    "              1.47, 1.95, 1.66, 1.96, 1.47, 1.92, 1.35,\n",
    "              1.05, 1.85, 1.74, 1.65, 1.78, 1.71, 2.29,\n",
    "              1.82, 2.06, 2.14, 1.27], dtype=\"float32\")\n",
    "\n",
    "# orde 3\n",
    "n = X.size\n",
    "\n",
    "x = np.sum(X)\n",
    "y = np.sum(Y)\n",
    "xy = np.sum(X*Y)\n",
    "x2y = np.sum((X**2)*Y)\n",
    "x3y = np.sum((X**3)*Y)\n",
    "x2 = np.sum(X**2)\n",
    "x3 = np.sum(X**3)\n",
    "x4 = np.sum(X**4)\n",
    "x5 = np.sum(X**5)\n",
    "x6 = np.sum(X**6)\n",
    "\n",
    "table = pd.DataFrame({\n",
    "    'x': X,\n",
    "    'x2': X**2,\n",
    "    'x3': X**3,\n",
    "    'x4': X**4,\n",
    "    'x5': X**5,\n",
    "    'x6': X**6,\n",
    "    'y': Y,\n",
    "    'xy': X*Y,\n",
    "    'x2y': (X**2)*Y,\n",
    "    'x3y': (X**3)*Y\n",
    "})\n",
    "\n",
    "print(table, '\\n')\n",
    "print(n, x, x2, x3, x4, x5, x6, y, xy, x2y, x3y, '\\n', sep=\" | \")\n",
    "\n",
    "\n",
    "A = np.array([[n, x, x2, x3],\n",
    "              [x, x2, x3, x4],\n",
    "              [x2, x3, x4, x5],\n",
    "              [x3, x4, x5, x6]], dtype=\"float32\")\n",
    "\n",
    "B = np.array([y, xy, x2y, x3y], dtype=\"float32\")\n",
    "\n",
    "resultMatrix = GaussJordan(A, B, printStep=True)\n",
    "result = resultMatrix[:, -1]\n",
    "a0, a1, a2, a3 = result\n",
    "print(\"\\ny = a0 + a1x + a2x^2 + a3x^3\")\n",
    "print(\"a0 =\", a0)\n",
    "print(\"a1 =\", a1)\n",
    "print(\"a2 =\", a2)\n",
    "print(\"a3 =\", a3)\n",
    "print(\"\\nKoefisien korelasi =\", CorrelationCoefPoli3(X, Y, a0, a1, a2, a3))\n",
    "\n",
    "ShowGraphPoli3(X, Y, a0, a1, a2, a3)"
   ]
  },
  {
   "cell_type": "code",
   "execution_count": null,
   "id": "recreational-dating",
   "metadata": {},
   "outputs": [],
   "source": []
  }
 ],
 "metadata": {
  "kernelspec": {
   "display_name": "Python 3",
   "language": "python",
   "name": "python3"
  },
  "language_info": {
   "codemirror_mode": {
    "name": "ipython",
    "version": 3
   },
   "file_extension": ".py",
   "mimetype": "text/x-python",
   "name": "python",
   "nbconvert_exporter": "python",
   "pygments_lexer": "ipython3",
   "version": "3.8.6"
  },
  "toc": {
   "base_numbering": 1,
   "nav_menu": {},
   "number_sections": true,
   "sideBar": true,
   "skip_h1_title": false,
   "title_cell": "Table of Contents",
   "title_sidebar": "Contents",
   "toc_cell": false,
   "toc_position": {},
   "toc_section_display": true,
   "toc_window_display": false
  },
  "varInspector": {
   "cols": {
    "lenName": 16,
    "lenType": 16,
    "lenVar": 40
   },
   "kernels_config": {
    "python": {
     "delete_cmd_postfix": "",
     "delete_cmd_prefix": "del ",
     "library": "var_list.py",
     "varRefreshCmd": "print(var_dic_list())"
    },
    "r": {
     "delete_cmd_postfix": ") ",
     "delete_cmd_prefix": "rm(",
     "library": "var_list.r",
     "varRefreshCmd": "cat(var_dic_list()) "
    }
   },
   "types_to_exclude": [
    "module",
    "function",
    "builtin_function_or_method",
    "instance",
    "_Feature"
   ],
   "window_display": false
  }
 },
 "nbformat": 4,
 "nbformat_minor": 5
}
