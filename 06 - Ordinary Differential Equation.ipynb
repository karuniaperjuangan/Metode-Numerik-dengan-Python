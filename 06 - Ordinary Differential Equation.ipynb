{
 "cells": [
  {
   "cell_type": "code",
   "execution_count": 7,
   "id": "associate-invasion",
   "metadata": {
    "ExecuteTime": {
     "end_time": "2021-04-27T13:24:33.537475Z",
     "start_time": "2021-04-27T13:24:30.310204Z"
    }
   },
   "outputs": [],
   "source": [
    "import pandas as pd"
   ]
  },
  {
   "cell_type": "code",
   "execution_count": 104,
   "id": "august-franchise",
   "metadata": {
    "ExecuteTime": {
     "end_time": "2021-04-27T14:38:41.234802Z",
     "start_time": "2021-04-27T14:38:41.228971Z"
    }
   },
   "outputs": [],
   "source": [
    "# f(x, y) bisa di-override di tiap cell kalo males scroll2 ke atas\n",
    "# dy/dx = f(x, y)\n",
    "def f(x, y):\n",
    "    return x+y-1"
   ]
  },
  {
   "cell_type": "markdown",
   "id": "growing-dealer",
   "metadata": {},
   "source": [
    "*Rumus dari [PPT Tutorial](https://docs.google.com/presentation/d/1f7vb8ypHqQl0LHZLHbgmTuwkD_2UBhpH/edit)*"
   ]
  },
  {
   "cell_type": "markdown",
   "id": "difficult-houston",
   "metadata": {},
   "source": [
    "# Euler"
   ]
  },
  {
   "cell_type": "code",
   "execution_count": 88,
   "id": "royal-contest",
   "metadata": {
    "ExecuteTime": {
     "end_time": "2021-04-27T14:30:05.681481Z",
     "start_time": "2021-04-27T14:30:05.672759Z"
    }
   },
   "outputs": [],
   "source": [
    "def Euler(f, xi, yi, h, x_target, data=False):\n",
    "    xii = xi + h\n",
    "    yii = yi + f(xi, yi)*h\n",
    "\n",
    "    # add to data\n",
    "    if not data:\n",
    "        data={\n",
    "            \"xi\": [],\n",
    "            \"yi\": [],\n",
    "            \"xi+1\": [],\n",
    "            \"yi+1\": []\n",
    "        }\n",
    "        \n",
    "    data[\"xi\"].append(xi)\n",
    "    data[\"yi\"].append(yi)\n",
    "    data[\"xi+1\"].append(xii)\n",
    "    data[\"yi+1\"].append(yii)\n",
    "\n",
    "    if round(x_target, 4) == round(xii, 4):\n",
    "        return [yii, pd.DataFrame(data)]\n",
    "\n",
    "    return Euler(f, xii, yii, h, x_target, data)"
   ]
  },
  {
   "cell_type": "code",
   "execution_count": 89,
   "id": "mediterranean-ratio",
   "metadata": {
    "ExecuteTime": {
     "end_time": "2021-04-27T14:30:10.015553Z",
     "start_time": "2021-04-27T14:30:09.998413Z"
    }
   },
   "outputs": [
    {
     "name": "stdout",
     "output_type": "stream",
     "text": [
      "result: 4.75\n",
      "\n",
      "    xi   yi  xi+1  yi+1\n",
      "0  1.0  2.0   1.5  3.00\n",
      "1  1.5  3.0   2.0  4.75\n"
     ]
    }
   ],
   "source": [
    "res, data = Euler(f, xi=1, yi=2, h=0.5, x_target=2)\n",
    "print(f'result: {res}\\n')\n",
    "print(data.round(4))"
   ]
  },
  {
   "cell_type": "markdown",
   "id": "motivated-louisiana",
   "metadata": {},
   "source": [
    "# Heun"
   ]
  },
  {
   "cell_type": "code",
   "execution_count": 90,
   "id": "framed-spirit",
   "metadata": {
    "ExecuteTime": {
     "end_time": "2021-04-27T14:30:15.132890Z",
     "start_time": "2021-04-27T14:30:15.099707Z"
    }
   },
   "outputs": [],
   "source": [
    "def Heun(f, xi, yi, h, x_target, data=False):\n",
    "    yii_predictor = yi + f(xi, yi)*h\n",
    "    \n",
    "    xii = xi + h\n",
    "    yii = yi + 1/2*(f(xi, yi) + f(xii, yii_predictor))*h\n",
    "\n",
    "    # add to data\n",
    "    if not data:\n",
    "        data={\n",
    "            \"xi\": [],\n",
    "            \"yi\": [],\n",
    "            \"xi+1\": [],\n",
    "            \"yi+1 pred\": [],\n",
    "            \"yi+1\": []\n",
    "        }\n",
    "        \n",
    "    data[\"xi\"].append(xi)\n",
    "    data[\"yi\"].append(yi)\n",
    "    data[\"xi+1\"].append(xii)\n",
    "    data[\"yi+1\"].append(yii)\n",
    "    data[\"yi+1 pred\"].append(yii_predictor)\n",
    "\n",
    "    if round(x_target, 4) == round(xii, 4):\n",
    "        return [yii, pd.DataFrame(data)]\n",
    "\n",
    "    return Heun(f, xii, yii, h, x_target, data)"
   ]
  },
  {
   "cell_type": "code",
   "execution_count": 84,
   "id": "minimal-spain",
   "metadata": {
    "ExecuteTime": {
     "end_time": "2021-04-27T14:12:19.742857Z",
     "start_time": "2021-04-27T14:12:19.724268Z"
    }
   },
   "outputs": [
    {
     "name": "stdout",
     "output_type": "stream",
     "text": [
      "result: 5.921875\n",
      "\n",
      "    xi     yi  xi+1  yi+1 pred    yi+1\n",
      "0  1.0  2.000   1.5     3.0000  3.3750\n",
      "1  1.5  3.375   2.0     5.3125  5.9219\n"
     ]
    }
   ],
   "source": [
    "res, data = Heun(f, xi=1, yi=2, h=0.5, x_target=2)\n",
    "print(f'result: {res}\\n')\n",
    "print(data.round(4))"
   ]
  },
  {
   "cell_type": "markdown",
   "id": "starting-background",
   "metadata": {},
   "source": [
    "# Midpoint"
   ]
  },
  {
   "cell_type": "code",
   "execution_count": 91,
   "id": "worldwide-mortality",
   "metadata": {
    "ExecuteTime": {
     "end_time": "2021-04-27T14:30:37.791061Z",
     "start_time": "2021-04-27T14:30:37.779793Z"
    }
   },
   "outputs": [],
   "source": [
    "def Midpoint(f, xi, yi, h, x_target, data=False):\n",
    "    xi12 = xi + h/2\n",
    "    yi12 = yi + 1/2*f(xi, yi)*h\n",
    "    \n",
    "    xii = xi + h\n",
    "    yii = yi + f(xi12, yi12)*h\n",
    "\n",
    "    # add to data\n",
    "    if not data:\n",
    "        data={\n",
    "            \"xi\": [],\n",
    "            \"yi\": [],\n",
    "            \"xi+1\": [],\n",
    "            \"xi+1/2\": [],\n",
    "            \"yi+1/2\": [],\n",
    "            \"yi+1\": []\n",
    "        }\n",
    "        \n",
    "    data[\"xi\"].append(xi)\n",
    "    data[\"yi\"].append(yi)\n",
    "    data[\"xi+1\"].append(xii)\n",
    "    data[\"yi+1\"].append(yii)\n",
    "    data[\"xi+1/2\"].append(xi12)\n",
    "    data[\"yi+1/2\"].append(yi12)\n",
    "    \n",
    "    if round(x_target, 4) == round(xii, 4):\n",
    "        return [yii, pd.DataFrame(data)]\n",
    "\n",
    "    return Midpoint(f, xii, yii, h, x_target, data)"
   ]
  },
  {
   "cell_type": "code",
   "execution_count": 82,
   "id": "exterior-bracket",
   "metadata": {
    "ExecuteTime": {
     "end_time": "2021-04-27T13:50:51.610977Z",
     "start_time": "2021-04-27T13:50:51.562630Z"
    }
   },
   "outputs": [
    {
     "name": "stdout",
     "output_type": "stream",
     "text": [
      "result: 5.921875\n",
      "\n",
      "    xi     yi  xi+1  xi+1/2  yi+1/2    yi+1\n",
      "0  1.0  2.000   1.5    1.25  2.5000  3.3750\n",
      "1  1.5  3.375   2.0    1.75  4.3438  5.9219\n"
     ]
    }
   ],
   "source": [
    "res, data = Midpoint(f, xi=1, yi=2, h=0.5, x_target=2)\n",
    "print(f'result: {res}\\n')\n",
    "print(data.round(4))"
   ]
  },
  {
   "cell_type": "markdown",
   "id": "rational-dublin",
   "metadata": {},
   "source": [
    "# Runge-Kutta"
   ]
  },
  {
   "cell_type": "markdown",
   "id": "asian-advocacy",
   "metadata": {},
   "source": [
    "## RK12 | a2 = 1/2 | Heun's method with single corrector"
   ]
  },
  {
   "cell_type": "code",
   "execution_count": 92,
   "id": "ordered-conversion",
   "metadata": {
    "ExecuteTime": {
     "end_time": "2021-04-27T14:30:51.298274Z",
     "start_time": "2021-04-27T14:30:51.242505Z"
    }
   },
   "outputs": [],
   "source": [
    "def RK12(f, xi, yi, h, x_target, data=False):\n",
    "    k1 = f(xi, yi)\n",
    "    k2 = f(xi+h, yi+k1*h)\n",
    "    \n",
    "    xii = xi + h\n",
    "    yii = yi + 1/2*(k1 + k2)*h\n",
    "\n",
    "    # add to data\n",
    "    if not data:\n",
    "        data={\n",
    "            \"xi\": [],\n",
    "            \"yi\": [],\n",
    "            \"xi+1\": [],\n",
    "            \"k1\": [],\n",
    "            \"k2\": [],\n",
    "            \"yi+1\": []\n",
    "        }\n",
    "        \n",
    "    data[\"xi\"].append(xi)\n",
    "    data[\"yi\"].append(yi)\n",
    "    data[\"xi+1\"].append(xii)\n",
    "    data[\"yi+1\"].append(yii)\n",
    "    data[\"k1\"].append(k1)\n",
    "    data[\"k2\"].append(k2)\n",
    "\n",
    "    if round(x_target, 4) == round(xii, 4):\n",
    "        return [yii, pd.DataFrame(data)]\n",
    "\n",
    "    return RK12(f, xii, yii, h, x_target, data)"
   ]
  },
  {
   "cell_type": "code",
   "execution_count": 93,
   "id": "working-concrete",
   "metadata": {
    "ExecuteTime": {
     "end_time": "2021-04-27T14:30:53.994844Z",
     "start_time": "2021-04-27T14:30:53.968951Z"
    }
   },
   "outputs": [
    {
     "name": "stdout",
     "output_type": "stream",
     "text": [
      "result: 5.921875\n",
      "\n",
      "    xi     yi  xi+1     k1      k2    yi+1\n",
      "0  1.0  2.000   1.5  2.000  3.5000  3.3750\n",
      "1  1.5  3.375   2.0  3.875  6.3125  5.9219\n"
     ]
    }
   ],
   "source": [
    "res, data = RK12(f, xi=1, yi=2, h=0.5, x_target=2)\n",
    "print(f'result: {res}\\n')\n",
    "print(data.round(4))"
   ]
  },
  {
   "cell_type": "markdown",
   "id": "hindu-fishing",
   "metadata": {},
   "source": [
    "## RK1 | a2 = 1 | Midpoint method"
   ]
  },
  {
   "cell_type": "code",
   "execution_count": 94,
   "id": "criminal-synthesis",
   "metadata": {
    "ExecuteTime": {
     "end_time": "2021-04-27T14:30:58.814703Z",
     "start_time": "2021-04-27T14:30:58.798884Z"
    }
   },
   "outputs": [],
   "source": [
    "def RK1(f, xi, yi, h, x_target, data=False):\n",
    "    k1 = f(xi, yi)\n",
    "    k2 = f(xi+h/2, yi+k1*h/2)\n",
    "    \n",
    "    xii = xi + h\n",
    "    yii = yi + k2*h\n",
    "\n",
    "    # add to data\n",
    "    if not data:\n",
    "        data={\n",
    "            \"xi\": [],\n",
    "            \"yi\": [],\n",
    "            \"xi+1\": [],\n",
    "            \"k1\": [],\n",
    "            \"k2\": [],\n",
    "            \"yi+1\": []\n",
    "        }\n",
    "        \n",
    "    data[\"xi\"].append(xi)\n",
    "    data[\"yi\"].append(yi)\n",
    "    data[\"xi+1\"].append(xii)\n",
    "    data[\"yi+1\"].append(yii)\n",
    "    data[\"k1\"].append(k1)\n",
    "    data[\"k2\"].append(k2)\n",
    "\n",
    "    if round(x_target, 4) == round(xii, 4):\n",
    "        return [yii, pd.DataFrame(data)]\n",
    "\n",
    "    return RK1(f, xii, yii, h, x_target, data)"
   ]
  },
  {
   "cell_type": "code",
   "execution_count": 95,
   "id": "secondary-examination",
   "metadata": {
    "ExecuteTime": {
     "end_time": "2021-04-27T14:31:07.353330Z",
     "start_time": "2021-04-27T14:31:07.226342Z"
    }
   },
   "outputs": [
    {
     "name": "stdout",
     "output_type": "stream",
     "text": [
      "result: 5.921875\n",
      "\n",
      "    xi     yi  xi+1     k1      k2    yi+1\n",
      "0  1.0  2.000   1.5  2.000  2.7500  3.3750\n",
      "1  1.5  3.375   2.0  3.875  5.0938  5.9219\n"
     ]
    }
   ],
   "source": [
    "res, data = RK1(f, xi=1, yi=2, h=0.5, x_target=2)\n",
    "print(f'result: {res}\\n')\n",
    "print(data.round(4))"
   ]
  },
  {
   "cell_type": "markdown",
   "id": "mineral-animation",
   "metadata": {},
   "source": [
    "## RK23 | a2 = 2/3 | Ralston's method"
   ]
  },
  {
   "cell_type": "code",
   "execution_count": 96,
   "id": "selective-fundamental",
   "metadata": {
    "ExecuteTime": {
     "end_time": "2021-04-27T14:31:10.258899Z",
     "start_time": "2021-04-27T14:31:10.210620Z"
    }
   },
   "outputs": [],
   "source": [
    "def RK23(f, xi, yi, h, x_target, data=False):\n",
    "    k1 = f(xi, yi)\n",
    "    k2 = f(xi+3/4*h, yi+3/4*k1*h)\n",
    "    \n",
    "    xii = xi + h\n",
    "    yii = yi + (1/3*k1 + 2/3*k2)*h\n",
    "\n",
    "    # add to data\n",
    "    if not data:\n",
    "        data={\n",
    "            \"xi\": [],\n",
    "            \"yi\": [],\n",
    "            \"xi+1\": [],\n",
    "            \"k1\": [],\n",
    "            \"k2\": [],\n",
    "            \"yi+1\": []\n",
    "        }\n",
    "        \n",
    "    data[\"xi\"].append(xi)\n",
    "    data[\"yi\"].append(yi)\n",
    "    data[\"xi+1\"].append(xii)\n",
    "    data[\"yi+1\"].append(yii)\n",
    "    data[\"k1\"].append(k1)\n",
    "    data[\"k2\"].append(k2)\n",
    "\n",
    "    if round(x_target, 4) == round(xii, 4):\n",
    "        return [yii, pd.DataFrame(data)]\n",
    "\n",
    "    return RK23(f, xii, yii, h, x_target, data)"
   ]
  },
  {
   "cell_type": "code",
   "execution_count": 97,
   "id": "threaded-investigator",
   "metadata": {
    "ExecuteTime": {
     "end_time": "2021-04-27T14:31:12.554845Z",
     "start_time": "2021-04-27T14:31:12.511373Z"
    }
   },
   "outputs": [
    {
     "name": "stdout",
     "output_type": "stream",
     "text": [
      "result: 5.921875\n",
      "\n",
      "    xi     yi  xi+1     k1      k2    yi+1\n",
      "0  1.0  2.000   1.5  2.000  3.1250  3.3750\n",
      "1  1.5  3.375   2.0  3.875  5.7031  5.9219\n"
     ]
    }
   ],
   "source": [
    "res, data = RK23(f, xi=1, yi=2, h=0.5, x_target=2)\n",
    "print(f'result: {res}\\n')\n",
    "print(data.round(4))"
   ]
  },
  {
   "cell_type": "markdown",
   "id": "pressed-rider",
   "metadata": {},
   "source": [
    "## RK3 | Runge-Kutta 3rd Order"
   ]
  },
  {
   "cell_type": "code",
   "execution_count": 64,
   "id": "returning-dylan",
   "metadata": {
    "ExecuteTime": {
     "end_time": "2021-04-27T13:42:16.379680Z",
     "start_time": "2021-04-27T13:42:16.344483Z"
    }
   },
   "outputs": [],
   "source": [
    "def RK3(f, xi, yi, h, x_target, data=False):\n",
    "    k1 = f(xi, yi)\n",
    "    k2 = f(xi+1/2*h, yi+1/2*k1*h)\n",
    "    k3 = f(xi+h, yi-k1*h+2*k2*h)\n",
    "    \n",
    "    xii = xi + h\n",
    "    yii = yi + 1/6*(k1 + 4*k2 + k3)*h\n",
    "    \n",
    "    # add to data\n",
    "    if not data:\n",
    "        data={\n",
    "            \"xi\": [],\n",
    "            \"yi\": [],\n",
    "            \"xi+1\": [],\n",
    "            \"k1\": [],\n",
    "            \"k2\": [],\n",
    "            \"k3\": [],\n",
    "            \"yi+1\": []\n",
    "        }\n",
    "        \n",
    "    data[\"xi\"].append(xi)\n",
    "    data[\"yi\"].append(yi)\n",
    "    data[\"xi+1\"].append(xii)\n",
    "    data[\"yi+1\"].append(yii)\n",
    "    data[\"k1\"].append(k1)\n",
    "    data[\"k2\"].append(k2)\n",
    "    data[\"k3\"].append(k3)\n",
    "\n",
    "    if round(x_target, 4) == round(xii, 4):\n",
    "        return [yii, pd.DataFrame(data)]\n",
    "\n",
    "    return RK3(f, xii, yii, h, x_target, data)"
   ]
  },
  {
   "cell_type": "code",
   "execution_count": 98,
   "id": "above-desert",
   "metadata": {
    "ExecuteTime": {
     "end_time": "2021-04-27T14:31:32.970861Z",
     "start_time": "2021-04-27T14:31:32.912161Z"
    }
   },
   "outputs": [
    {
     "name": "stdout",
     "output_type": "stream",
     "text": [
      "result: 6.126302083333333\n",
      "\n",
      "    xi      yi  xi+1      k1      k2      k3    yi+1\n",
      "0  1.0  2.0000   1.5  2.0000  2.7500  4.2500  3.4375\n",
      "1  1.5  3.4375   2.0  3.9375  5.1719  7.6406  6.1263\n"
     ]
    }
   ],
   "source": [
    "res, data = RK3(f, xi=1, yi=2, h=0.5, x_target=2)\n",
    "print(f'result: {res}\\n')\n",
    "print(data.round(4))"
   ]
  },
  {
   "cell_type": "markdown",
   "id": "native-familiar",
   "metadata": {},
   "source": [
    "## RK4 | Runge-Kutta 4th Order"
   ]
  },
  {
   "cell_type": "code",
   "execution_count": 66,
   "id": "written-spain",
   "metadata": {
    "ExecuteTime": {
     "end_time": "2021-04-27T13:42:27.716504Z",
     "start_time": "2021-04-27T13:42:27.684433Z"
    }
   },
   "outputs": [],
   "source": [
    "def RK4(f, xi, yi, h, x_target, data=False):\n",
    "    k1 = f(xi, yi)\n",
    "    k2 = f(xi+1/2*h, yi+1/2*k1*h)\n",
    "    k3 = f(xi+1/2*h, yi+1/2*k2*h)\n",
    "    k4 = f(xi+h, yi+k3*h)\n",
    "    \n",
    "    xii = xi + h\n",
    "    yii = yi + 1/6*(k1 + 2*k2 + 2*k3 + k4)*h\n",
    "\n",
    "    # add to data\n",
    "    if not data:\n",
    "        data={\n",
    "            \"xi\": [],\n",
    "            \"yi\": [],\n",
    "            \"xi+1\": [],\n",
    "            \"k1\": [],\n",
    "            \"k2\": [],\n",
    "            \"k3\": [],\n",
    "            \"k4\": [],\n",
    "            \"yi+1\": []\n",
    "        }\n",
    "        \n",
    "    data[\"xi\"].append(xi)\n",
    "    data[\"yi\"].append(yi)\n",
    "    data[\"xi+1\"].append(xii)\n",
    "    data[\"yi+1\"].append(yii)\n",
    "    data[\"k1\"].append(k1)\n",
    "    data[\"k2\"].append(k2)\n",
    "    data[\"k3\"].append(k3)\n",
    "    data[\"k4\"].append(k4)\n",
    "\n",
    "    if round(x_target, 4) == round(xii, 4):\n",
    "        return [yii, pd.DataFrame(data)]\n",
    "\n",
    "    return RK4(f, xii, yii, h, x_target, data)"
   ]
  },
  {
   "cell_type": "code",
   "execution_count": 105,
   "id": "precious-vintage",
   "metadata": {
    "ExecuteTime": {
     "end_time": "2021-04-27T14:38:47.827759Z",
     "start_time": "2021-04-27T14:38:47.791529Z"
    }
   },
   "outputs": [
    {
     "name": "stdout",
     "output_type": "stream",
     "text": [
      "result: 6.15203857421875\n",
      "\n",
      "    xi      yi  xi+1      k1      k2      k3      k4    yi+1\n",
      "0  1.0  2.0000   1.5  2.0000  2.7500  2.9375  3.9688  3.4453\n",
      "1  1.5  3.4453   2.0  3.9453  5.1816  5.4907  7.1907  6.1520\n"
     ]
    }
   ],
   "source": [
    "res, data = RK4(f, xi=1, yi=2, h=0.5, x_target=2)\n",
    "print(f'result: {res}\\n')\n",
    "print(data.round(4))"
   ]
  },
  {
   "cell_type": "code",
   "execution_count": null,
   "id": "plain-university",
   "metadata": {},
   "outputs": [],
   "source": []
  }
 ],
 "metadata": {
  "kernelspec": {
   "display_name": "Python 3",
   "language": "python",
   "name": "python3"
  },
  "language_info": {
   "codemirror_mode": {
    "name": "ipython",
    "version": 3
   },
   "file_extension": ".py",
   "mimetype": "text/x-python",
   "name": "python",
   "nbconvert_exporter": "python",
   "pygments_lexer": "ipython3",
   "version": "3.8.6"
  },
  "toc": {
   "base_numbering": 1,
   "nav_menu": {},
   "number_sections": true,
   "sideBar": true,
   "skip_h1_title": false,
   "title_cell": "Table of Contents",
   "title_sidebar": "Contents",
   "toc_cell": false,
   "toc_position": {},
   "toc_section_display": true,
   "toc_window_display": false
  },
  "varInspector": {
   "cols": {
    "lenName": 16,
    "lenType": 16,
    "lenVar": 40
   },
   "kernels_config": {
    "python": {
     "delete_cmd_postfix": "",
     "delete_cmd_prefix": "del ",
     "library": "var_list.py",
     "varRefreshCmd": "print(var_dic_list())"
    },
    "r": {
     "delete_cmd_postfix": ") ",
     "delete_cmd_prefix": "rm(",
     "library": "var_list.r",
     "varRefreshCmd": "cat(var_dic_list()) "
    }
   },
   "types_to_exclude": [
    "module",
    "function",
    "builtin_function_or_method",
    "instance",
    "_Feature"
   ],
   "window_display": false
  }
 },
 "nbformat": 4,
 "nbformat_minor": 5
}
