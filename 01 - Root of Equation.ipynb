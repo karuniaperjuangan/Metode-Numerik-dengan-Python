{
 "cells": [
  {
   "cell_type": "markdown",
   "id": "united-piano",
   "metadata": {
    "ExecuteTime": {
     "end_time": "2021-03-03T02:07:31.926036Z",
     "start_time": "2021-03-03T02:07:31.911966Z"
    }
   },
   "source": [
    "# Import Packages\n",
    "\n",
    "[LaTeX Editor](https://latex.codecogs.com/eqneditor/editor.php)"
   ]
  },
  {
   "cell_type": "code",
   "execution_count": 1,
   "id": "crude-trader",
   "metadata": {
    "ExecuteTime": {
     "end_time": "2021-03-05T07:12:48.898762Z",
     "start_time": "2021-03-05T07:12:48.352446Z"
    },
    "scrolled": false
   },
   "outputs": [],
   "source": [
    "# Run cell ini dulu!!!\n",
    "\n",
    "import numpy as np\n",
    "import pandas as pd\n",
    "from matplotlib import pyplot as plt\n",
    "\n",
    "\n",
    "def showGraph(result, range):\n",
    "    x = np.arange(result-range, result+range, 0.01)\n",
    "    y = f(x)\n",
    "    y1 = 0\n",
    "    plt.clf()\n",
    "    plt.plot(x, y)\n",
    "    plt.plot(x, 0/x)\n",
    "    plt.grid()\n",
    "    plt.show()"
   ]
  },
  {
   "cell_type": "markdown",
   "id": "living-exposure",
   "metadata": {},
   "source": [
    "# Bisection Method\n",
    "\n",
    "$x_{mid} = \\frac{x_{low}+x_{up}}{2}$\n",
    "\n",
    "$|\\epsilon_{a}| = |\\frac{x_{mid}^{new}-x_{mid}^{old}}{x_{mid}^{new}}| \\cdot 100\\%$"
   ]
  },
  {
   "cell_type": "code",
   "execution_count": 32,
   "id": "electronic-blend",
   "metadata": {
    "ExecuteTime": {
     "end_time": "2021-03-05T08:24:48.646202Z",
     "start_time": "2021-03-05T08:24:48.616576Z"
    },
    "scrolled": false
   },
   "outputs": [
    {
     "name": "stdout",
     "output_type": "stream",
     "text": [
      "1.185546875 \n",
      "\n",
      "       xlow       xup      xmid       rae   f(xlow)   f(xmid)\n",
      "0  0.500000  2.000000  1.250000           -3.472589  0.192574\n",
      "1  0.500000  1.250000  0.875000  0.428571 -3.472589 -1.234126\n",
      "2  0.875000  1.250000  1.062500  0.176471 -1.234126 -0.457502\n",
      "3  1.062500  1.250000  1.156250  0.081081 -0.457502 -0.119272\n",
      "4  1.156250  1.250000  1.203125  0.038961 -0.119272  0.039689\n",
      "5  1.156250  1.203125  1.179688  0.019868 -0.119272 -0.039002\n",
      "6  1.179688  1.203125  1.191406  0.009836 -0.039002  0.000537\n",
      "7  1.179688  1.191406  1.185547  0.004942 -0.039002 -0.019183\n"
     ]
    }
   ],
   "source": [
    "table = {\n",
    "    'xlow': [],\n",
    "    'xup': [],\n",
    "    'xmid': [],\n",
    "    'rae': [],\n",
    "    'f(xlow)': [],\n",
    "    'f(xmid)': []\n",
    "}\n",
    "\n",
    "\n",
    "# ====== Ganti f(x) ======\n",
    "def f(x):\n",
    "    return np.log(x ** 4) - 0.7\n",
    "\n",
    "\n",
    "def bisection(xlow, xup, xmidold=9999, rae=9999, iter=0):\n",
    "    xmid = (xlow + xup)/2\n",
    "    rae = abs((xmid-xmidold)/xmid)\n",
    "    f_xlow = f(xlow)\n",
    "    f_xmid = f(xmid)\n",
    "\n",
    "    table['xlow'].append(xlow)\n",
    "    table['xup'].append(xup)\n",
    "    table['xmid'].append(xmid)\n",
    "    if iter > 0:\n",
    "        table['rae'].append(rae)\n",
    "    else:\n",
    "        table['rae'].append('')\n",
    "    table['f(xlow)'].append(f_xlow)\n",
    "    table['f(xmid)'].append(f_xmid)\n",
    "\n",
    "    if iter > 100 or rae < es:\n",
    "        return xmid\n",
    "\n",
    "    if f_xlow * f_xmid < 0:\n",
    "        return bisection(xlow, xmid, xmid, rae, iter+1)\n",
    "    elif f_xlow * f_xmid > 0:\n",
    "        return bisection(xmid, xup, xmid, rae, iter+1)\n",
    "\n",
    "    return xmid\n",
    "\n",
    "\n",
    "# ====== Ganti Titik Awal ======\n",
    "xlow = 0.5\n",
    "xup = 2\n",
    "es = 0.005 # 0.5%\n",
    "\n",
    "result = bisection(xlow, xup)\n",
    "\n",
    "print(result, \"\\n\")\n",
    "# showGraph(result, 5)\n",
    "# showGraph(result, 1)\n",
    "print(pd.DataFrame(table))"
   ]
  },
  {
   "cell_type": "markdown",
   "id": "retained-petite",
   "metadata": {},
   "source": [
    "# False Position Method\n",
    "\n",
    "$x_{mid} = x_{up} - \\frac{f(x_{up})(x_{low}-x_{up})}{f(x_{low})-f(x_{up})}$\n",
    "\n",
    "$|\\epsilon_{a}| = |\\frac{x_{mid}^{new}-x_{mid}^{old}}{x_{mid}^{new}}| \\cdot 100\\%$"
   ]
  },
  {
   "cell_type": "code",
   "execution_count": 31,
   "id": "leading-haven",
   "metadata": {
    "ExecuteTime": {
     "end_time": "2021-03-05T08:24:37.834344Z",
     "start_time": "2021-03-05T08:24:37.776048Z"
    },
    "scrolled": false
   },
   "outputs": [
    {
     "name": "stdout",
     "output_type": "stream",
     "text": [
      "1.1941246076484673 \n",
      "\n",
      "   xlow       xup      xmid       rae   f(xlow)   f(xmid)\n",
      "0   0.5  2.000000  1.439354           -3.472589  0.756777\n",
      "1   0.5  1.439354  1.271272  0.132216 -3.472589  0.260070\n",
      "2   0.5  1.271272  1.217534  0.044137 -3.472589  0.087309\n",
      "3   0.5  1.217534  1.199936  0.014666 -3.472589  0.029072\n",
      "4   0.5  1.199936  1.194125  0.004866 -3.472589  0.009653\n"
     ]
    }
   ],
   "source": [
    "table = {\n",
    "    'xlow': [],\n",
    "    'xup': [],\n",
    "    'xmid': [],\n",
    "    'rae': [],\n",
    "    'f(xlow)': [],\n",
    "    'f(xmid)': []\n",
    "}\n",
    "\n",
    "\n",
    "# ====== Ganti f(x) ======\n",
    "def f(x):\n",
    "    return np.log(x ** 4) - 0.7\n",
    "\n",
    "\n",
    "def falsePosition(xlow, xup, xmidold=9999, rae=9999, iter=0):\n",
    "    xmid = xup - (f(xup)*(xlow-xup))/(f(xlow)-f(xup))\n",
    "    rae = abs((xmid-xmidold)/xmid)\n",
    "    f_xlow = f(xlow)\n",
    "    f_xmid = f(xmid)\n",
    "\n",
    "    table['xlow'].append(xlow)\n",
    "    table['xup'].append(xup)\n",
    "    table['xmid'].append(xmid)\n",
    "    if iter > 0:\n",
    "        table['rae'].append(rae)\n",
    "    else:\n",
    "        table['rae'].append('')\n",
    "    table['f(xlow)'].append(f_xlow)\n",
    "    table['f(xmid)'].append(f_xmid)\n",
    "\n",
    "    if iter > 100 or rae < es:\n",
    "        return xmid\n",
    "\n",
    "    if f_xlow * f_xmid < 0:\n",
    "        return falsePosition(xlow, xmid, xmid, rae, iter+1)\n",
    "    elif f_xlow * f_xmid > 0:\n",
    "        return falsePosition(xmid, xup, xmid, rae, iter+1)\n",
    "\n",
    "    return xmid\n",
    "\n",
    "\n",
    "# ====== Ganti Titik Awal ======\n",
    "xlow = 0.5\n",
    "xup = 2\n",
    "es = 0.005\n",
    "\n",
    "result = falsePosition(xlow, xup)\n",
    "\n",
    "print(result, \"\\n\")\n",
    "# showGraph(result, 5)\n",
    "# showGraph(result, 1)\n",
    "print(pd.DataFrame(table))"
   ]
  },
  {
   "cell_type": "markdown",
   "id": "impressive-photograph",
   "metadata": {},
   "source": [
    "# Newton Raphson Method\n",
    "\n",
    "$x_{i+1} = x_{i} - \\frac{f(x_{i})}{f'(x_{i})}$\n",
    "\n",
    "$|\\epsilon_{a}| = |\\frac{x_{i+1}-x_{i}}{x_{i+1}}| \\cdot 100\\% $"
   ]
  },
  {
   "cell_type": "code",
   "execution_count": 30,
   "id": "twenty-syndication",
   "metadata": {
    "ExecuteTime": {
     "end_time": "2021-03-05T08:24:28.901938Z",
     "start_time": "2021-03-05T08:24:28.870026Z"
    },
    "scrolled": false
   },
   "outputs": [
    {
     "name": "stdout",
     "output_type": "stream",
     "text": [
      "0.7141687150306106 \n",
      "\n",
      "         xi       xii       rae\n",
      "0  0.700000  0.714175  0.019848\n",
      "1  0.714175  0.714169  0.000009\n"
     ]
    }
   ],
   "source": [
    "table = {\n",
    "    'xi': [],\n",
    "    'xii': [],\n",
    "    'rae': []\n",
    "}\n",
    "\n",
    "\n",
    "# ====== Ganti f(x) ======\n",
    "def f(x):\n",
    "    return np.exp(0.5*x) + 5*x - 5\n",
    "\n",
    "\n",
    "# ====== Ganti f'(x) ======\n",
    "def fa(x):\n",
    "    return 0.5*(np.exp(0.5*x)) + 5\n",
    "\n",
    "\n",
    "def newtonRaphson(xi, rae=9999, iter=0):\n",
    "    xii = xi - f(xi)/fa(xi)\n",
    "    rae = abs((xii-xi)/xii)\n",
    "\n",
    "    table['xi'].append(xi)\n",
    "    table['xii'].append(xii)\n",
    "    table['rae'].append(rae)\n",
    "\n",
    "    if iter < 100 and rae >= es:\n",
    "        return newtonRaphson(xii, rae, iter+1)\n",
    "\n",
    "    return xii\n",
    "\n",
    "\n",
    "# ====== Ganti Titik Awal ======\n",
    "x0 = 0.7\n",
    "es = 0.005\n",
    "\n",
    "result = newtonRaphson(x0)\n",
    "\n",
    "print(result, \"\\n\")\n",
    "# showGraph(result, 10)\n",
    "# showGraph(result, 1)\n",
    "print(pd.DataFrame(table))"
   ]
  },
  {
   "cell_type": "markdown",
   "id": "norwegian-dollar",
   "metadata": {},
   "source": [
    "# Secant Method\n",
    "\n",
    "$x_{i+1} = x_{i} - \\frac{f(x_{i})(x_{i-1}-x_{i})}{f(x_{i-1})-f(x_{i})}$\n",
    "\n",
    "$|\\epsilon_{a}| = |\\frac{x_{i+1}-x_{i}}{x_{i+1}}| \\cdot 100\\% $"
   ]
  },
  {
   "cell_type": "code",
   "execution_count": 28,
   "id": "middle-spice",
   "metadata": {
    "ExecuteTime": {
     "end_time": "2021-03-05T08:24:04.832711Z",
     "start_time": "2021-03-05T08:24:04.795114Z"
    },
    "scrolled": false
   },
   "outputs": [
    {
     "name": "stdout",
     "output_type": "stream",
     "text": [
      "0.7141701886401998 \n",
      "\n",
      "          x        xi       xii       rae\n",
      "0  0.000000  2.000000  0.682694  1.929570\n",
      "1  2.000000  0.682694  0.712664  0.042054\n",
      "2  0.682694  0.712664  0.714170  0.002109\n"
     ]
    }
   ],
   "source": [
    "table = {\n",
    "    'x': [],\n",
    "    'xi': [],\n",
    "    'xii': [],\n",
    "    'rae': []\n",
    "}\n",
    "\n",
    "\n",
    "# ====== Ganti f(x) ======\n",
    "def f(x):\n",
    "    return np.exp(0.5*x) + 5*x - 5\n",
    "\n",
    "\n",
    "def secant(x, xi, rae=9999, iter=0):\n",
    "    xii = xi - (f(xi)*(x-xi))/(f(x)-f(xi))\n",
    "    rae = abs((xii-xi)/xii)\n",
    "\n",
    "    table['x'].append(x)\n",
    "    table['xi'].append(xi)\n",
    "    table['xii'].append(xii)\n",
    "    table['rae'].append(rae)\n",
    "\n",
    "    if iter < 100 and rae >= es:\n",
    "        return secant(xi, xii, rae, iter+1)\n",
    "\n",
    "    return xii\n",
    "\n",
    "\n",
    "# ====== Ganti Titik Awal ======\n",
    "x0 = 0\n",
    "x1 = 2\n",
    "es = 0.005\n",
    "\n",
    "result = secant(x0, x1)\n",
    "\n",
    "print(result, \"\\n\")\n",
    "# showGraph(result, 10)\n",
    "# showGraph(result, 1)\n",
    "print(pd.DataFrame(table))"
   ]
  },
  {
   "cell_type": "code",
   "execution_count": null,
   "id": "detailed-beads",
   "metadata": {
    "scrolled": false
   },
   "outputs": [],
   "source": []
  }
 ],
 "metadata": {
  "kernelspec": {
   "display_name": "Python 3",
   "language": "python",
   "name": "python3"
  },
  "language_info": {
   "codemirror_mode": {
    "name": "ipython",
    "version": 3
   },
   "file_extension": ".py",
   "mimetype": "text/x-python",
   "name": "python",
   "nbconvert_exporter": "python",
   "pygments_lexer": "ipython3",
   "version": "3.8.6"
  },
  "toc": {
   "base_numbering": 1,
   "nav_menu": {},
   "number_sections": true,
   "sideBar": true,
   "skip_h1_title": false,
   "title_cell": "Table of Contents",
   "title_sidebar": "Contents",
   "toc_cell": false,
   "toc_position": {},
   "toc_section_display": true,
   "toc_window_display": false
  },
  "varInspector": {
   "cols": {
    "lenName": 16,
    "lenType": 16,
    "lenVar": 40
   },
   "kernels_config": {
    "python": {
     "delete_cmd_postfix": "",
     "delete_cmd_prefix": "del ",
     "library": "var_list.py",
     "varRefreshCmd": "print(var_dic_list())"
    },
    "r": {
     "delete_cmd_postfix": ") ",
     "delete_cmd_prefix": "rm(",
     "library": "var_list.r",
     "varRefreshCmd": "cat(var_dic_list()) "
    }
   },
   "types_to_exclude": [
    "module",
    "function",
    "builtin_function_or_method",
    "instance",
    "_Feature"
   ],
   "window_display": false
  }
 },
 "nbformat": 4,
 "nbformat_minor": 5
}
