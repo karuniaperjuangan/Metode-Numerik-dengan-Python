{
 "cells": [
  {
   "cell_type": "markdown",
   "id": "protecting-gentleman",
   "metadata": {
    "heading_collapsed": true
   },
   "source": [
    "# Import Packages"
   ]
  },
  {
   "cell_type": "code",
   "execution_count": 11,
   "id": "surgical-exhibit",
   "metadata": {
    "ExecuteTime": {
     "end_time": "2021-03-12T16:05:42.159173Z",
     "start_time": "2021-03-12T16:05:38.495817Z"
    },
    "hidden": true
   },
   "outputs": [],
   "source": [
    "import numpy as np\n",
    "import pandas as pd"
   ]
  },
  {
   "cell_type": "markdown",
   "id": "outstanding-sleeping",
   "metadata": {
    "heading_collapsed": true
   },
   "source": [
    "# Numpy Methods"
   ]
  },
  {
   "cell_type": "markdown",
   "id": "ecological-mainland",
   "metadata": {
    "hidden": true
   },
   "source": [
    "## `np.linalg.solve(A, B)`"
   ]
  },
  {
   "cell_type": "code",
   "execution_count": 12,
   "id": "affecting-soviet",
   "metadata": {
    "ExecuteTime": {
     "end_time": "2021-03-12T16:05:42.187688Z",
     "start_time": "2021-03-12T16:05:42.165633Z"
    },
    "hidden": true
   },
   "outputs": [
    {
     "name": "stdout",
     "output_type": "stream",
     "text": [
      "[2.1111112  0.37037036 6.185185   4.3333335 ]\n"
     ]
    }
   ],
   "source": [
    "# AX = B\n",
    "A = np.array([[1, 1, 1, 1],\n",
    "              [2, 3, 0, -1],\n",
    "              [-3, 4, 1, 2],\n",
    "              [1, 2, -1, 1]], dtype=\"float32\")\n",
    "\n",
    "B = np.array([13, 1, 10, 1], dtype=\"float32\")\n",
    "\n",
    "X = np.linalg.solve(A, B)\n",
    "print(x)"
   ]
  },
  {
   "cell_type": "markdown",
   "id": "comparable-luxury",
   "metadata": {
    "hidden": true
   },
   "source": [
    "## `np.linalg.inv(A)`"
   ]
  },
  {
   "cell_type": "code",
   "execution_count": 13,
   "id": "elder-musical",
   "metadata": {
    "ExecuteTime": {
     "end_time": "2021-03-12T16:05:42.287090Z",
     "start_time": "2021-03-12T16:05:42.197595Z"
    },
    "hidden": true
   },
   "outputs": [
    {
     "name": "stdout",
     "output_type": "stream",
     "text": [
      "[[ 0.27777778  0.05555556 -0.16666667  0.11111111]\n",
      " [-0.07407407  0.18518519  0.11111111  0.03703704]\n",
      " [ 0.46296296  0.09259259  0.05555556 -0.48148148]\n",
      " [ 0.33333333 -0.33333333  0.          0.33333333]]\n"
     ]
    }
   ],
   "source": [
    "A = np.array([[1, 1, 1, 1],\n",
    "              [2, 3, 0, -1],\n",
    "              [-3, 4, 1, 2],\n",
    "              [1, 2, -1, 1]])\n",
    "\n",
    "A_invers = np.linalg.inv(A)\n",
    "print(A_invers)"
   ]
  },
  {
   "cell_type": "markdown",
   "id": "emerging-postage",
   "metadata": {
    "heading_collapsed": true
   },
   "source": [
    "# Metode dari Materi"
   ]
  },
  {
   "cell_type": "markdown",
   "id": "mounted-twenty",
   "metadata": {
    "heading_collapsed": true,
    "hidden": true
   },
   "source": [
    "## Eliminasi Gauss"
   ]
  },
  {
   "cell_type": "code",
   "execution_count": 25,
   "id": "suburban-beverage",
   "metadata": {
    "ExecuteTime": {
     "end_time": "2021-03-12T16:22:46.205343Z",
     "start_time": "2021-03-12T16:22:46.194395Z"
    },
    "hidden": true
   },
   "outputs": [],
   "source": [
    "def Gauss(A, B, printStep=True):\n",
    "    size = B.size\n",
    "    matrix = np.concatenate((A, B.reshape(size, 1)), axis=1)\n",
    "    \n",
    "    for i in range(1, size):\n",
    "        if printStep:\n",
    "            print(\"step\", i, \"\\n\")\n",
    "            \n",
    "        rowBefore = matrix[i-1]/matrix[i-1, i-1] # depannya 1\n",
    "\n",
    "        for j in range(i, size):\n",
    "            matrix[j] -= (rowBefore*matrix[j, i-1])\n",
    "            if printStep:\n",
    "                print(matrix, \"\\n\")\n",
    "    \n",
    "    return matrix"
   ]
  },
  {
   "cell_type": "markdown",
   "id": "quick-springfield",
   "metadata": {
    "heading_collapsed": true,
    "hidden": true
   },
   "source": [
    "## Eliminasi Gauss-Jordan"
   ]
  },
  {
   "cell_type": "markdown",
   "id": "emerging-interaction",
   "metadata": {
    "heading_collapsed": true,
    "hidden": true
   },
   "source": [
    "### Dari Awal"
   ]
  },
  {
   "cell_type": "code",
   "execution_count": 35,
   "id": "plastic-breach",
   "metadata": {
    "ExecuteTime": {
     "end_time": "2021-03-12T16:41:24.497925Z",
     "start_time": "2021-03-12T16:41:24.481024Z"
    },
    "hidden": true
   },
   "outputs": [],
   "source": [
    "def GaussJordan(A, B, printStep=False, showInv=False, showB=True):\n",
    "    size = B.size\n",
    "    matrix = A\n",
    "    if showB:\n",
    "        matrix = np.concatenate((A, B.reshape(size, 1)), axis=1)\n",
    "    if showInv:\n",
    "        identity = np.identity(size, dtype=\"float32\")\n",
    "        matrix = np.concatenate((matrix, identity), axis=1)\n",
    "    \n",
    "    for i in range(0, size):\n",
    "        if printStep:\n",
    "            print(\"step\", i, \"\\n\")\n",
    "            \n",
    "        matrix[i] /= matrix[i, i]\n",
    "\n",
    "        for j in range(0, size):\n",
    "            if i == j:\n",
    "                continue\n",
    "                \n",
    "            matrix[j] -= matrix[i] * matrix[j, i]\n",
    "            if printStep:\n",
    "                print(matrix, \"\\n\")\n",
    "        \n",
    "    return matrix"
   ]
  },
  {
   "cell_type": "markdown",
   "id": "driving-portsmouth",
   "metadata": {
    "heading_collapsed": true,
    "hidden": true
   },
   "source": [
    "### Lanjutan Eliminasi Gauss"
   ]
  },
  {
   "cell_type": "code",
   "execution_count": 43,
   "id": "lightweight-bishop",
   "metadata": {
    "ExecuteTime": {
     "end_time": "2021-03-12T16:59:09.373657Z",
     "start_time": "2021-03-12T16:59:09.359428Z"
    },
    "hidden": true
   },
   "outputs": [],
   "source": [
    "def GaussJordan2(A, B, printStep=False, showInv=False, showB=True):\n",
    "    size = B.size\n",
    "    matrix = A\n",
    "    if showB:\n",
    "        matrix = np.concatenate((A, B.reshape(size, 1)), axis=1)\n",
    "    if showInv:\n",
    "        identity = np.identity(size, dtype=\"float32\")\n",
    "        matrix = np.concatenate((matrix, identity), axis=1)\n",
    "\n",
    "    for i in range(1, size):\n",
    "        if printStep:\n",
    "            print(\"step\", i, \"\\n\")\n",
    "            \n",
    "        rowBefore = matrix[i-1]/matrix[i-1, i-1]  # depannya 1\n",
    "\n",
    "        for j in range(i, size):\n",
    "            matrix[j] -= (rowBefore*matrix[j, i-1])\n",
    "            if printStep:\n",
    "                print(matrix, \"\\n\")\n",
    "            \n",
    "    return matrix"
   ]
  },
  {
   "cell_type": "markdown",
   "id": "sustainable-facility",
   "metadata": {
    "heading_collapsed": true,
    "hidden": true
   },
   "source": [
    "## Iterasi - Jacobi"
   ]
  },
  {
   "cell_type": "code",
   "execution_count": 108,
   "id": "athletic-romance",
   "metadata": {
    "ExecuteTime": {
     "end_time": "2021-03-12T18:14:45.805919Z",
     "start_time": "2021-03-12T18:14:45.787986Z"
    },
    "hidden": true
   },
   "outputs": [],
   "source": [
    "# AX = B\n",
    "def Jacobi(A, B, X_before, es=0.005, printStep=False, iter=1, table={}):\n",
    "    size = B.size\n",
    "    X = np.zeros(size)\n",
    "    RAE = np.zeros(size)\n",
    "\n",
    "    # iterasi X -> x1, x2, x3, dst... || x, y, z, dst...\n",
    "    for i in range(0, size):\n",
    "        X[i] = B[i]\n",
    "        for j in range(0, size):\n",
    "            if i != j:\n",
    "                X[i] -= A[i][j]*X_before[j]\n",
    "        X[i] /= A[i, i]\n",
    "\n",
    "    if printStep:\n",
    "        print(\"\\niter\", iter)\n",
    "        print(X)\n",
    "\n",
    "    for i in range(0, size):\n",
    "        RAE[i] = abs((X[i] - X_before[i])/X[i])\n",
    "\n",
    "    if np.all(RAE < es) and iter < 100:\n",
    "        return X\n",
    "\n",
    "    return Jacobi(A, B, X, es, iter=iter+1, table=table)"
   ]
  },
  {
   "cell_type": "markdown",
   "id": "fabulous-thousand",
   "metadata": {},
   "source": [
    "# Driver Code\n",
    "\n",
    "- **Gauss**\n",
    "  ```py\n",
    "  result = Gauss(A, B, printStep=False)\n",
    "  ```\n",
    "\n",
    "- **Gauss Jordan (dari awal)** | urutan: A B A_inv\n",
    "  ```py\n",
    "  result = GaussJordan(A, B, printStep=False, showInv=False, showB=True)\n",
    "  ```\n",
    "\n",
    "- **Gauss Jordan (lanjutan gauss)** | urutan A B A_inv | belum jadi\n",
    "  ```py\n",
    "  result = GaussJordan2(A, B, printStep=False, showInv=False, showB=True)\n",
    "  ```\n",
    "  \n",
    "- **Jacobi**\n",
    "  ```py\n",
    "  # terkaan awal\n",
    "  X0 = np.array([0, 0, 0], dtype=\"float32\")\n",
    "  result = Jacobi(A, B, X0, es=0.005, printStep=False)\n",
    "  ```"
   ]
  },
  {
   "cell_type": "code",
   "execution_count": 111,
   "id": "confirmed-solid",
   "metadata": {
    "ExecuteTime": {
     "end_time": "2021-03-12T18:20:53.891909Z",
     "start_time": "2021-03-12T18:20:53.871041Z"
    }
   },
   "outputs": [
    {
     "name": "stdout",
     "output_type": "stream",
     "text": [
      "[1.50375578 3.12827236 2.64995906]\n",
      "[[1.        0.        0.        1.506024 ]\n",
      " [0.        1.        0.        3.1325302]\n",
      " [0.        0.        1.        2.6506026]]\n"
     ]
    }
   ],
   "source": [
    "A = np.array([[3,  1, -1],\n",
    "              [4,  7, -3],\n",
    "              [2, -2,  5]], dtype=\"float32\")\n",
    "\n",
    "B = np.array([5, 20, 10], dtype=\"float32\")\n",
    "\n",
    "X0 = np.array([0, 0, 0], dtype=\"float32\")\n",
    "result = Jacobi(A, B, X0, es=0.005, printStep=False)\n",
    "print(result)"
   ]
  },
  {
   "cell_type": "code",
   "execution_count": null,
   "id": "internal-celtic",
   "metadata": {},
   "outputs": [],
   "source": []
  }
 ],
 "metadata": {
  "kernelspec": {
   "display_name": "Python 3",
   "language": "python",
   "name": "python3"
  },
  "language_info": {
   "codemirror_mode": {
    "name": "ipython",
    "version": 3
   },
   "file_extension": ".py",
   "mimetype": "text/x-python",
   "name": "python",
   "nbconvert_exporter": "python",
   "pygments_lexer": "ipython3",
   "version": "3.8.6"
  },
  "toc": {
   "base_numbering": 1,
   "nav_menu": {},
   "number_sections": true,
   "sideBar": true,
   "skip_h1_title": false,
   "title_cell": "Table of Contents",
   "title_sidebar": "Contents",
   "toc_cell": false,
   "toc_position": {
    "height": "calc(100% - 180px)",
    "left": "10px",
    "top": "150px",
    "width": "273.188px"
   },
   "toc_section_display": true,
   "toc_window_display": false
  },
  "varInspector": {
   "cols": {
    "lenName": 16,
    "lenType": 16,
    "lenVar": 40
   },
   "kernels_config": {
    "python": {
     "delete_cmd_postfix": "",
     "delete_cmd_prefix": "del ",
     "library": "var_list.py",
     "varRefreshCmd": "print(var_dic_list())"
    },
    "r": {
     "delete_cmd_postfix": ") ",
     "delete_cmd_prefix": "rm(",
     "library": "var_list.r",
     "varRefreshCmd": "cat(var_dic_list()) "
    }
   },
   "types_to_exclude": [
    "module",
    "function",
    "builtin_function_or_method",
    "instance",
    "_Feature"
   ],
   "window_display": false
  }
 },
 "nbformat": 4,
 "nbformat_minor": 5
}
