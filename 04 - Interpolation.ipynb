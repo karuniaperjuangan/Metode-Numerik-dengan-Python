{
 "cells": [
  {
   "cell_type": "code",
   "execution_count": 79,
   "id": "protected-governor",
   "metadata": {
    "ExecuteTime": {
     "end_time": "2021-03-23T08:00:57.435316Z",
     "start_time": "2021-03-23T08:00:57.431828Z"
    }
   },
   "outputs": [],
   "source": [
    "import numpy as np\n",
    "from matplotlib import pyplot as plt"
   ]
  },
  {
   "cell_type": "code",
   "execution_count": 70,
   "id": "computational-musician",
   "metadata": {
    "ExecuteTime": {
     "end_time": "2021-03-23T07:56:34.048077Z",
     "start_time": "2021-03-23T07:56:34.037810Z"
    }
   },
   "outputs": [],
   "source": [
    "X_data = np.array([1.6, 2, 2.5, 3.2, 4, 4.5], dtype=\"float32\")\n",
    "Y_data = np.array([2  , 8, 14 , 15 , 8, 2], dtype=\"float32\")   # f(x) = y\n",
    "\n",
    "# target -> f(3)"
   ]
  },
  {
   "cell_type": "code",
   "execution_count": 80,
   "id": "binding-strategy",
   "metadata": {
    "ExecuteTime": {
     "end_time": "2021-03-23T08:01:47.511189Z",
     "start_time": "2021-03-23T08:01:47.496744Z"
    }
   },
   "outputs": [],
   "source": [
    "# orde 1\n",
    "\n",
    "X = X_data[2:]\n",
    "Y = Y_data[2:]\n",
    "\n",
    "def PBH1(x1, y1, x2, y2):\n",
    "    return (y1 - y2)/(x1 - x2)\n",
    "\n",
    "\n",
    "def f1(x):\n",
    "    return b0 + b1*(x - X[0])\n",
    "\n",
    "b0 = Y[0] \n",
    "b1 = PBH1(X[0], Y[0], X[1], Y[1])\n",
    "\n",
    "f1_x = f1(3)"
   ]
  },
  {
   "cell_type": "code",
   "execution_count": 81,
   "id": "interested-australia",
   "metadata": {
    "ExecuteTime": {
     "end_time": "2021-03-23T08:01:53.381142Z",
     "start_time": "2021-03-23T08:01:53.366678Z"
    }
   },
   "outputs": [],
   "source": [
    "# orde 2\n",
    "\n",
    "X = X_data[2:]\n",
    "Y = Y_data[2:]\n",
    "\n",
    "def PBH2(x1, y1, x2, y2, x3, y3):\n",
    "    return (PBH1(x1, y1, x2, y2)-PBH1(x2, y2, x3, y3))/(x1 - x3)\n",
    "\n",
    "\n",
    "def f2(x):\n",
    "    return b0 + b1*(x - X[0]) + b2*(x - X[0])*(x - X[1])\n",
    "\n",
    "\n",
    "b0 = Y[0] \n",
    "b1 = PBH1(X[0], Y[0], X[1], Y[1])\n",
    "b2 = PBH2(X[0], Y[0], X[1], Y[1], X[2], Y[2])\n",
    "\n",
    "f2_x = f2(3)"
   ]
  },
  {
   "cell_type": "code",
   "execution_count": 82,
   "id": "pregnant-variance",
   "metadata": {
    "ExecuteTime": {
     "end_time": "2021-03-23T08:01:59.684896Z",
     "start_time": "2021-03-23T08:01:59.667010Z"
    }
   },
   "outputs": [],
   "source": [
    "# orde 3\n",
    "\n",
    "X = X_data[1:]\n",
    "Y = Y_data[1:]\n",
    "\n",
    "\n",
    "def PBH3(x1, y1, x2, y2, x3, y3, x4, y4):\n",
    "    return (PBH2(x1, y1, x2, y2, x3, y3)-PBH2(x2, y2, x3, y3, x4, y4))/(x1 - x4)\n",
    "\n",
    "\n",
    "def f3(x):\n",
    "    return b0 + b1*(x - X[0]) + b2*(x - X[0])*(x - X[1]) + b3*(x - X[0])*(x - X[1])*(x - X[2])\n",
    "\n",
    "\n",
    "b0 = Y[0]\n",
    "b1 = PBH1(X[0], Y[0], X[1], Y[1])\n",
    "b2 = PBH2(X[0], Y[0], X[1], Y[1], X[2], Y[2])\n",
    "b3 = PBH3(X[0], Y[0], X[1], Y[1], X[2], Y[2], X[3], Y[3])\n",
    "\n",
    "\n",
    "f3_x = f3(3)"
   ]
  },
  {
   "cell_type": "code",
   "execution_count": 83,
   "id": "automated-treat",
   "metadata": {
    "ExecuteTime": {
     "end_time": "2021-03-23T08:02:06.011731Z",
     "start_time": "2021-03-23T08:02:05.983081Z"
    }
   },
   "outputs": [],
   "source": [
    "# orde 4\n",
    "\n",
    "X = X_data[1:]\n",
    "Y = Y_data[1:]\n",
    "\n",
    "\n",
    "def PBH4(x1, y1, x2, y2, x3, y3, x4, y4, x5, y5):\n",
    "    return (PBH3(x1, y1, x2, y2, x3, y3, x4, y4)-PBH3(x2, y2, x3, y3, x4, y4, x5, y5))/(x1 - x5)\n",
    "\n",
    "\n",
    "def f4(x):\n",
    "    return b0 + b1*(x - X[0]) + b2*(x - X[0])*(x - X[1]) + b3*(x - X[0])*(x - X[1])*(x - X[2]) + b4*(x - X[0])*(x - X[1])*(x - X[2])*(x - X[3])\n",
    "\n",
    "\n",
    "b0 = Y[0]\n",
    "b1 = PBH1(X[0], Y[0], X[1], Y[1])\n",
    "b2 = PBH2(X[0], Y[0], X[1], Y[1], X[2], Y[2])\n",
    "b3 = PBH3(X[0], Y[0], X[1], Y[1], X[2], Y[2], X[3], Y[3])\n",
    "b4 = PBH4(X[0], Y[0], X[1], Y[1], X[2], Y[2], X[3], Y[3], X[4], Y[4])\n",
    "\n",
    "f4_x = f4(3)"
   ]
  },
  {
   "cell_type": "code",
   "execution_count": 85,
   "id": "spiritual-stand",
   "metadata": {
    "ExecuteTime": {
     "end_time": "2021-03-23T08:03:19.538092Z",
     "start_time": "2021-03-23T08:03:19.394027Z"
    }
   },
   "outputs": [
    {
     "data": {
      "image/png": "[encoded data removed]",
      "text/plain": [
       "<Figure size 432x288 with 1 Axes>"
      ]
     },
     "metadata": {
      "needs_background": "light"
     },
     "output_type": "display_data"
    }
   ],
   "source": [
    "def ShowGraph(X, Y, x, y):\n",
    "    plt.clf()\n",
    "    plt.plot(X, Y, '-r')\n",
    "    plt.plot(X, Y, 'ob')\n",
    "    plt.plot(x, y, '')\n",
    "    plt.grid()\n",
    "    plt.show()\n",
    "    \n",
    "\n",
    "ShowGraph(X_data, Y_data)"
   ]
  }
 ],
 "metadata": {
  "kernelspec": {
   "display_name": "Python 3",
   "language": "python",
   "name": "python3"
  },
  "language_info": {
   "codemirror_mode": {
    "name": "ipython",
    "version": 3
   },
   "file_extension": ".py",
   "mimetype": "text/x-python",
   "name": "python",
   "nbconvert_exporter": "python",
   "pygments_lexer": "ipython3",
   "version": "3.8.6"
  },
  "toc": {
   "base_numbering": 1,
   "nav_menu": {},
   "number_sections": true,
   "sideBar": true,
   "skip_h1_title": false,
   "title_cell": "Table of Contents",
   "title_sidebar": "Contents",
   "toc_cell": false,
   "toc_position": {},
   "toc_section_display": true,
   "toc_window_display": false
  },
  "varInspector": {
   "cols": {
    "lenName": 16,
    "lenType": 16,
    "lenVar": 40
   },
   "kernels_config": {
    "python": {
     "delete_cmd_postfix": "",
     "delete_cmd_prefix": "del ",
     "library": "var_list.py",
     "varRefreshCmd": "print(var_dic_list())"
    },
    "r": {
     "delete_cmd_postfix": ") ",
     "delete_cmd_prefix": "rm(",
     "library": "var_list.r",
     "varRefreshCmd": "cat(var_dic_list()) "
    }
   },
   "types_to_exclude": [
    "module",
    "function",
    "builtin_function_or_method",
    "instance",
    "_Feature"
   ],
   "window_display": false
  }
 },
 "nbformat": 4,
 "nbformat_minor": 5
}
