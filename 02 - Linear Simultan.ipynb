{
 "cells": [
  {
   "cell_type": "markdown",
   "id": "protecting-gentleman",
   "metadata": {
    "heading_collapsed": true
   },
   "source": [
    "# Import Packages"
   ]
  },
  {
   "cell_type": "code",
   "execution_count": 1,
   "id": "surgical-exhibit",
   "metadata": {
    "ExecuteTime": {
     "end_time": "2021-03-06T08:38:39.400783Z",
     "start_time": "2021-03-06T08:38:36.061914Z"
    },
    "hidden": true
   },
   "outputs": [],
   "source": [
    "import numpy as np\n",
    "import pandas as pd"
   ]
  },
  {
   "cell_type": "markdown",
   "id": "female-offer",
   "metadata": {
    "heading_collapsed": true
   },
   "source": [
    "# Kumpulan Matrix"
   ]
  },
  {
   "cell_type": "markdown",
   "id": "cross-honor",
   "metadata": {
    "heading_collapsed": true,
    "hidden": true
   },
   "source": [
    "## Ruas kiri dan kanan jadi 1 matrix"
   ]
  },
  {
   "cell_type": "code",
   "execution_count": null,
   "id": "fourth-temple",
   "metadata": {
    "hidden": true
   },
   "outputs": [],
   "source": [
    "# 3x + y - z = 5\n",
    "# 4x + 7z - 3z = 20\n",
    "# 2x -2y + 5z = 10\n",
    "\n",
    "matrix = np.array([[3.,  1., -1.,  5.],\n",
    "                   [4.,  7., -3., 20.],\n",
    "                   [2., -2.,  5., 10.]])\n",
    "\n",
    "# hasil = [1.5060241  3.13253012 2.65060241]"
   ]
  },
  {
   "cell_type": "code",
   "execution_count": null,
   "id": "eight-extra",
   "metadata": {
    "hidden": true
   },
   "outputs": [],
   "source": [
    "matrix = np.array([[ 1., 1.,  1.,  1., 13.],\n",
    "                   [ 2., 3.,  0., -1.,  1.],\n",
    "                   [-3., 4.,  1.,  2., 10.],\n",
    "                   [ 1., 2., -1.,  1.,  1.]])\n",
    "\n",
    "# hasil = [2.11111111 0.37037037 6.18518519 4.33333333]"
   ]
  },
  {
   "cell_type": "markdown",
   "id": "included-phenomenon",
   "metadata": {
    "heading_collapsed": true,
    "hidden": true
   },
   "source": [
    "## Ruas kiri matrix A, ruas kanan matrix B"
   ]
  },
  {
   "cell_type": "code",
   "execution_count": null,
   "id": "humanitarian-optimum",
   "metadata": {
    "hidden": true
   },
   "outputs": [],
   "source": [
    "A = np.array([[3., 1., -1.],\n",
    "              [4., 7., -3.],\n",
    "              [2., -2., 5.]])\n",
    "\n",
    "B = np.array([[ 5.], \n",
    "              [20.], \n",
    "              [10.]])\n",
    "\n",
    "# hasil = [1.5060241  3.13253012 2.65060241]"
   ]
  },
  {
   "cell_type": "code",
   "execution_count": null,
   "id": "ethical-grocery",
   "metadata": {
    "hidden": true
   },
   "outputs": [],
   "source": [
    "# |   1   1   1   1 | | x |   | 13 |\n",
    "# |   2   3   0  -1 | | y | = |  1 |\n",
    "# |  -3   4   1   2 | | z |   | 10 |\n",
    "# |   1   2  -1   1 | | w |   |  1 |\n",
    "\n",
    "A = np.array([[ 1.,  1.,  1.,  1.],\n",
    "              [ 2.,  3.,  0., -1.],\n",
    "              [-3., 4.,  1.,  2.],\n",
    "              [ 1.,  2., -1.,  1.]])\n",
    "\n",
    "B = np.array([[13.],\n",
    "              [ 1.],\n",
    "              [10.],\n",
    "              [ 1.]])\n",
    "\n",
    "# hasil = [2.11111111 0.37037037 6.18518519 4.33333333]"
   ]
  },
  {
   "cell_type": "markdown",
   "id": "outstanding-sleeping",
   "metadata": {
    "heading_collapsed": true
   },
   "source": [
    "# Numpy Method `np.linalg.solve(a, b)`"
   ]
  },
  {
   "cell_type": "code",
   "execution_count": 3,
   "id": "affecting-soviet",
   "metadata": {
    "ExecuteTime": {
     "end_time": "2021-03-06T08:40:56.890482Z",
     "start_time": "2021-03-06T08:40:56.855841Z"
    },
    "hidden": true
   },
   "outputs": [
    {
     "name": "stdout",
     "output_type": "stream",
     "text": [
      "[2.11111111 0.37037037 6.18518519 4.33333333]\n"
     ]
    }
   ],
   "source": [
    "# cara magic\n",
    "# https://radiokuantum.wordpress.com/2018/03/22/menyelesaikan-persamaan-linear-multi-variabel-dengan-menggunakan-python-dan-numpy/\n",
    "\n",
    "# |   1   1   1   1 | | x |   | 13 |\n",
    "# |   2   3   0  -1 | | y | = |  1 |\n",
    "# |  -3   4   1   2 | | z |   | 10 |\n",
    "# |   1   2  -1   1 | | w |   |  1 |\n",
    "\n",
    "A = np.array([[1, 1, 1, 1],\n",
    "              [2, 3, 0, -1],\n",
    "              [-3, 4, 1, 2],\n",
    "              [1, 2, -1, 1]])\n",
    "\n",
    "B = np.array([13, 1, 10, 1])\n",
    "\n",
    "x = np.linalg.solve(A, B)\n",
    "print(x)"
   ]
  },
  {
   "cell_type": "markdown",
   "id": "emerging-postage",
   "metadata": {},
   "source": [
    "# Metode dari Materi"
   ]
  },
  {
   "cell_type": "markdown",
   "id": "mounted-twenty",
   "metadata": {
    "heading_collapsed": true
   },
   "source": [
    "## Gauss"
   ]
  },
  {
   "cell_type": "code",
   "execution_count": 80,
   "id": "suburban-beverage",
   "metadata": {
    "ExecuteTime": {
     "end_time": "2021-03-06T09:51:54.499732Z",
     "start_time": "2021-03-06T09:51:54.461049Z"
    },
    "hidden": true
   },
   "outputs": [
    {
     "name": "stdout",
     "output_type": "stream",
     "text": [
      "step 1 \n",
      "\n",
      "[[ 3.         1.        -1.         5.       ]\n",
      " [ 0.         5.6666665 -1.6666666 13.333334 ]\n",
      " [ 2.        -2.         5.        10.       ]] \n",
      "\n",
      "[[ 3.         1.        -1.         5.       ]\n",
      " [ 0.         5.6666665 -1.6666666 13.333334 ]\n",
      " [ 0.        -2.6666667  5.6666665  6.666667 ]] \n",
      "\n",
      "step 2 \n",
      "\n",
      "[[ 3.         1.        -1.         5.       ]\n",
      " [ 0.         5.6666665 -1.6666666 13.333334 ]\n",
      " [ 0.         0.         4.882353  12.941177 ]] \n",
      "\n",
      "result matrix\n",
      "\n",
      "[[ 3.         1.        -1.         5.       ]\n",
      " [ 0.         5.6666665 -1.6666666 13.333334 ]\n",
      " [ 0.         0.         4.882353  12.941177 ]]\n"
     ]
    }
   ],
   "source": [
    "matrix = np.array([[3,  1, -1,  5],\n",
    "                   [4,  7, -3, 20],\n",
    "                   [2, -2,  5, 10]], dtype=\"float32\")\n",
    "\n",
    "size = matrix[:, 0].size\n",
    "\n",
    "resultMatrix = matrix.copy()\n",
    "\n",
    "for i in range(1, size):\n",
    "    print(\"step\", i, \"\\n\")\n",
    "    rowBefore = resultMatrix[i-1]/resultMatrix[i-1, i-1] # depannya 1\n",
    "    \n",
    "    for j in range(i, size):\n",
    "        resultMatrix[j] -= (rowBefore*resultMatrix[j, i-1])\n",
    "        \n",
    "        print(resultMatrix, \"\\n\")\n",
    "        \n",
    "\n",
    "print(\"result matrix\", resultMatrix, sep=\"\\n\\n\")"
   ]
  },
  {
   "cell_type": "markdown",
   "id": "quick-springfield",
   "metadata": {
    "heading_collapsed": true
   },
   "source": [
    "## Eliminasi Gauss-Jordan"
   ]
  },
  {
   "cell_type": "code",
   "execution_count": 79,
   "id": "plastic-breach",
   "metadata": {
    "ExecuteTime": {
     "end_time": "2021-03-06T09:51:32.809557Z",
     "start_time": "2021-03-06T09:51:32.758118Z"
    },
    "hidden": true
   },
   "outputs": [
    {
     "name": "stdout",
     "output_type": "stream",
     "text": [
      "step 0 \n",
      "\n",
      "[[ 1.          0.33333333 -0.33333333  1.66666667]\n",
      " [ 0.          5.66666667 -1.66666667 13.33333333]\n",
      " [ 2.         -2.          5.         10.        ]] \n",
      "\n",
      "[[ 1.          0.33333333 -0.33333333  1.66666667]\n",
      " [ 0.          5.66666667 -1.66666667 13.33333333]\n",
      " [ 0.         -2.66666667  5.66666667  6.66666667]] \n",
      "\n",
      "step 1 \n",
      "\n",
      "[[ 1.          0.         -0.23529412  0.88235294]\n",
      " [ 0.          1.         -0.29411765  2.35294118]\n",
      " [ 0.         -2.66666667  5.66666667  6.66666667]] \n",
      "\n",
      "[[ 1.          0.         -0.23529412  0.88235294]\n",
      " [ 0.          1.         -0.29411765  2.35294118]\n",
      " [ 0.          0.          4.88235294 12.94117647]] \n",
      "\n",
      "step 2 \n",
      "\n",
      "[[ 1.          0.          0.          1.5060241 ]\n",
      " [ 0.          1.         -0.29411765  2.35294118]\n",
      " [ 0.          0.          1.          2.65060241]] \n",
      "\n",
      "[[1.         0.         0.         1.5060241 ]\n",
      " [0.         1.         0.         3.13253012]\n",
      " [0.         0.         1.         2.65060241]] \n",
      "\n",
      "result\n",
      "[1.5060241  3.13253012 2.65060241]\n"
     ]
    }
   ],
   "source": [
    "matrix = np.array([[3., 1., -1., 5.],\n",
    "                   [4., 7., -3., 20.],\n",
    "                   [2., -2., 5., 10.]])\n",
    "\n",
    "size = matrix[:, 0].size\n",
    "\n",
    "resultMatrix = matrix.copy()\n",
    "\n",
    "for i in range(0, size):\n",
    "    # i sebagai row pada tiap step\n",
    "    print(\"step\", i, \"\\n\")\n",
    "    resultMatrix[i] /= resultMatrix[i, i]\n",
    "    \n",
    "    for j in range(0, size):\n",
    "        if i == j:\n",
    "            continue\n",
    "        resultMatrix[j] -= resultMatrix[i] * resultMatrix[j, i]\n",
    "        print(resultMatrix, \"\\n\")\n",
    "        \n",
    "\n",
    "result = resultMatrix[:, size].copy()\n",
    "print(\"result\", result, sep=\"\\n\")"
   ]
  }
 ],
 "metadata": {
  "kernelspec": {
   "display_name": "Python 3",
   "language": "python",
   "name": "python3"
  },
  "language_info": {
   "codemirror_mode": {
    "name": "ipython",
    "version": 3
   },
   "file_extension": ".py",
   "mimetype": "text/x-python",
   "name": "python",
   "nbconvert_exporter": "python",
   "pygments_lexer": "ipython3",
   "version": "3.8.6"
  },
  "toc": {
   "base_numbering": 1,
   "nav_menu": {},
   "number_sections": true,
   "sideBar": true,
   "skip_h1_title": false,
   "title_cell": "Table of Contents",
   "title_sidebar": "Contents",
   "toc_cell": false,
   "toc_position": {
    "height": "calc(100% - 180px)",
    "left": "10px",
    "top": "150px",
    "width": "273.188px"
   },
   "toc_section_display": true,
   "toc_window_display": false
  },
  "varInspector": {
   "cols": {
    "lenName": 16,
    "lenType": 16,
    "lenVar": 40
   },
   "kernels_config": {
    "python": {
     "delete_cmd_postfix": "",
     "delete_cmd_prefix": "del ",
     "library": "var_list.py",
     "varRefreshCmd": "print(var_dic_list())"
    },
    "r": {
     "delete_cmd_postfix": ") ",
     "delete_cmd_prefix": "rm(",
     "library": "var_list.r",
     "varRefreshCmd": "cat(var_dic_list()) "
    }
   },
   "types_to_exclude": [
    "module",
    "function",
    "builtin_function_or_method",
    "instance",
    "_Feature"
   ],
   "window_display": false
  }
 },
 "nbformat": 4,
 "nbformat_minor": 5
}
