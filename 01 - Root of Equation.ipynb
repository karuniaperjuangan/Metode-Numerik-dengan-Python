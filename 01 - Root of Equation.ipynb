{
 "cells": [
  {
   "cell_type": "markdown",
   "id": "united-piano",
   "metadata": {
    "ExecuteTime": {
     "end_time": "2021-03-03T02:07:31.926036Z",
     "start_time": "2021-03-03T02:07:31.911966Z"
    }
   },
   "source": [
    "# Import Packages\n",
    "\n",
    "[LaTeX Editor](https://latex.codecogs.com/eqneditor/editor.php)"
   ]
  },
  {
   "cell_type": "code",
   "execution_count": 2,
   "id": "crude-trader",
   "metadata": {
    "ExecuteTime": {
     "end_time": "2021-04-04T10:38:50.113728Z",
     "start_time": "2021-04-04T10:38:46.637425Z"
    },
    "scrolled": false
   },
   "outputs": [],
   "source": [
    "# Run cell ini dulu!!!\n",
    "\n",
    "import numpy as np\n",
    "import pandas as pd\n",
    "from matplotlib import pyplot as plt\n",
    "\n",
    "\n",
    "def showGraph(result, range):\n",
    "    x = np.arange(result-range, result+range, 0.01)\n",
    "    y = f(x)\n",
    "    y1 = 0\n",
    "    plt.clf()\n",
    "    plt.plot(x, y)\n",
    "    plt.plot(x, 0/x)\n",
    "    plt.grid()\n",
    "    plt.show()"
   ]
  },
  {
   "cell_type": "code",
   "execution_count": 17,
   "id": "informative-affiliation",
   "metadata": {
    "ExecuteTime": {
     "end_time": "2021-04-04T10:55:04.079361Z",
     "start_time": "2021-04-04T10:55:04.073867Z"
    }
   },
   "outputs": [
    {
     "name": "stdout",
     "output_type": "stream",
     "text": [
      "2.024\n"
     ]
    }
   ],
   "source": [
    "a = 2.023624234234\n",
    "print(round(a, 3))"
   ]
  },
  {
   "cell_type": "markdown",
   "id": "living-exposure",
   "metadata": {},
   "source": [
    "# Bisection Method\n",
    "\n",
    "$x_{mid} = \\frac{x_{low}+x_{up}}{2}$\n",
    "\n",
    "$|\\epsilon_{a}| = |\\frac{x_{mid}^{new}-x_{mid}^{old}}{x_{mid}^{new}}| \\cdot 100\\%$"
   ]
  },
  {
   "cell_type": "code",
   "execution_count": 31,
   "id": "electronic-blend",
   "metadata": {
    "ExecuteTime": {
     "end_time": "2021-04-04T11:06:29.146806Z",
     "start_time": "2021-04-04T11:06:29.105948Z"
    },
    "scrolled": false
   },
   "outputs": [
    {
     "name": "stdout",
     "output_type": "stream",
     "text": [
      "2.0048828125 \n",
      "\n",
      "     xlow     xup    xmid       rae  f(xlow)  f(xmid)\n",
      "0  1.0000  8.0000  4.5000  999.0000  -7.0000  26.2500\n",
      "1  1.0000  4.5000  2.7500    0.6364  -7.0000   6.5625\n",
      "2  1.0000  2.7500  1.8750    0.4667  -7.0000  -0.9844\n",
      "3  1.8750  2.7500  2.3125    0.1892  -0.9844   2.5977\n",
      "4  1.8750  2.3125  2.0938    0.1045  -0.9844   0.7588\n",
      "5  1.8750  2.0938  1.9844    0.0551  -0.9844  -0.1248\n",
      "6  1.9844  2.0938  2.0391    0.0268  -0.1248   0.3140\n",
      "7  1.9844  2.0391  2.0117    0.0136  -0.1248   0.0939\n",
      "8  1.9844  2.0117  1.9980    0.0068  -0.1248  -0.0156\n",
      "9  1.9980  2.0117  2.0049    0.0034  -0.0156   0.0391\n"
     ]
    }
   ],
   "source": [
    "table = {\n",
    "    'xlow': [],\n",
    "    'xup': [],\n",
    "    'xmid': [],\n",
    "    'rae': [],\n",
    "    'f(xlow)': [],\n",
    "    'f(xmid)': []\n",
    "}\n",
    "\n",
    "\n",
    "# ====== Ganti f(x) ======\n",
    "def f(x):\n",
    "    return x**2 + 4*x - 12\n",
    "\n",
    "\n",
    "def bisection(xlow, xup, xmidold=9999, rae=9999, iter=0):\n",
    "    xmid = (xlow + xup)/2\n",
    "    rae = abs((xmid-xmidold)/xmid)\n",
    "    f_xlow = f(xlow)\n",
    "    f_xmid = f(xmid)\n",
    "\n",
    "    table['xlow'].append(xlow)\n",
    "    table['xup'].append(xup)\n",
    "    table['xmid'].append(xmid)\n",
    "    if iter > 0:\n",
    "        table['rae'].append(rae)\n",
    "    else:\n",
    "        table['rae'].append(999)\n",
    "    table['f(xlow)'].append(f_xlow)\n",
    "    table['f(xmid)'].append(f_xmid)\n",
    "\n",
    "    if iter > 100 or rae < es:\n",
    "        return xmid\n",
    "\n",
    "    if f_xlow * f_xmid < 0:\n",
    "        return bisection(xlow, xmid, xmid, rae, iter+1)\n",
    "    elif f_xlow * f_xmid > 0:\n",
    "        return bisection(xmid, xup, xmid, rae, iter+1)\n",
    "\n",
    "    return xmid\n",
    "\n",
    "\n",
    "# ====== Ganti Titik Awal ======\n",
    "xlow = 1\n",
    "xup = 8\n",
    "es = 0.005 # 0.5%\n",
    "\n",
    "result = bisection(xlow, xup)\n",
    "\n",
    "print(result, \"\\n\")\n",
    "# showGraph(result, 5)\n",
    "# showGraph(result, 1)\n",
    "print(pd.DataFrame(table).round(4))"
   ]
  },
  {
   "cell_type": "markdown",
   "id": "retained-petite",
   "metadata": {},
   "source": [
    "# False Position Method\n",
    "\n",
    "$x_{mid} = x_{up} - \\frac{f(x_{up})(x_{low}-x_{up})}{f(x_{low})-f(x_{up})}$\n",
    "\n",
    "$|\\epsilon_{a}| = |\\frac{x_{mid}^{new}-x_{mid}^{old}}{x_{mid}^{new}}| \\cdot 100\\%$"
   ]
  },
  {
   "cell_type": "code",
   "execution_count": 34,
   "id": "leading-haven",
   "metadata": {
    "ExecuteTime": {
     "end_time": "2021-04-04T11:07:11.216821Z",
     "start_time": "2021-04-04T11:07:11.152032Z"
    },
    "scrolled": false
   },
   "outputs": [
    {
     "name": "stdout",
     "output_type": "stream",
     "text": [
      "1.9929246656443507 \n",
      "\n",
      "     xlow  xup    xmid       rae  f(xlow)  f(xmid)\n",
      "0  1.0000    8  1.5385  999.0000  -7.0000  -3.4793\n",
      "1  1.5385    8  1.7955    0.1431  -3.4793  -1.5945\n",
      "2  1.7955    8  1.9110    0.0605  -1.5945  -0.7038\n",
      "3  1.9110    8  1.9616    0.0258  -0.7038  -0.3055\n",
      "4  1.9616    8  1.9835    0.0110  -0.3055  -0.1316\n",
      "5  1.9835    8  1.9929    0.0047  -0.1316  -0.0566\n"
     ]
    }
   ],
   "source": [
    "table = {\n",
    "    'xlow': [],\n",
    "    'xup': [],\n",
    "    'xmid': [],\n",
    "    'rae': [],\n",
    "    'f(xlow)': [],\n",
    "    'f(xmid)': []\n",
    "}\n",
    "\n",
    "\n",
    "# ====== Ganti f(x) ======\n",
    "def f(x):\n",
    "    return x**2 + 4*x - 12\n",
    "\n",
    "\n",
    "def falsePosition(xlow, xup, xmidold=9999, rae=9999, iter=0):\n",
    "    xmid = xup - (f(xup)*(xlow-xup))/(f(xlow)-f(xup))\n",
    "    rae = abs((xmid-xmidold)/xmid)\n",
    "    f_xlow = f(xlow)\n",
    "    f_xmid = f(xmid)\n",
    "\n",
    "    table['xlow'].append(xlow)\n",
    "    table['xup'].append(xup)\n",
    "    table['xmid'].append(xmid)\n",
    "    if iter > 0:\n",
    "        table['rae'].append(rae)\n",
    "    else:\n",
    "        table['rae'].append(999)\n",
    "    table['f(xlow)'].append(f_xlow)\n",
    "    table['f(xmid)'].append(f_xmid)\n",
    "\n",
    "    if iter > 100 or rae < es:\n",
    "        return xmid\n",
    "\n",
    "    if f_xlow * f_xmid < 0:\n",
    "        return falsePosition(xlow, xmid, xmid, rae, iter+1)\n",
    "    elif f_xlow * f_xmid > 0:\n",
    "        return falsePosition(xmid, xup, xmid, rae, iter+1)\n",
    "\n",
    "    return xmid\n",
    "\n",
    "\n",
    "# ====== Ganti Titik Awal ======\n",
    "xlow = 1\n",
    "xup = 8\n",
    "es = 0.005\n",
    "\n",
    "result = falsePosition(xlow, xup)\n",
    "\n",
    "print(result, \"\\n\")\n",
    "# showGraph(result, 5)\n",
    "# showGraph(result, 1)\n",
    "print(pd.DataFrame(table).round(4))"
   ]
  },
  {
   "cell_type": "markdown",
   "id": "impressive-photograph",
   "metadata": {},
   "source": [
    "# Newton Raphson Method\n",
    "\n",
    "$x_{i+1} = x_{i} - \\frac{f(x_{i})}{f'(x_{i})}$\n",
    "\n",
    "$|\\epsilon_{a}| = |\\frac{x_{i+1}-x_{i}}{x_{i+1}}| \\cdot 100\\% $"
   ]
  },
  {
   "cell_type": "code",
   "execution_count": 35,
   "id": "twenty-syndication",
   "metadata": {
    "ExecuteTime": {
     "end_time": "2021-04-04T11:07:22.471823Z",
     "start_time": "2021-04-04T11:07:22.453449Z"
    },
    "scrolled": false
   },
   "outputs": [
    {
     "name": "stdout",
     "output_type": "stream",
     "text": [
      "0.9534642694341398 \n",
      "\n",
      "       xi     xii     rae   f(xi)  f'(xi)\n",
      "0  0.5000  0.7328  0.3177  1.9670 -8.4480\n",
      "1  0.7328  0.8652  0.1530  0.5357 -4.0472\n",
      "2  0.8652  0.9297  0.0694  0.1343 -2.0826\n",
      "3  0.9297  0.9509  0.0223  0.0268 -1.2664\n",
      "4  0.9509  0.9535  0.0027  0.0026 -1.0186\n"
     ]
    }
   ],
   "source": [
    "table = {\n",
    "    'xi': [],\n",
    "    'xii': [],\n",
    "    'rae': [],\n",
    "    'f(xi)': [],\n",
    "    \"f'(xi)\": []\n",
    "}\n",
    "\n",
    "\n",
    "# ====== Ganti f(x) ======\n",
    "def f(x):\n",
    "    return 9.34-21.97*x+16.3*(x**2)-3.704*(x**3)\n",
    "\n",
    "\n",
    "# ====== Ganti f'(x) ======\n",
    "def fa(x):\n",
    "    return -21.97 + 32.6*x - 3*3.704*(x**2)\n",
    "\n",
    "\n",
    "def newtonRaphson(xi, rae=9999, iter=0):\n",
    "    xii = xi - f(xi)/fa(xi)\n",
    "    rae = abs((xii-xi)/xii)\n",
    "\n",
    "    table['xi'].append(xi)\n",
    "    table['xii'].append(xii)\n",
    "    table['rae'].append(rae)\n",
    "    table['f(xi)'].append(f(xi))\n",
    "    table[\"f'(xi)\"].append(fa(xi))\n",
    "\n",
    "    if iter < 100 and rae >= es:\n",
    "        return newtonRaphson(xii, rae, iter+1)\n",
    "\n",
    "    return xii\n",
    "\n",
    "\n",
    "# ====== Ganti Titik Awal ======\n",
    "x0 = 0.5\n",
    "es = 0.005\n",
    "\n",
    "result = newtonRaphson(x0)\n",
    "\n",
    "print(result, \"\\n\")\n",
    "# showGraph(result, 10)\n",
    "# showGraph(result, 1)\n",
    "print(pd.DataFrame(table).round(4))"
   ]
  },
  {
   "cell_type": "markdown",
   "id": "norwegian-dollar",
   "metadata": {},
   "source": [
    "# Secant Method\n",
    "\n",
    "$x_{i+1} = x_{i} - \\frac{f(x_{i})(x_{i-1}-x_{i})}{f(x_{i-1})-f(x_{i})}$\n",
    "\n",
    "$|\\epsilon_{a}| = |\\frac{x_{i+1}-x_{i}}{x_{i+1}}| \\cdot 100\\% $"
   ]
  },
  {
   "cell_type": "code",
   "execution_count": 36,
   "id": "middle-spice",
   "metadata": {
    "ExecuteTime": {
     "end_time": "2021-04-04T11:07:34.869740Z",
     "start_time": "2021-04-04T11:07:34.842584Z"
    },
    "scrolled": false
   },
   "outputs": [
    {
     "name": "stdout",
     "output_type": "stream",
     "text": [
      "0.953676344858943 \n",
      "\n",
      "        x      xi     xii     rae   f(xi)  f(xi-1)  xi-1 - xi\n",
      "0  1.0500  0.5000  1.0375  0.5181  1.9670  -0.0456     0.5500\n",
      "1  0.5000  1.0375  1.0255  0.0117 -0.0450   1.9670    -0.5375\n",
      "2  1.0375  1.0255  0.7666  0.3378 -0.0430  -0.0450     0.0120\n",
      "3  1.0255  0.7666  1.0009  0.2341  0.4082  -0.0430     0.2589\n",
      "4  0.7666  1.0009  0.9826  0.0185 -0.0344   0.4082    -0.2343\n",
      "5  1.0009  0.9826  0.9403  0.0450 -0.0241  -0.0344     0.0182\n",
      "6  0.9826  0.9403  0.9559  0.0163  0.0140  -0.0241     0.0423\n",
      "7  0.9403  0.9559  0.9537  0.0023 -0.0023   0.0140    -0.0156\n"
     ]
    }
   ],
   "source": [
    "table = {\n",
    "    'x': [],\n",
    "    'xi': [],\n",
    "    'xii': [],\n",
    "    'rae': [],\n",
    "    \"f(xi)\": [],\n",
    "    \"f(xi-1)\": [],\n",
    "    \"xi-1 - xi\": [], \n",
    "}\n",
    "\n",
    "\n",
    "# ====== Ganti f(x) ======\n",
    "def f(x):\n",
    "    return 9.34-21.97*x+16.3*(x**2)-3.704*(x**3)\n",
    "\n",
    "\n",
    "def secant(x, xi, rae=9999, iter=0):\n",
    "    xii = xi - (f(xi)*(x-xi))/(f(x)-f(xi))\n",
    "    rae = abs((xii-xi)/xii)\n",
    "\n",
    "    table['x'].append(x)\n",
    "    table['xi'].append(xi)\n",
    "    table['xii'].append(xii)\n",
    "    table['rae'].append(rae)\n",
    "    table['f(xi-1)'].append(f(x))\n",
    "    table['f(xi)'].append(f(xi))\n",
    "    table['xi-1 - xi'].append(x - xi)\n",
    "\n",
    "    if iter < 100 and rae >= es:\n",
    "        return secant(xi, xii, rae, iter+1)\n",
    "\n",
    "    return xii\n",
    "\n",
    "\n",
    "# ====== Ganti Titik Awal ======\n",
    "x0 = 1.05\n",
    "x1 = 0.5\n",
    "es = 0.005\n",
    "\n",
    "result = secant(x0, x1)\n",
    "\n",
    "print(result, \"\\n\")\n",
    "# showGraph(result, 10)\n",
    "# showGraph(result, 1)\n",
    "print(pd.DataFrame(table).round(4))"
   ]
  },
  {
   "cell_type": "markdown",
   "id": "suitable-concentrate",
   "metadata": {},
   "source": [
    "# Fixed Point Iteration"
   ]
  },
  {
   "cell_type": "code",
   "execution_count": 39,
   "id": "detailed-beads",
   "metadata": {
    "ExecuteTime": {
     "end_time": "2021-04-04T13:34:00.172525Z",
     "start_time": "2021-04-04T13:34:00.136182Z"
    },
    "scrolled": false
   },
   "outputs": [
    {
     "name": "stdout",
     "output_type": "stream",
     "text": [
      "3.562695142175923 \n",
      "\n",
      "          xi     f(xi)\n",
      "0   3.000000 -3.200000\n",
      "1   3.058126 -3.091133\n",
      "2   3.112250 -2.949416\n",
      "3   3.162194 -2.782441\n",
      "4   3.207907 -2.597848\n",
      "5   3.249441 -2.402806\n",
      "6   3.286934 -2.203666\n",
      "7   3.320583 -2.005757\n",
      "8   3.350628 -1.813321\n",
      "9   3.377335 -1.629544\n",
      "10  3.400979 -1.456648\n",
      "11  3.421840 -1.296029\n",
      "12  3.440189 -1.148398\n",
      "13  3.456286 -1.013933\n",
      "14  3.470375 -0.892403\n",
      "15  3.482681 -0.783288\n",
      "16  3.493411 -0.685873\n",
      "17  3.502753 -0.599327\n",
      "18  3.510875 -0.522756\n",
      "19  3.517930 -0.455254\n",
      "20  3.524050 -0.395929\n",
      "21  3.529355 -0.343930\n",
      "22  3.533951 -0.298455\n",
      "23  3.537930 -0.258765\n",
      "24  3.541372 -0.224182\n",
      "25  3.544349 -0.194092\n",
      "26  3.546922 -0.167945\n",
      "27  3.549145 -0.145249\n",
      "28  3.551066 -0.125567\n",
      "29  3.552725 -0.108512\n",
      "30  3.554157 -0.093743\n",
      "31  3.555394 -0.080963\n",
      "32  3.556461 -0.069908\n",
      "33  3.557382 -0.060350\n",
      "34  3.558176 -0.052090\n",
      "35  3.558862 -0.044954\n",
      "36  3.559453 -0.038790\n",
      "37  3.559964 -0.033468\n",
      "38  3.560404 -0.028873\n",
      "39  3.560783 -0.024907\n",
      "40  3.561111 -0.021484\n",
      "41  3.561393 -0.018530\n",
      "42  3.561636 -0.015982\n",
      "43  3.561846 -0.013783\n",
      "44  3.562027 -0.011886\n",
      "45  3.562184 -0.010250\n",
      "46  3.562318 -0.008839\n",
      "47  3.562434 -0.007622\n",
      "48  3.562534 -0.006573\n",
      "49  3.562621 -0.005668\n",
      "50  3.562695 -0.004887\n"
     ]
    }
   ],
   "source": [
    "table = {\n",
    "    'xi': [],\n",
    "    'f(xi)': []\n",
    "}\n",
    "\n",
    "# ====== ganti f(x) ======\n",
    "\n",
    "\n",
    "def f(x):\n",
    "    return 2*(x**3) - 11.7*(x**2) + 17.7*x - 5\n",
    "\n",
    "\n",
    "# ====== ganti g(x)\n",
    "def g(x):\n",
    "    return ((11.7*(x**2) - 17.7*x + 5)/2)**(1/3)\n",
    "\n",
    "\n",
    "def fixedPointIteration(xi, iter=0):\n",
    "    f_xi = f(xi)\n",
    "\n",
    "    table['xi'].append(xi)\n",
    "    table['f(xi)'].append(f_xi)\n",
    "\n",
    "    xii = g(xi)\n",
    "\n",
    "    if iter < 100 and abs(f_xi) >= es:\n",
    "        return fixedPointIteration(xii, iter+1)\n",
    "\n",
    "    return xi\n",
    "\n",
    "\n",
    "x0 = 3\n",
    "\n",
    "result = fixedPointIteration(x0)\n",
    "\n",
    "print(result, \"\\n\")\n",
    "print(pd.DataFrame(table))"
   ]
  },
  {
   "cell_type": "code",
   "execution_count": null,
   "id": "regular-moldova",
   "metadata": {},
   "outputs": [],
   "source": []
  }
 ],
 "metadata": {
  "kernelspec": {
   "display_name": "Python 3",
   "language": "python",
   "name": "python3"
  },
  "language_info": {
   "codemirror_mode": {
    "name": "ipython",
    "version": 3
   },
   "file_extension": ".py",
   "mimetype": "text/x-python",
   "name": "python",
   "nbconvert_exporter": "python",
   "pygments_lexer": "ipython3",
   "version": "3.8.6"
  },
  "toc": {
   "base_numbering": 1,
   "nav_menu": {},
   "number_sections": true,
   "sideBar": true,
   "skip_h1_title": false,
   "title_cell": "Table of Contents",
   "title_sidebar": "Contents",
   "toc_cell": false,
   "toc_position": {},
   "toc_section_display": true,
   "toc_window_display": false
  },
  "varInspector": {
   "cols": {
    "lenName": 16,
    "lenType": 16,
    "lenVar": 40
   },
   "kernels_config": {
    "python": {
     "delete_cmd_postfix": "",
     "delete_cmd_prefix": "del ",
     "library": "var_list.py",
     "varRefreshCmd": "print(var_dic_list())"
    },
    "r": {
     "delete_cmd_postfix": ") ",
     "delete_cmd_prefix": "rm(",
     "library": "var_list.r",
     "varRefreshCmd": "cat(var_dic_list()) "
    }
   },
   "types_to_exclude": [
    "module",
    "function",
    "builtin_function_or_method",
    "instance",
    "_Feature"
   ],
   "window_display": false
  }
 },
 "nbformat": 4,
 "nbformat_minor": 5
}
