{
 "cells": [
  {
   "cell_type": "code",
   "execution_count": 1,
   "id": "surgical-exhibit",
   "metadata": {
    "ExecuteTime": {
     "end_time": "2021-03-01T08:31:45.171387Z",
     "start_time": "2021-03-01T08:31:44.797685Z"
    }
   },
   "outputs": [],
   "source": [
    "import numpy as np\n",
    "import pandas as pd"
   ]
  },
  {
   "cell_type": "markdown",
   "id": "female-offer",
   "metadata": {},
   "source": [
    "## Kumpulan Matrix"
   ]
  },
  {
   "cell_type": "markdown",
   "id": "cross-honor",
   "metadata": {},
   "source": [
    "### Ruas kiri dan kanan jadi 1 matrix"
   ]
  },
  {
   "cell_type": "code",
   "execution_count": null,
   "id": "fourth-temple",
   "metadata": {},
   "outputs": [],
   "source": [
    "# 3x + y - z = 5\n",
    "# 4x + 7z - 3z = 20\n",
    "# 2x -2y + 5z = 10\n",
    "\n",
    "matrix = np.array([[3.,  1., -1.,  5.],\n",
    "                   [4.,  7., -3., 20.],\n",
    "                   [2., -2.,  5., 10.]])\n",
    "\n",
    "# hasil = [1.5060241  3.13253012 2.65060241]"
   ]
  },
  {
   "cell_type": "code",
   "execution_count": null,
   "id": "eight-extra",
   "metadata": {},
   "outputs": [],
   "source": [
    "matrix = np.array([[ 1., 1.,  1.,  1., 13.],\n",
    "                   [ 2., 3.,  0., -1.,  1.],\n",
    "                   [-3., 4.,  1.,  2., 10.],\n",
    "                   [ 1., 2., -1.,  1.,  1.]])\n",
    "\n",
    "# hasil = [2.11111111 0.37037037 6.18518519 4.33333333]"
   ]
  },
  {
   "cell_type": "markdown",
   "id": "included-phenomenon",
   "metadata": {},
   "source": [
    "### Ruas kiri matrix A, ruas kanan matrix B"
   ]
  },
  {
   "cell_type": "code",
   "execution_count": null,
   "id": "humanitarian-optimum",
   "metadata": {},
   "outputs": [],
   "source": [
    "A = np.array([[3., 1., -1.],\n",
    "              [4., 7., -3.],\n",
    "              [2., -2., 5.]])\n",
    "\n",
    "B = np.array([[ 5.], \n",
    "              [20.], \n",
    "              [10.]])\n",
    "\n",
    "# hasil = [1.5060241  3.13253012 2.65060241]"
   ]
  },
  {
   "cell_type": "code",
   "execution_count": null,
   "id": "ethical-grocery",
   "metadata": {},
   "outputs": [],
   "source": [
    "# |   1   1   1   1 | | x |   | 13 |\n",
    "# |   2   3   0  -1 | | y | = |  1 |\n",
    "# |  -3   4   1   2 | | z |   | 10 |\n",
    "# |   1   2  -1   1 | | w |   |  1 |\n",
    "\n",
    "A = np.array([[ 1.,  1.,  1.,  1.],\n",
    "              [ 2.,  3.,  0., -1.],\n",
    "              [-3., 4.,  1.,  2.],\n",
    "              [ 1.,  2., -1.,  1.]])\n",
    "\n",
    "B = np.array([[13.],\n",
    "              [ 1.],\n",
    "              [10.],\n",
    "              [ 1.]])\n",
    "\n",
    "# hasil = [2.11111111 0.37037037 6.18518519 4.33333333]"
   ]
  },
  {
   "cell_type": "markdown",
   "id": "quick-springfield",
   "metadata": {},
   "source": [
    "## Metode Eliminasi Gauss"
   ]
  },
  {
   "cell_type": "markdown",
   "id": "backed-calendar",
   "metadata": {},
   "source": [
    "### Manual"
   ]
  },
  {
   "cell_type": "code",
   "execution_count": 101,
   "id": "selected-harbor",
   "metadata": {
    "ExecuteTime": {
     "end_time": "2021-03-01T10:24:07.141675Z",
     "start_time": "2021-03-01T10:24:07.112101Z"
    }
   },
   "outputs": [
    {
     "name": "stdout",
     "output_type": "stream",
     "text": [
      "matrix\n",
      "[[1.         0.         0.         1.5060241 ]\n",
      " [0.         1.         0.         3.13253012]\n",
      " [0.         0.         1.         2.65060241]]\n",
      "\n",
      "hasil\n",
      "[1.5060241  3.13253012 2.65060241]\n"
     ]
    }
   ],
   "source": [
    "matrix = np.array([[3., 1., -1., 5.],\n",
    "                   [4., 7., -3., 20.],\n",
    "                   [2., -2., 5., 10.]])\n",
    "\n",
    "size = matrix[:, 0].size\n",
    "\n",
    "for i in range(0, size-1):\n",
    "    matrix[i] = matrix[i]/matrix[i][i]\n",
    "    for j in range(i, size-1):\n",
    "        matrix[j+1] = matrix[j+1] - matrix[j+1][i]*matrix[i]\n",
    "\n",
    "matrix[size-1] = matrix[size-1]/matrix[size-1][size-1]\n",
    "\n",
    "# sampai sini sudah membentuk segitiga atas\n",
    "\n",
    "for i in range(0, size-1):\n",
    "    ii = size-i-2  # ... 2 1 0\n",
    "    for j in range(i, size-1):\n",
    "        jj = size-j-2 # ... 2 1 0\n",
    "        matrix[jj][size] -= matrix[jj][ii+1] * matrix[ii+1][size]\n",
    "        matrix[jj][ii+1] = 0\n",
    "        \n",
    "# malah jadi gauss-jordan :)\n",
    "\n",
    "print(\"matrix\", matrix, sep=\"\\n\")\n",
    "\n",
    "hasil = matrix[:, size]\n",
    "print(\"\\nhasil\", hasil, sep=\"\\n\")"
   ]
  },
  {
   "cell_type": "markdown",
   "id": "minimal-coaching",
   "metadata": {},
   "source": [
    "### Numpy `np.linalg.solve(A, B)`"
   ]
  },
  {
   "cell_type": "code",
   "execution_count": 70,
   "id": "nutritional-straight",
   "metadata": {
    "ExecuteTime": {
     "end_time": "2021-03-01T09:14:11.390957Z",
     "start_time": "2021-03-01T09:14:11.363524Z"
    }
   },
   "outputs": [
    {
     "name": "stdout",
     "output_type": "stream",
     "text": [
      "[[2.11111111]\n",
      " [0.37037037]\n",
      " [6.18518519]\n",
      " [4.33333333]]\n"
     ]
    }
   ],
   "source": [
    "# cara magic\n",
    "# https://radiokuantum.wordpress.com/2018/03/22/menyelesaikan-persamaan-linear-multi-variabel-dengan-menggunakan-python-dan-numpy/\n",
    "\n",
    "# |   1   1   1   1 | | x |   | 13 |\n",
    "# |   2   3   0  -1 | | y | = |  1 |\n",
    "# |  -3   4   1   2 | | z |   | 10 |\n",
    "# |   1   2  -1   1 | | w |   |  1 |\n",
    "\n",
    "A = np.array([[1, 1, 1, 1],\n",
    "              [2, 3, 0, -1],\n",
    "              [-3, 4, 1, 2],\n",
    "              [1, 2, -1, 1]])\n",
    "\n",
    "B = np.array([[13],\n",
    "              [1],\n",
    "              [10],\n",
    "              [1]])\n",
    "\n",
    "x = np.linalg.solve(A, B)\n",
    "print(x)"
   ]
  }
 ],
 "metadata": {
  "kernelspec": {
   "display_name": "Python 3",
   "language": "python",
   "name": "python3"
  },
  "language_info": {
   "codemirror_mode": {
    "name": "ipython",
    "version": 3
   },
   "file_extension": ".py",
   "mimetype": "text/x-python",
   "name": "python",
   "nbconvert_exporter": "python",
   "pygments_lexer": "ipython3",
   "version": "3.8.6"
  },
  "toc": {
   "base_numbering": 1,
   "nav_menu": {},
   "number_sections": true,
   "sideBar": true,
   "skip_h1_title": false,
   "title_cell": "Table of Contents",
   "title_sidebar": "Contents",
   "toc_cell": false,
   "toc_position": {
    "height": "calc(100% - 180px)",
    "left": "10px",
    "top": "150px",
    "width": "273.188px"
   },
   "toc_section_display": true,
   "toc_window_display": false
  },
  "varInspector": {
   "cols": {
    "lenName": 16,
    "lenType": 16,
    "lenVar": 40
   },
   "kernels_config": {
    "python": {
     "delete_cmd_postfix": "",
     "delete_cmd_prefix": "del ",
     "library": "var_list.py",
     "varRefreshCmd": "print(var_dic_list())"
    },
    "r": {
     "delete_cmd_postfix": ") ",
     "delete_cmd_prefix": "rm(",
     "library": "var_list.r",
     "varRefreshCmd": "cat(var_dic_list()) "
    }
   },
   "types_to_exclude": [
    "module",
    "function",
    "builtin_function_or_method",
    "instance",
    "_Feature"
   ],
   "window_display": false
  }
 },
 "nbformat": 4,
 "nbformat_minor": 5
}
