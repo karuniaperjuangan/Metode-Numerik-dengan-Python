{
 "cells": [
  {
   "cell_type": "markdown",
   "id": "united-piano",
   "metadata": {
    "ExecuteTime": {
     "end_time": "2021-03-03T02:07:31.926036Z",
     "start_time": "2021-03-03T02:07:31.911966Z"
    }
   },
   "source": [
    "# Import Packages\n",
    "\n",
    "[LaTeX Editor](https://latex.codecogs.com/eqneditor/editor.php)"
   ]
  },
  {
   "cell_type": "code",
   "execution_count": 5,
   "id": "crude-trader",
   "metadata": {
    "ExecuteTime": {
     "end_time": "2021-03-16T09:21:46.277585Z",
     "start_time": "2021-03-16T09:21:41.174466Z"
    },
    "scrolled": false
   },
   "outputs": [],
   "source": [
    "# Run cell ini dulu!!!\n",
    "\n",
    "import numpy as np\n",
    "import pandas as pd\n",
    "from matplotlib import pyplot as plt\n",
    "\n",
    "\n",
    "def showGraph(result, range):\n",
    "    x = np.arange(result-range, result+range, 0.01)\n",
    "    y = f(x)\n",
    "    y1 = 0\n",
    "    plt.clf()\n",
    "    plt.plot(x, y)\n",
    "    plt.plot(x, 0/x)\n",
    "    plt.grid()\n",
    "    plt.show()"
   ]
  },
  {
   "cell_type": "markdown",
   "id": "living-exposure",
   "metadata": {},
   "source": [
    "# Bisection Method\n",
    "\n",
    "$x_{mid} = \\frac{x_{low}+x_{up}}{2}$\n",
    "\n",
    "$|\\epsilon_{a}| = |\\frac{x_{mid}^{new}-x_{mid}^{old}}{x_{mid}^{new}}| \\cdot 100\\%$"
   ]
  },
  {
   "cell_type": "code",
   "execution_count": 7,
   "id": "electronic-blend",
   "metadata": {
    "ExecuteTime": {
     "end_time": "2021-03-16T09:24:59.789088Z",
     "start_time": "2021-03-16T09:24:59.735973Z"
    },
    "scrolled": false
   },
   "outputs": [
    {
     "name": "stdout",
     "output_type": "stream",
     "text": [
      "2.0048828125 \n",
      "\n",
      "       xlow       xup      xmid       rae   f(xlow)    f(xmid)\n",
      "0  1.000000  8.000000  4.500000           -7.000000  26.250000\n",
      "1  1.000000  4.500000  2.750000  0.636364 -7.000000   6.562500\n",
      "2  1.000000  2.750000  1.875000  0.466667 -7.000000  -0.984375\n",
      "3  1.875000  2.750000  2.312500  0.189189 -0.984375   2.597656\n",
      "4  1.875000  2.312500  2.093750  0.104478 -0.984375   0.758789\n",
      "5  1.875000  2.093750  1.984375  0.055118 -0.984375  -0.124756\n",
      "6  1.984375  2.093750  2.039062   0.02682 -0.124756   0.314026\n",
      "7  1.984375  2.039062  2.011719  0.013592 -0.124756   0.093887\n",
      "8  1.984375  2.011719  1.998047  0.006843 -0.124756  -0.015621\n",
      "9  1.998047  2.011719  2.004883   0.00341 -0.015621   0.039086\n"
     ]
    }
   ],
   "source": [
    "table = {\n",
    "    'xlow': [],\n",
    "    'xup': [],\n",
    "    'xmid': [],\n",
    "    'rae': [],\n",
    "    'f(xlow)': [],\n",
    "    'f(xmid)': []\n",
    "}\n",
    "\n",
    "\n",
    "# ====== Ganti f(x) ======\n",
    "def f(x):\n",
    "    return x**2 + 4*x - 12\n",
    "\n",
    "\n",
    "def bisection(xlow, xup, xmidold=9999, rae=9999, iter=0):\n",
    "    xmid = (xlow + xup)/2\n",
    "    rae = abs((xmid-xmidold)/xmid)\n",
    "    f_xlow = f(xlow)\n",
    "    f_xmid = f(xmid)\n",
    "\n",
    "    table['xlow'].append(xlow)\n",
    "    table['xup'].append(xup)\n",
    "    table['xmid'].append(xmid)\n",
    "    if iter > 0:\n",
    "        table['rae'].append(rae)\n",
    "    else:\n",
    "        table['rae'].append('')\n",
    "    table['f(xlow)'].append(f_xlow)\n",
    "    table['f(xmid)'].append(f_xmid)\n",
    "\n",
    "    if iter > 100 or rae < es:\n",
    "        return xmid\n",
    "\n",
    "    if f_xlow * f_xmid < 0:\n",
    "        return bisection(xlow, xmid, xmid, rae, iter+1)\n",
    "    elif f_xlow * f_xmid > 0:\n",
    "        return bisection(xmid, xup, xmid, rae, iter+1)\n",
    "\n",
    "    return xmid\n",
    "\n",
    "\n",
    "# ====== Ganti Titik Awal ======\n",
    "xlow = 1\n",
    "xup = 8\n",
    "es = 0.005 # 0.5%\n",
    "\n",
    "result = bisection(xlow, xup)\n",
    "\n",
    "print(result, \"\\n\")\n",
    "# showGraph(result, 5)\n",
    "# showGraph(result, 1)\n",
    "print(pd.DataFrame(table))"
   ]
  },
  {
   "cell_type": "markdown",
   "id": "retained-petite",
   "metadata": {},
   "source": [
    "# False Position Method\n",
    "\n",
    "$x_{mid} = x_{up} - \\frac{f(x_{up})(x_{low}-x_{up})}{f(x_{low})-f(x_{up})}$\n",
    "\n",
    "$|\\epsilon_{a}| = |\\frac{x_{mid}^{new}-x_{mid}^{old}}{x_{mid}^{new}}| \\cdot 100\\%$"
   ]
  },
  {
   "cell_type": "code",
   "execution_count": 8,
   "id": "leading-haven",
   "metadata": {
    "ExecuteTime": {
     "end_time": "2021-03-16T09:34:19.596835Z",
     "start_time": "2021-03-16T09:34:19.514230Z"
    },
    "scrolled": false
   },
   "outputs": [
    {
     "name": "stdout",
     "output_type": "stream",
     "text": [
      "1.9929246656443507 \n",
      "\n",
      "       xlow  xup      xmid       rae   f(xlow)   f(xmid)\n",
      "0  1.000000    8  1.538462           -7.000000 -3.479290\n",
      "1  1.538462    8  1.795455  0.143135 -3.479290 -1.594525\n",
      "2  1.795455    8  1.911038  0.060482 -1.594525 -0.703783\n",
      "3  1.911038    8  1.961630  0.025791 -0.703783 -0.305491\n",
      "4  1.961630    8  1.983510  0.011031 -0.305491 -0.131645\n",
      "5  1.983510    8  1.992925  0.004724 -0.131645 -0.056553\n"
     ]
    }
   ],
   "source": [
    "table = {\n",
    "    'xlow': [],\n",
    "    'xup': [],\n",
    "    'xmid': [],\n",
    "    'rae': [],\n",
    "    'f(xlow)': [],\n",
    "    'f(xmid)': []\n",
    "}\n",
    "\n",
    "\n",
    "# ====== Ganti f(x) ======\n",
    "def f(x):\n",
    "    return x**2 + 4*x - 12\n",
    "\n",
    "\n",
    "def falsePosition(xlow, xup, xmidold=9999, rae=9999, iter=0):\n",
    "    xmid = xup - (f(xup)*(xlow-xup))/(f(xlow)-f(xup))\n",
    "    rae = abs((xmid-xmidold)/xmid)\n",
    "    f_xlow = f(xlow)\n",
    "    f_xmid = f(xmid)\n",
    "\n",
    "    table['xlow'].append(xlow)\n",
    "    table['xup'].append(xup)\n",
    "    table['xmid'].append(xmid)\n",
    "    if iter > 0:\n",
    "        table['rae'].append(rae)\n",
    "    else:\n",
    "        table['rae'].append('')\n",
    "    table['f(xlow)'].append(f_xlow)\n",
    "    table['f(xmid)'].append(f_xmid)\n",
    "\n",
    "    if iter > 100 or rae < es:\n",
    "        return xmid\n",
    "\n",
    "    if f_xlow * f_xmid < 0:\n",
    "        return falsePosition(xlow, xmid, xmid, rae, iter+1)\n",
    "    elif f_xlow * f_xmid > 0:\n",
    "        return falsePosition(xmid, xup, xmid, rae, iter+1)\n",
    "\n",
    "    return xmid\n",
    "\n",
    "\n",
    "# ====== Ganti Titik Awal ======\n",
    "xlow = 1\n",
    "xup = 8\n",
    "es = 0.005\n",
    "\n",
    "result = falsePosition(xlow, xup)\n",
    "\n",
    "print(result, \"\\n\")\n",
    "# showGraph(result, 5)\n",
    "# showGraph(result, 1)\n",
    "print(pd.DataFrame(table))"
   ]
  },
  {
   "cell_type": "markdown",
   "id": "impressive-photograph",
   "metadata": {},
   "source": [
    "# Newton Raphson Method\n",
    "\n",
    "$x_{i+1} = x_{i} - \\frac{f(x_{i})}{f'(x_{i})}$\n",
    "\n",
    "$|\\epsilon_{a}| = |\\frac{x_{i+1}-x_{i}}{x_{i+1}}| \\cdot 100\\% $"
   ]
  },
  {
   "cell_type": "code",
   "execution_count": 9,
   "id": "twenty-syndication",
   "metadata": {
    "ExecuteTime": {
     "end_time": "2021-03-16T09:43:47.298185Z",
     "start_time": "2021-03-16T09:43:47.244579Z"
    },
    "scrolled": false
   },
   "outputs": [
    {
     "name": "stdout",
     "output_type": "stream",
     "text": [
      "0.9534642694341398 \n",
      "\n",
      "         xi       xii       rae\n",
      "0  0.500000  0.732836  0.317719\n",
      "1  0.732836  0.865200  0.152986\n",
      "2  0.865200  0.929695  0.069372\n",
      "3  0.929695  0.950871  0.022270\n",
      "4  0.950871  0.953464  0.002720\n"
     ]
    }
   ],
   "source": [
    "table = {\n",
    "    'xi': [],\n",
    "    'xii': [],\n",
    "    'rae': []\n",
    "}\n",
    "\n",
    "\n",
    "# ====== Ganti f(x) ======\n",
    "def f(x):\n",
    "    return 9.34-21.97*x+16.3*(x**2)-3.704*(x**3)\n",
    "\n",
    "\n",
    "# ====== Ganti f'(x) ======\n",
    "def fa(x):\n",
    "    return -21.97 + 32.6*x - 3*3.704*(x**2)\n",
    "\n",
    "\n",
    "def newtonRaphson(xi, rae=9999, iter=0):\n",
    "    xii = xi - f(xi)/fa(xi)\n",
    "    rae = abs((xii-xi)/xii)\n",
    "\n",
    "    table['xi'].append(xi)\n",
    "    table['xii'].append(xii)\n",
    "    table['rae'].append(rae)\n",
    "\n",
    "    if iter < 100 and rae >= es:\n",
    "        return newtonRaphson(xii, rae, iter+1)\n",
    "\n",
    "    return xii\n",
    "\n",
    "\n",
    "# ====== Ganti Titik Awal ======\n",
    "x0 = 0.5\n",
    "es = 0.005\n",
    "\n",
    "result = newtonRaphson(x0)\n",
    "\n",
    "print(result, \"\\n\")\n",
    "# showGraph(result, 10)\n",
    "# showGraph(result, 1)\n",
    "print(pd.DataFrame(table))"
   ]
  },
  {
   "cell_type": "markdown",
   "id": "norwegian-dollar",
   "metadata": {},
   "source": [
    "# Secant Method\n",
    "\n",
    "$x_{i+1} = x_{i} - \\frac{f(x_{i})(x_{i-1}-x_{i})}{f(x_{i-1})-f(x_{i})}$\n",
    "\n",
    "$|\\epsilon_{a}| = |\\frac{x_{i+1}-x_{i}}{x_{i+1}}| \\cdot 100\\% $"
   ]
  },
  {
   "cell_type": "code",
   "execution_count": 10,
   "id": "middle-spice",
   "metadata": {
    "ExecuteTime": {
     "end_time": "2021-03-16T09:50:15.839322Z",
     "start_time": "2021-03-16T09:50:15.774017Z"
    },
    "scrolled": false
   },
   "outputs": [
    {
     "name": "stdout",
     "output_type": "stream",
     "text": [
      "0.953676344858943 \n",
      "\n",
      "          x        xi       xii       rae\n",
      "0  1.050000  0.500000  1.037540  0.518091\n",
      "1  0.500000  1.037540  1.025523  0.011718\n",
      "2  1.037540  1.025523  0.766594  0.337765\n",
      "3  1.025523  0.766594  1.000857  0.234062\n",
      "4  0.766594  1.000857  0.982646  0.018532\n",
      "5  1.000857  0.982646  0.940346  0.044984\n",
      "6  0.982646  0.940346  0.955909  0.016281\n",
      "7  0.940346  0.955909  0.953676  0.002341\n"
     ]
    }
   ],
   "source": [
    "table = {\n",
    "    'x': [],\n",
    "    'xi': [],\n",
    "    'xii': [],\n",
    "    'rae': []\n",
    "}\n",
    "\n",
    "\n",
    "# ====== Ganti f(x) ======\n",
    "def f(x):\n",
    "    return 9.34-21.97*x+16.3*(x**2)-3.704*(x**3)\n",
    "\n",
    "\n",
    "def secant(x, xi, rae=9999, iter=0):\n",
    "    xii = xi - (f(xi)*(x-xi))/(f(x)-f(xi))\n",
    "    rae = abs((xii-xi)/xii)\n",
    "\n",
    "    table['x'].append(x)\n",
    "    table['xi'].append(xi)\n",
    "    table['xii'].append(xii)\n",
    "    table['rae'].append(rae)\n",
    "\n",
    "    if iter < 100 and rae >= es:\n",
    "        return secant(xi, xii, rae, iter+1)\n",
    "\n",
    "    return xii\n",
    "\n",
    "\n",
    "# ====== Ganti Titik Awal ======\n",
    "x0 = 1.05\n",
    "x1 = 0.5\n",
    "es = 0.005\n",
    "\n",
    "result = secant(x0, x1)\n",
    "\n",
    "print(result, \"\\n\")\n",
    "# showGraph(result, 10)\n",
    "# showGraph(result, 1)\n",
    "print(pd.DataFrame(table))"
   ]
  },
  {
   "cell_type": "markdown",
   "id": "suitable-concentrate",
   "metadata": {},
   "source": [
    "# Fixed Point Iteration"
   ]
  },
  {
   "cell_type": "code",
   "execution_count": 3,
   "id": "detailed-beads",
   "metadata": {
    "ExecuteTime": {
     "end_time": "2021-03-16T09:07:47.659975Z",
     "start_time": "2021-03-16T09:07:47.633508Z"
    },
    "scrolled": false
   },
   "outputs": [
    {
     "name": "stdout",
     "output_type": "stream",
     "text": [
      "\n",
      "\n",
      "*** FIXED POINT ITERATION ***\n",
      "Iteration-1, x1 = 0.707107 and f(x1) = -0.146447\n",
      "Iteration-2, x1 = 0.765367 and f(x1) = 0.034128\n",
      "Iteration-3, x1 = 0.752632 and f(x1) = -0.007214\n",
      "Iteration-4, x1 = 0.755361 and f(x1) = 0.001557\n",
      "\n",
      "Required root is: 0.75536119\n"
     ]
    }
   ],
   "source": [
    "# Fixed Point Iteration Method\n",
    "# Importing math to use sqrt function\n",
    "import math\n",
    "\n",
    "\n",
    "def f(x):\n",
    "    return x*x*x + x*x - 1\n",
    "\n",
    "# Re-writing f(x)=0 to x = g(x)\n",
    "\n",
    "\n",
    "def g(x):\n",
    "    return 1/math.sqrt(1+x)\n",
    "\n",
    "# Implementing Fixed Point Iteration Method\n",
    "\n",
    "\n",
    "def fixedPointIteration(x0, e, N):\n",
    "    print('\\n\\n*** FIXED POINT ITERATION ***')\n",
    "    step = 1\n",
    "    flag = 1\n",
    "    condition = True\n",
    "    while condition:\n",
    "        x1 = g(x0)\n",
    "        print('Iteration-%d, x1 = %0.6f and f(x1) = %0.6f' % (step, x1, f(x1)))\n",
    "        x0 = x1\n",
    "\n",
    "        step = step + 1\n",
    "\n",
    "        if step > N:\n",
    "            flag = 0\n",
    "            break\n",
    "\n",
    "        condition = abs(f(x1)) > e\n",
    "\n",
    "    if flag == 1:\n",
    "        print('\\nRequired root is: %0.8f' % x1)\n",
    "    else:\n",
    "        print('\\nNot Convergent.')\n",
    "\n",
    "\n",
    "# Input Section\n",
    "x0 = 1\n",
    "e = 0.005\n",
    "N = 100\n",
    "\n",
    "fixedPointIteration(x0, e, N)"
   ]
  },
  {
   "cell_type": "code",
   "execution_count": null,
   "id": "regular-moldova",
   "metadata": {},
   "outputs": [],
   "source": []
  }
 ],
 "metadata": {
  "kernelspec": {
   "display_name": "Python 3",
   "language": "python",
   "name": "python3"
  },
  "language_info": {
   "codemirror_mode": {
    "name": "ipython",
    "version": 3
   },
   "file_extension": ".py",
   "mimetype": "text/x-python",
   "name": "python",
   "nbconvert_exporter": "python",
   "pygments_lexer": "ipython3",
   "version": "3.8.6"
  },
  "toc": {
   "base_numbering": 1,
   "nav_menu": {},
   "number_sections": true,
   "sideBar": true,
   "skip_h1_title": false,
   "title_cell": "Table of Contents",
   "title_sidebar": "Contents",
   "toc_cell": false,
   "toc_position": {},
   "toc_section_display": true,
   "toc_window_display": false
  },
  "varInspector": {
   "cols": {
    "lenName": 16,
    "lenType": 16,
    "lenVar": 40
   },
   "kernels_config": {
    "python": {
     "delete_cmd_postfix": "",
     "delete_cmd_prefix": "del ",
     "library": "var_list.py",
     "varRefreshCmd": "print(var_dic_list())"
    },
    "r": {
     "delete_cmd_postfix": ") ",
     "delete_cmd_prefix": "rm(",
     "library": "var_list.r",
     "varRefreshCmd": "cat(var_dic_list()) "
    }
   },
   "types_to_exclude": [
    "module",
    "function",
    "builtin_function_or_method",
    "instance",
    "_Feature"
   ],
   "window_display": false
  }
 },
 "nbformat": 4,
 "nbformat_minor": 5
}
